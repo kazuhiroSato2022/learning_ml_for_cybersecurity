{
  "nbformat": 4,
  "nbformat_minor": 0,
  "metadata": {
    "colab": {
      "provenance": [],
      "gpuType": "T4"
    },
    "kernelspec": {
      "name": "python3",
      "display_name": "Python 3"
    },
    "language_info": {
      "name": "python"
    },
    "accelerator": "GPU",
    "gpuClass": "standard"
  },
  "cells": [
    {
      "cell_type": "markdown",
      "source": [
        "# [オンライン開催]セキュリティから学ぶ機械学習第6回\n",
        "今回最終回になりますが、現時点でのセキュリティ分野での機械学習について傾向や重要性について簡単にまとめたいと思います。"
      ],
      "metadata": {
        "id": "QB4HXCdmhM8G"
      }
    },
    {
      "cell_type": "markdown",
      "source": [
        "## Section0. 参考となるドキュメントや動画について\n",
        "*    [CJ Moses による2023 年以降のセキュリティに関する予測](https://d1.awsstatic.com/Security/Security_Predictions_e-book_2022_JP.pdf)\n",
        "*    [機械学習システムのセキュリティに関する研究動向と課題](https://www.imes.boj.or.jp/research/papers/japanese/kk38-1-6.pdf)\n",
        "*    [セキュリティにおける機械学習とは？](https://www.shadan-kun.com/blog/measure/5746/)\n",
        "*    [Tech in 2023: 6 new priorities for your shortlist](https://www.zdnet.com/article/tech-in-2023-6-new-priorities-for-your-shortlist/)\n",
        "*    [AI Safety と Security の研究動向：国際と国内・産学官Research Trend of Ai Safety and Security](https://www.iwsec.org/scis/2022/_abst/3B1-1.pdf)\n",
        "*    [6th DEEP LEARNING SECURITY AND PRIVACY WORKSHOP](https://dls2023.ieee-security.org/)\n",
        "*    [機械学習システムセキュリティガイドライン(動画)](https://www.youtube.com/watch?v=BL_H6RG5py8)\n",
        "*    [機械学習システムセキュリティガイドライン(Docs)](https://github.com/mlse-jssst/security-guideline/tree/main)\n",
        "*    [「IUPG（推定無罪）」深層学習フレームワークが良性コンテンツのアペンド攻撃検出率を向上](https://unit42.paloaltonetworks.jp/benign-append-attacks-iupg/)\n",
        "*    [DLS2021 4th Deep Learning And Security Workshop -- Part 1(動画)](https://www.youtube.com/watch?v=fMN5EjIL9P0)\n",
        "*    [DLS2021 4th Deep Learning And Security Workshop -- Part 2(動画)](https://www.youtube.com/watch?v=K-Amc6ik9sg)\n",
        "*    [サイバーセキュリティ分野の機械学習の未来](https://www.paloaltonetworks.jp/cybersecurity-perspectives/the-future-of-machine-learning-in-cybersecurity)\n",
        "*    [巧妙化する脅威からモバイルデバイスを守るVMware Workspace ONE MTD](https://japan.zdnet.com/extra/vmware_wizaas_202305/35203315/)  \n",
        "その他、多数  \n",
        "\n",
        "(※ニューラルネットについて、ものすごくわかりやすい動画 [しかし、ニューラルネットワークとは何ですか？ |ディープラーニング、第1章](https://www.youtube.com/watch?v=aircAruvnKk))"
      ],
      "metadata": {
        "id": "4g0Ru8rCnAT8"
      }
    },
    {
      "cell_type": "markdown",
      "source": [
        "## Section1. セキュリティ分野における機械学習の重要性\n",
        "今回のシリーズで学んできたことは、基本的なことにのみ留めています。一方で、上記参考の通り、そして実施してきた勉強会を通して、サイバーセキュリティ分野で機械学習の技術が使われている、攻撃者も機械学習を用いている、機械学習システムそのもののセキュリティも考慮しないといけない、など学べてかと思います。\n",
        "\n",
        "  \n",
        "今後６つのカテゴリでテクノロジーへの投資が優先的に行われると言及しています。\n",
        "\n",
        "*   **クラウドを機械学習の基盤として使用する**  \n",
        "「自動化された適切なMLOpsは、ゲームチェンジャーになり得る。小売や動きの速い消費財においては、きっとそうなるだろう。何といっても、オンラインで買い物をする人が増えているからだ。当社は百貨店のJohn Lewisで有名だが、オンライン移行の規模が非常に大きいため、データ関連のあらゆるものをリアルタイムかそれに近い形で移動することが、当社にとって非常に重要だ」(John Lewis Partnership社 Barry Panayi氏)\n",
        "*   **メタバースに備える**  \n",
        "「ある意味では、メタバースが次の大きなトレンドになるとは言いたくないし、メタバースとWeb3が2023年に本格的に普及するとも思わない。しかし、考え方を変えて、世界が今後5年でどのように変わっていくかを理解できるようにする必要があるとは思う」(KPMG社 Lisa Heneghan氏)\n",
        "*   **データの信頼性と説明可能性を確保する**  \n",
        "「現在のトレンドは、求人市場におけるデータ専門家の不足だと思う。今後もさらに逼迫するばかりだろう。これは英国市場の特徴であり、インドの市場や他のすべての市場の特徴でもあると思う」(NatWest社 David Charnley氏)\n",
        "*   **クラウドを最大限に活用する**  \n",
        "「どのテクノロジーリーダーと話しても、これが最初かその次に話題にのぼる。彼らが多大な投資をしているのは、いつもクラウドだ。今後数年はこれを続けるだろう」(Nash Squared社 Bev White氏)\n",
        "*   **サイバーセキュリティの懸念に対処する**  \n",
        "「ビジネスをオンラインにさらせばさらすほど、伴うリスクが増していく」  \n",
        "「サイバー犯罪やランサムウェアなど、現在起きていることの例については、毎週いくつも耳にしているが、その攻撃の多くについてはあまり聞かないはずだ。そのため、サイバーへの投資を拡大する必要性が今後も続くと考えられる」(Nash Squared社 Bev White氏)  \n",
        "「セキュリティとその懸念に対処することが大きなトレンドになると思う。間違いなく私が力を入れるべき点だ。自社のデータと顧客のデータを保護するための機能と保護対策を確実に用意する」\n",
        "(TrustFord社 Andy Pocock氏)\n",
        "*   **IoTを利用して制御する**  \n",
        "「当社は膨大な数のコネクテッドデバイスを使用している。IoTをさらに増やし、エンドポイントの制御を大幅に強化するとともに、さらに多くの機能をエンドポイントに接続するつもりだ」(Rentokil Initial社 Ed Higgs氏)  \n",
        "(引用元: [テクノロジー投資で重要視される6分野--2023年の優先事項](https://japan.zdnet.com/article/35197244/))\n",
        "\n",
        "**クラウドサービスとデータボリューム**  \n",
        "『クラウドサービスは地球上のほとんどあらゆる場所で使用できます。』  \n",
        "『クラウドが広く使用されるということは、データがクラウドに急\n",
        "速な勢いで保存されているということです。2020年に生成されたデータは、毎秒 1.7 MB で\n",
        "した。2025年には、463エクサバイトのデータが生成されるとする予測もあります。』  \n",
        "  \n",
        "機械学習システムが達成すべきセキュリティ目標としては、そのシステムで取り扱われるデー\n",
        "タや機能の機密性（confidentiality）・完全性（integrity）・可用性（availability）が求められます。機械学習システムの場合、例えば保護対象となりうるデータや機能は、①訓練デー\n",
        "タ、②学習モデル、③判定・予測エンジン、④判定・予測を行う対象となるデータ\n",
        "（判定・予測用データ）、⑤判定・予測用データを用いた判定・予測エンジンの出力（判定・予測結果）、⑥システム利用者が訓練データ提供者に還元するデータ（還元データ）、などになります。  \n",
        "\n",
        "例えば、訓練データに着目すれば、\n",
        "\n",
        "*   機密性の観点  \n",
        "訓練データ提供者にかかる機微な情報（個人情報等）が含まれているなどの場合には、そのようなデータの\n",
        "盗取を防ぐ必要があります。\n",
        "*   完全性の観点  \n",
        "訓練データの改変や不当なモデルの生成（機能の改変）が判定・予測に大きな影響を与える可能性がある場合には、そ\n",
        "れらを防ぐ必要があります\n",
        "*   可用性の観点  \n",
        "訓練データを訓練実行者に対して大量に送信する攻撃が行われ、訓練実行者の機能が低下する可能性がある場合に\n",
        "は、そのような攻撃を防ぐ必要があります\n",
        "  \n",
        "これら保護対象について、機密性、完全性、可用性の要否（およびその達成度合い）を検討したうえで、必要と判断したセグメントに関して、どのようなセキュリティ対策を講じるかを検討することが求められます。\n",
        "\n",
        "![任意の画像名を付ける](https://drive.google.com/uc?id=1bcshDhaAU3cBgrtNe4bVflUz596Wr5q2)\n",
        "【引用元: [機械学習システムのセキュリティに関する研究動向と課題](https://www.imes.boj.or.jp/research/papers/japanese/kk38-1-6.pdf)\n"
      ],
      "metadata": {
        "id": "F6mfcqy8qlPj"
      }
    },
    {
      "cell_type": "markdown",
      "source": [
        "## Section1. Twitter フィッシング検知サンプル"
      ],
      "metadata": {
        "id": "lkm8VYjtCdf8"
      }
    },
    {
      "cell_type": "code",
      "execution_count": 22,
      "metadata": {
        "colab": {
          "base_uri": "https://localhost:8080/"
        },
        "id": "qChyhAdSuPDR",
        "outputId": "daaae6d1-4ace-44f4-aa21-805d404b9577"
      },
      "outputs": [
        {
          "output_type": "stream",
          "name": "stdout",
          "text": [
            "--2023-05-26 23:48:02--  https://github.com/miiip/DefCampApplications/raw/main/TwitterPhising/TweetsElonMusk.csv\n",
            "Resolving github.com (github.com)... 20.205.243.166\n",
            "Connecting to github.com (github.com)|20.205.243.166|:443... connected.\n",
            "HTTP request sent, awaiting response... 302 Found\n",
            "Location: https://raw.githubusercontent.com/miiip/DefCampApplications/main/TwitterPhising/TweetsElonMusk.csv [following]\n",
            "--2023-05-26 23:48:02--  https://raw.githubusercontent.com/miiip/DefCampApplications/main/TwitterPhising/TweetsElonMusk.csv\n",
            "Resolving raw.githubusercontent.com (raw.githubusercontent.com)... 185.199.108.133, 185.199.109.133, 185.199.110.133, ...\n",
            "Connecting to raw.githubusercontent.com (raw.githubusercontent.com)|185.199.108.133|:443... connected.\n",
            "HTTP request sent, awaiting response... 200 OK\n",
            "Length: 5468365 (5.2M) [text/plain]\n",
            "Saving to: ‘TweetsElonMusk.csv’\n",
            "\n",
            "TweetsElonMusk.csv  100%[===================>]   5.21M  --.-KB/s    in 0.03s   \n",
            "\n",
            "2023-05-26 23:48:03 (204 MB/s) - ‘TweetsElonMusk.csv’ saved [5468365/5468365]\n",
            "\n"
          ]
        }
      ],
      "source": [
        "!wget https://github.com/miiip/DefCampApplications/raw/main/TwitterPhising/TweetsElonMusk.csv"
      ]
    },
    {
      "cell_type": "code",
      "execution_count": 23,
      "metadata": {
        "colab": {
          "base_uri": "https://localhost:8080/"
        },
        "id": "2YLeuXv51CbA",
        "outputId": "78c04535-9ea2-442d-be38-57ca878c508a"
      },
      "outputs": [
        {
          "output_type": "stream",
          "name": "stdout",
          "text": [
            " Benign_PE_samples\t  'Benign PE Samples 4.7z'  'Malicious PE Samples 1.7z'\n",
            "'Benign PE Samples 1.7z'  'Benign PE Samples 5.7z'  'Malicious PE Samples 2.7z'\n",
            "'Benign PE Samples 2.7z'  'Benign PE Samples 6.7z'   sample_data\n",
            "'Benign PE Samples 3.7z'   Malicious_PE_samples      TweetsElonMusk.csv\n"
          ]
        }
      ],
      "source": [
        "!ls"
      ]
    },
    {
      "cell_type": "code",
      "execution_count": 24,
      "metadata": {
        "id": "1DVHctTp1E14"
      },
      "outputs": [],
      "source": [
        "import csv\n",
        "import numpy as np\n",
        "samples = []\n",
        "with open('TweetsElonMusk.csv', newline='') as csvfile:\n",
        "  twitter_reader = csv.reader(csvfile, delimiter=',')\n",
        "  skip_first_row = True\n",
        "  for row in twitter_reader:\n",
        "    if skip_first_row == True:\n",
        "      skip_first_row = False\n",
        "      continue\n",
        "    if \"https://\" in row[10]:\n",
        "      samples.append(row[10])\n",
        "    "
      ]
    },
    {
      "cell_type": "code",
      "execution_count": 25,
      "metadata": {
        "colab": {
          "base_uri": "https://localhost:8080/"
        },
        "id": "Dhm0dA9n3b5K",
        "outputId": "cb2c265c-0f28-4528-d276-b43c48c850df"
      },
      "outputs": [
        {
          "output_type": "stream",
          "name": "stdout",
          "text": [
            "['Blimps rock  https://t.co/e8cu5FkNOI', 'Where is Shrek 5!?  https://t.co/PqAZ5Mg8Es', 'It’s all about the cufflinks  https://t.co/elccqC0Zuf', ' https://t.co/XeQursZpvq', 'No it doesn’t hurt at all 🩸  https://t.co/NnL6o1si0V', 'Me in my sick new car (left him the money)  https://t.co/EGaY1FVfHm', 'Wholesome memes  https://t.co/u5TkHJua8Q', 'Check out our new crane  https://t.co/PE4vL6uKcb', 'Mars rover looking back  https://t.co/oaFOCezRuU', '@RenataKonkoly He was great on many levels  https://t.co/exrZ1G9Rqk', 'Strongest argument against aliens  https://t.co/eF2FFZpJQE', 'Music in zero gravity  https://t.co/bepfMipjrE', ' https://t.co/Ngk8SJvDUW', 'First Super Heavy Booster  https://t.co/0K5QPsEbbt', 'The simulation really struggled to make this look real haha  https://t.co/t8zvFTRUHU', 'I’m selling this song about NFTs as an NFT  https://t.co/B4EZLlesPx', 'This is good   https://t.co/8KATmh2BJx', 'A puckish rogue  https://t.co/98q8bCT68q', 'Starbase, Texas  https://t.co/mt4IpqqmjF', 'Great band, too bad they broke up  https://t.co/VQm7HhHw2M', 'SN10 is in Valhalla now  https://t.co/dHy4tDVGnI', '@WootiezTV Very much so &amp; its leader shall be The Doge   https://t.co/VXmuW5c0y9', 'Horses are even self-driving!  https://t.co/qPJrCFGs8J', 'Doge meme shield (legendary item)  https://t.co/CeomU9q84c', 'Always wondered where exactly your gaming character keeps all the stuff  https://t.co/nNk2MeFGjf', ' https://t.co/jJeP4pFR6m', '@flcnhvy  https://t.co/VfQ72XyaiH', '🙏  https://t.co/BBwnTndvoi', 'Starship to the moon  https://t.co/tVMJbBk3BU', 'Out on launch pad, engine swap underway  https://t.co/QNXGtL90WN', 'Literally  https://t.co/XBAUqiVsPH', 'Cryptocurrency explained  https://t.co/kUXaXx8a1R', ' https://t.co/w11m1IAG0z', 'Lil meme juice for the weekend  https://t.co/e9rVtk4SEe', 'Happy New Year of the Ox!  https://t.co/9WFKMYu2oj', 'Frodo was the underdoge, All thought he would fail, Himself most of all.  https://t.co/zGxJFDzzrM', ' https://t.co/3rWE9uHSTS', 'This is true power haha  https://t.co/Fc9uhQSd7O', 'Ð is for Ðogecoin! Instructional video.  https://t.co/UEEocOfcTb', 'So … it’s finally come to this …  https://t.co/Gf0Rg2QOaF', 'The Second Last Kingdom  https://t.co/Je4EI88HmV', 'YOLT   https://t.co/cnOf9yjpF1', 'Next time, we try pull *up* method  https://t.co/J1M7WHLRDR', 'ur welcome  https://t.co/e2KF57KLxb', ' https://t.co/vviUzWhodT', 'Giga Berlin progress  https://t.co/ekpG5qcbUi', ' https://t.co/XcCoKOjYlt', 'Warm, sunny day &amp; snowy mountains  https://t.co/2k8psyqU4J', 'What a beautiful day in LA  https://t.co/EsCJTbzO9D', '@JayLav_ Yeah, Dr Frankensteen  https://t.co/WDJ9K2UJqK', ' https://t.co/pyRCFE97Xp', 'Starship SN9 &amp; SN10  https://t.co/urtPJn7amo', '@engineers_feed Earth is small &amp; we are smaller still  https://t.co/gTOhcLGJ82', ' https://t.co/a6kmk0PEgM', '@avalonpenrose  https://t.co/djdZxQ4Maz', '@lafebra @Gfilche  https://t.co/M0WwQSTAXm', 'Plaid Model S ships next month  https://t.co/HFUPTnQiPB', ' https://t.co/F23fxQkBCE', 'Gamestonk!!   https://t.co/RZtkDzAewJ', '@PPathole  https://t.co/v7cffwac0A', ' https://t.co/gpcvjIBTLM', '@levine Catchy!  https://t.co/Au32MYF2Rn', 'Under Vegas in @boringcompany tunnel yesterday with my boys  https://t.co/tLfOuiEdFm', '@Erdayastronaut @SpaceX SN9  https://t.co/kwTVwM7MBn', 'Monty Python is amazing  https://t.co/UJq94IWT88', ' https://t.co/ho7yGXAS3a', '@lexfridman Suicide is more than double homicide  https://t.co/MvWGPs9uQE', 'Hey you … Yeah you Queen … You’re gonna make it! 💕💕  https://t.co/LrqdIrbIyd', ' https://t.co/TKkruvgBth  https://t.co/ocy2gFRYvN', '@iamdevloper  https://t.co/BkKeiIicYe', 'Mus protec 👶 yoda  https://t.co/1dvhG0nTkU', '@engineers_feed His sick beats  https://t.co/8PbsgffzRp', ' https://t.co/2ja38Z8MRE', '@TheHackersNews Ya don’t say. Reminds me of this timeless classic …  https://t.co/Gq1wayoTIr', 'This is called the domino effect  https://t.co/qpbEW54RvM', 'Snow falling on Giga Berlin  https://t.co/eTXMtYp8hG', 'Great interview with Mathias Döpfner  https://t.co/ewnaHc4cH0', 'Snake-head dog had my undivided attention until winder-head ostrich came gliding through all nonchalant  https://t.co/dtPMdM3TQp', 'Not everything is made of cake  https://t.co/oMaCmYQAwx', 'Such a weird game when you think about it  https://t.co/5MrvVzmeKG', 'This is not CGI  https://t.co/VOivE97vPR', 'Merry Christmas &amp; happy holidays! 🎁  https://t.co/uk6NSPwR9R', ' https://t.co/EbOjGshvrq', 'Star Light, Star Bright  https://t.co/6CeTAZSXCO', '@CyberpunkGame The objective reality is that it is impossible to run an advanced game well on old hardware. This is a much more serious issue:  https://t.co/OMNCTa9hJY', 'Ascent to the Heavens  https://t.co/oGgsw88YRZ', '@Zwiebelbach @its_menieb @CyberpunkGame  https://t.co/aaYYPCPP1i', 'Hehe  https://t.co/SkLMiL3OxT', '@CyberpunkGame  https://t.co/RHKsB40xqr', '@CyberpunkGame  https://t.co/kmG7C9qF6h', ' https://t.co/sdmXKbHdzd', ' https://t.co/qbNT1dUsED', 'Life, the Universe and Everything  https://t.co/1ZCzInfc4u', 'Out on the pad in South Texas  https://t.co/RcYOXXpTc2', 'Im Gespräch mit Mathias Döpfner    https://t.co/bqa5pIAOnk', 'Science is discovering the essential truths about what exists in the Universe, engineering is about creating things that never existed  https://t.co/aIEUtHoPxM', '@thisisjendoll But actually!  https://t.co/lb14pKsayI', '@thisisjendoll  https://t.co/mMg5b8b40z', '@WorldAndScience  https://t.co/XAJaN4j9ZR', '@spacetouristuk @TashaARK Yeah. They stole Apple’s code too.  https://t.co/gy4DT7Pq9N', '@xDreamCoding @garyblack00  https://t.co/fREZwjCwNa', '@garyblack00 Wise words from Bogle. The point of companies is products &amp; services. They have no point in &amp; of themselves, nor do these indices. Buy &amp; hold stock in companies where you love the product roadmap, sell where you don’t.  https://t.co/yHVQJXTahn', '@nichegamer Maybe a little Mercy …  https://t.co/9iE40HOihr', 'Deus ex machine learning  https://t.co/5ZSYalVczx', '@ChrisG_NSF Special permission received from Stonecutters Guild!  https://t.co/SW5RBm1sRB', '@trylolli @Maisie_Williams 👻 💵   https://t.co/UWerAhxUev', 'Dragon can also hover &amp; land propulsively, but we use the parachutes for maximum safety  https://t.co/Mr7VFIQwWf', 'Case closed  https://t.co/pUYiJcAdD6', 'Soon  https://t.co/mWOpR7W8kk', '@ryaneshea From  https://t.co/42z7vRPB9c  https://t.co/XTSukcc3Tl', '@PPathole @cleantechnica A good PCR test should identify if I have the cov2 spike proteins, although I have heard some low accuracy numbers for those too. Hard to get a straight answer.   False positives will roughly scale with # of tests &amp; daily test rate has gone ballistic:  https://t.co/Pv6s71jZQo', '4 Astronauts fly to @Space_Station on Sat night from Cape. First operational flight of Crew Dragon.  https://t.co/uZCGiKciKb', ' https://t.co/d0i2w8wNKG', '@MKBHD Actually, it’s still there  https://t.co/2zLKc8Fc2d', '@flcnhvy @RGVaerialphotos  https://t.co/HEz9otgJJH', '@toadmeister And … Sweden is still right with zero deaths Oct 29  https://t.co/b0LyGOtobI', '@ajtourville @EndelSound @Grimezsz  https://t.co/2hx6tlA8F7', '@rakyll  https://t.co/p1aGokwQpV', 'Starship nosecone, high bay &amp; tiki bar  https://t.co/9qXYxMMIUj', '@toadmeister Sweden at zero deaths Oct 15  https://t.co/Gy9a20uMmX', '@flyerandyp @mojosusan Actually, it’s my neck …  https://t.co/2vCoAxsrV3', '@bamtheteslaman1 @cleantechnica Doesn’t seem to be any life in this solar system. Maybe under the ice of Europa or extremophile bacteria below the surface of Mars. Worth reading:  https://t.co/ym0d53HgyS', 'Will be less roomy with 3 vacuum rocket engines added  https://t.co/pKtDFdiZYC', '@toadmeister Sweden was right  https://t.co/bzc2lFDjZQ', 'Turn volume to 11 &amp; play Powerglide in your Tesla    https://t.co/l07Yc02P7g', 'Music volume on a Tesla goes to 11, because it’s louder than 10   https://t.co/ab5hAMo3EN', '@christianserino  https://t.co/gLnevuneYl', 'Rewatched Young Frankenstein this weekend. Still awesome. Ovaltine?  https://t.co/WiMdyFSuiq', ' https://t.co/HyfszSrm6m', ' https://t.co/r1Sox7vta8', 'Starship SN8 with rear body flaps  https://t.co/GdxMbzX0ct', '@waitbutwhy  https://t.co/V6us36YHO6', '@DaRealWamos Turns out they mostly press the letter s &amp; 💩 on the typewriter 🤣  https://t.co/KaarAJVL2b', 'Centaur with a bow obviously  https://t.co/cfKfkFFXp0', '@EvaFoxU Something like this  https://t.co/NDVuUmms67', '@MarlonSIX60  https://t.co/GzljMNYCiu', 'Only thing beyond ludicrous is plaid  https://t.co/rHuWk20EGG', 'Cybertruck, ATV, Roadster &amp; Semi C A R S  https://t.co/4Aq1A5cYkH', '🖤 Fallout Radio  🖤  https://t.co/gNo8XFjx8b', 'Doubles as an underground nuclear shelter 😀👍  https://t.co/CvI0YRjObE', '@JohnnaCrider1 @jhall They remind me of these guys  https://t.co/Qt502U08np', ' https://t.co/Vn0Rv0yQ5q', '@sama The Story of Civilization. First book is a little dry, but second book, The Life of Greece, is incredible.  https://t.co/46lBciX7FI', '@eugenelee3 @UniverCurious  https://t.co/f8rWY4ExeE', 'Tesla Model S &amp; X have hospital-grade (HEPA) air filters. 3 &amp; Y are really good too. This has a big effect on health.  https://t.co/48s5D3IfWs', '🇩🇪🖤Giga Berlin Mannschaft🖤🇩🇪 Vielen Dank für Ihre hervorragende Arbeit an Giga Berlin!!  https://t.co/KVo5mBfnXt', '@teslaownersSV @justpaulinelol  https://t.co/0CKVHrmtf1', '@teslaownersSV @justpaulinelol  https://t.co/QoBVXGQ8Fz', ' https://t.co/oVaoHsg1of', '@engineers_feed Technically, James Watt measured a pony, added 50% &amp; rounded up haha  https://t.co/vnkO0MTrUC', '@teslaownersSV @justpaulinelol Yeah, he sent it to me through a mutual physics prof friend at Caltech/CERN. Very basic stuff.  https://t.co/CI2DZEGjcB', '@tlowdon @EthicalSkeptic Antibody half-life for cov2 is very short. In a study that SpaceX did working with Harvard epidemiology, it appears to be as low as 2 or 3 weeks. Nonetheless, reinfection rates are very low &amp; symptoms are minor, perhaps due to memory T cells  https://t.co/z9WlvIjoTw', 'Neuralink product demo in 3 hours. Webcast at  https://t.co/Y9wREd78oj.', '@ItMotivatesUs Only so many days @waitbutwhy  https://t.co/19h4u8TA2a', 'The Big Bang started very, very smōl  https://t.co/XVvcuALZ2o  https://t.co/8R92iEXVvN', 'Olde skoole analog synthesizer from ancient Britain  https://t.co/JG0fI3ChxC', '@slashdot  https://t.co/WoIwia7zTn', '@Teslarati Tesla brake lights are powered by a miniverse inside a microverse  https://t.co/aduoTl537T', 'Lengthy background on Neuralink by @waitbutwhy  https://t.co/z2YfAupDRD', 'A metaphor for life  https://t.co/CdlL4ieLju', ' https://t.co/hKpWJnXsFc strikes again!', ' https://t.co/Bki5SOOroe', 'Medical check is A-ok!  https://t.co/zTRMvQ6Wvx', 'He might run for President in 2024  https://t.co/Wo34fhKugu', '@spacecoast_stve Scorcher VI  https://t.co/34O80p1hI6', 'Aloha, welcome back from space 💫  https://t.co/xWPN09Wtaw', 'Ms Tree catches fairing in her net  https://t.co/sqlJ63NetB', '@valleyhack @GeoffdBarrett Up there somewhere, cruising through deep space  https://t.co/PcybhfpUAD', 'Raptor engine just reached 330 bar chamber pressure without exploding!  https://t.co/kVKRWksvaB', '@universal_sci Also, there could be long period comets that intersect Earth right now. We just haven’t observed them during humanity’s (very short) recorded history. Comet S-L 9 punched a roughly Earth-sized hole in Jupiter.  https://t.co/ne7DM0YAXX', '@flcnhvy @nickcappelli @Grimezsz You got it  https://t.co/F2rXGcz964', 'Sounds right  https://t.co/dm76FJq3hX', ' https://t.co/mDoPO17YB9', '@flcnhvy It will blow ur mind haha  https://t.co/LqnKEN5Kjn', '@Erdayastronaut This is what I meant by “4D”  https://t.co/xpX7j5SnPy', '@stoolpresidente Psyche  https://t.co/ZkOI8FPVZZ', '@Erdayastronaut Probably not faster than utility power can be restored. Powerwall/Powerpack/Megapack can certainly be helpful long-term.  https://t.co/tEE4LDTdYG', 'SN 5 &amp; 6 at Starship Production Complex in Texas  https://t.co/8BVRD5VdU7', '@Mark_Goldberg_ @Tesla One day soon, I will wear this outfit  https://t.co/T0SnF4UgYK', '@Mark_Goldberg_ @Tesla I was trying to channel Herb Tarlek from WKRP  https://t.co/0RC72S0ZAY', '@wonderofscience  https://t.co/y7LrlouXr9', '@BernieSanders And why aim your attacks at Tesla, when we’re doing more than any other company on Earth to advance green/sustainable energy? Have you read the news?  https://t.co/34tzBk5TIv', '@BernieSanders That bs was pushed by oil &amp; gas interests to distract people from the $5 *trillion* per year they receive in subsidies. Bernard Sanders is a docile puppet of big oil!  https://t.co/WmzJnoTFzI', '@Teslarati  https://t.co/kogvN4rMJ8', 'SN5  https://t.co/GlZ28KFVHU', '@Erdayastronaut @SpaceX However, we did prove that a SuperDraco landing could work by doing a propulsive hover  https://t.co/Mr7VFIQwWf', 'This BBC article provides a sensible summary for how it was done  https://t.co/le3r20BWID', 'The Great Pyramid was the tallest structure made by humans for 3800 years. Three thousand, eight hundred years.   https://t.co/6DU46eMbni', '@matfabrix @engineers_feed Witch logic  https://t.co/o5xAopSNw1', '@JaneidyEve Lo Que Construimos  https://t.co/2yg5GAtgV9', ' https://t.co/8lpvwbeC4R', '🖤🧛\\u200d♀️Total Eclipse of the Heart 🧛\\u200d♀️🖤  https://t.co/n8djdlKnbE', 'But sometimes when we touch …  https://t.co/KMassjCtIx', '@jelle56367384 @Anvithvittal @DNPthree @tiesto Adagio for Strings is great  https://t.co/RgY1P1VGoU', 'Losing It  https://t.co/9HOY0ldzg4', '@RenataKonkoly @Sneakyness Mein Herz Brennt. Best boss battle song ever.  https://t.co/JIl6vzhQAx', '@keith31345919 @PPathole  https://t.co/S8mdWgCdFg', '@keith31345919 @PPathole  https://t.co/0kAAv0DtNn', '@schristakos @BernieSanders And to think I used to like Bernie! 😢  https://t.co/adojS2UCe3', 'Das Kapital in a nutshell  https://t.co/mG44mMkitx', 'Hold my beer  https://t.co/IK3tT1x4wP', ' https://t.co/Ufay65lZJj', 'Great song  https://t.co/wj4YdJglSH', '@spotted_model @cleantechnica Nickel is the biggest challenge for high-volume, long-range batteries! Australia &amp; Canada are doing pretty well. US nickel production is objectively very lame. Indonesia 🇮🇩 is great!  https://t.co/0MeEE5wRfo', '@teslaownersSV @PPathole @maureendowd Ring of Fire  https://t.co/gSJ3Np4CAP', '@RandyVegetables Some of whom seriously think Tesla toppled the Bolivian govt (sigh)  https://t.co/yC5gaa12DW', 'Cool Model 3 review by @iamjamiefoxx  https://t.co/hJDD7BjkE3', 'Tesla solar panels are $1.49/Watt   https://t.co/5LpLhqgAzw', 'Impressive Tianwen-1 Mars rover mission launched by China today  https://t.co/FsyA3I0HrU', '2 minutes later …  https://t.co/o5fbBTan1S', 'Coming soon  https://t.co/6nOgLix6b5', 'Das baby kann noch keinen löffel benutzen  https://t.co/UETqVIA4BP', 'It’s inevitable  https://t.co/eBKnQm6QyF', 'Giga Berlin  https://t.co/UXQMUVTWXf', '@BBCScienceNews  https://t.co/xxRXfrQhBs', '@Erdayastronaut @flcnhvy @SpaceX Yeah, will take less than a minute to order on  https://t.co/Q1VvqVmJ2i when it goes live', ' https://t.co/1MQXFAKPzf', '@OptimoPrincipi SPQR  https://t.co/gVfc9M3BHz', 'Limited edition short shorts now available at  https://t.co/5EmNcTBvJv', 'North American Supercharger usage is now at pre-covid high, Europe about a week behind, China &amp; Asia-Pacific in general doing great  https://t.co/bRd0egaC1t', ' https://t.co/jAmuz6NaA4', '@kenklippenstein I only block people as a direct insult  https://t.co/KWW9GCvQGb', '@StarofElysium @SamTalksTesla @RationalEtienne @chrish7985 @rlyrlysryDave I don’t have an “emerald mine”, nor was I given free money from anyone, inheritance or otherwise. Ashlee Vance interviewed hundreds of people. Ask him.  https://t.co/M63NjiKkw2', '@chef_boyarbeatz @lexi4prez @RationalEtienne @chrish7985 @rlyrlysryDave  https://t.co/FtmrqCc7BW', '@lexi4prez @RationalEtienne @chrish7985 @rlyrlysryDave  https://t.co/cjn0wgoY1N', '@ReadCoal @Supernautical @flcnhvy @RationalEtienne @chrish7985 @rlyrlysryDave This is false. I landed in Montreal at age 17 with $2000, a backpack of clothes &amp; suitcase of books. My father is bankrupt &amp; has been for a long time. I inherited literally nothing from him.  https://t.co/M63NjiKkw2', '@EverydayElon @TeslaTested @teslaownersSV @kimbal HCL appears to be effective when used early  https://t.co/d27STax48L', '@teslaownersSV @kimbal Deaths continue to trend down  https://t.co/FsZNwkvs1H', '@angie_rasmussen @hot_rod_co bs  https://t.co/1kOQeH5mvF', '@hot_rod_co @angie_rasmussen Here’s one:  https://t.co/9ujxCClFCg', 'Tesla Impact Report (repost). We do everything humanly possible to source materials &amp; produce sustainable energy cars, batteries &amp; solar ethically. Suggestions for improvement are always appreciated.   https://t.co/WCemMJ44um', '@geekwire  https://t.co/mLh6baqfeT', 'Great Model Y review by @jayleno  https://t.co/DzsZ7eugWp', ' https://t.co/e9dPKVSjjl', 'North American Supercharger usage tracking to exceed pre covid highs in 2 to 3 weeks. Lot of noise out there. This is signal.  https://t.co/PCC5DlthtA', 'Two Starship tanks in the midbay  https://t.co/QJ2V882WOC', '2019 seems so quaint &amp; long ago  https://t.co/xfdfcbr0DS', 'Tesla Bioweapon Defense Mode  https://t.co/48s5D3ZQO0', '@MichaelaOkla @holy_schnitt  https://t.co/tUB8Htz4sZ', '@cisoml @Erdayastronaut @russ_parrish Maybe Incat  https://t.co/qHbJcMocFg', 'Tesla Model S now first ever electric vehicle to receive EPA range rating above 400 miles!  https://t.co/EOTwVfvHS5', 'China &amp; Asia Pacific Supercharger usage above pre-covid highs. North America catching up fast. Europe slightly behind.  https://t.co/Em23E2AFyO', '@justpaulinelol @engineers_feed As foretold by  https://t.co/LJJCD7BAgX', '@realAnishPai Renewable energy passed coal in April  https://t.co/1kRCyGXfN9', 'Tesla factory workplace safety is 5% better than industry average for manufacturers &amp; improving fast  https://t.co/axmInA9fZb', 'After which they are recycled  https://t.co/xuu1ohdz52', 'Tesla batteries are lasting much longer than 200k miles / 320k km  https://t.co/z882nf6yv9', 'Moreover, energy produced by Tesla solar deployments far exceeds energy used in our factories  https://t.co/IDqf5gWeFt', 'Electric cars produce *much* less CO2 than fossil fuel cars, taking both electricity emission &amp; vehicle production into acount  https://t.co/tsk9TXgW67', ' https://t.co/QPwGa1Rk8Z', 'Posting Tesla Impact Report, this time with summary points &amp; charts in my reply tweets  https://t.co/4lyaV7kIS4', 'Wort reading the whole thing  https://t.co/4lyaV7kIS4', '@GerberKawasaki @Tesla (Formerly) mainstream media has systemic negative &amp; political bias about almost everything. Reading major newspapers makes you feel sad &amp; angry. That’s why they’re being crushed by @joerogan. Likes/retweets of old media are extremely low. Ironic article:  https://t.co/78uftW0P6t', 'Stankonia at  https://t.co/LJJCD7BAgX', 'Starship Production Complex Boca Chica, Texas  https://t.co/pd4ka93bv5', 'Order a Tesla online in 2 mins at  https://t.co/46TXqRrsdr', 'Tesla Model Y review by Dan Neil  https://t.co/3oS85UFaaR', ' https://t.co/mMHsTxyxNx', 'Sunset  https://t.co/fpLhlqvuJg', 'Dragon Dawn  https://t.co/mz1EzU5GSO', '@RealClearNews Good question  https://t.co/8jpu98XFu7', ' https://t.co/iSGrzHgENp', ' https://t.co/72pvzGWAs8', 'The medium is the message  https://t.co/IOu4JogVmF', 'Tesla Full Self-Driving option cost rises by ~$1000 worldwide on July 1st. Order a Tesla online in less than 2 minutes at  https://t.co/qJm9uPBCX5', 'When u take DayQuil &amp; NyQuil at same time  https://t.co/7AMLLMsBZK', '@PPathole @stoolpresidente Hospitals are going bankrupt for lack of patients  https://t.co/Wfew0owsGP', 'Tesla Supercharger usage by region  https://t.co/1y2zL2Jizt', 'Top Marx  https://t.co/GWG7hXioiV', ' https://t.co/lQWpSwtRj7', '@nichegamer @Crusade4change @realDonaldTrump Personally, I think we should  https://t.co/kfui7W9VTU', 'That’s pretty much what happened  https://t.co/5Enzgt20q7', '@teslaownersSV @GerberKawasaki @thirdrowtesla @AlamedaCounty Thanks Mayor Mei!  https://t.co/YFJSGd3Emp', 'Once again, I must recommend  https://t.co/7XelSWHDzd', '@Erdayastronaut @farrier_nyker @GeetPurohit3 @YoavOffek Yes, converts CO2 &amp; H2O to CH4 &amp; O2. Perfect for Mars!  https://t.co/WF9AGgee12', '@Grimezsz Archangel-12  https://t.co/s9g69SU1Ju', '@truth_tesla @flabellina212 @bouncygulag @tmornini @Param86330798 @Grimezsz Not to mention  https://t.co/LJJCD7BAgX!', '@flcnhvy @TeslaGong @PPathole @priscillabanana  https://t.co/lm30U60OtO', '@TeslaGong @PPathole @priscillabanana  https://t.co/chk0Scuixp', 'SN4 🔥 soon. Raptor looks so smōl.  https://t.co/WcMdo6wAtj', 'One of the all-time best songs  https://t.co/IvI7IOgMAa', '@Bitcoin How much for some anime Bitcoin?  https://t.co/itqRslFNcb', 'Why forced isolation is bad  https://t.co/c2XCcRSx1C', 'California HHS server crashed. Maybe it has covid.  https://t.co/eGkdPmBpAK', 'Actual data reference CHHS  https://t.co/q7c7708ozx', 'Hospitals in California have been half empty this whole time  https://t.co/8GL2BLypqV', 'Bravo Texas!  https://t.co/cVkDewRqGv', 'Give people their freedom back!  https://t.co/iG8OYGaVZ0', '@archillect  https://t.co/tOjOG0DQnI', 'SN4 passed cryo proof! 😅  https://t.co/EJakThZRGF', '@EthicalSkeptic What do you make of the FT claims?  https://t.co/uCI4h20oRU', '@ansgarjohn @alandail FT is saying current death rate is extremely unusual, but you’re saying 2017 was higher. Which is correct?  https://t.co/uCI4h20oRU', 'Snowing in Texas  https://t.co/0LKwIpnoPB', 'Interesting …  https://t.co/z8sqqPt48q', 'Docs make good points   https://t.co/WeXuZpMghY', '@SamTalksTesla @28delayslater @justpaulinelol Romance Mode 🔥  https://t.co/nc735SsMpM', 'So often true 🤣🤣  https://t.co/qxmDtZ4Buf', 'The Machine Stops  https://t.co/zFWfR7IEcT', 'Starship SN4 tank on test stand  https://t.co/zN2OmMp1OS', '@PPathole @Supernova_Style New York seeing same results for invasive ventilators as Wuhan  https://t.co/yYrjwWwixl', '@Kristennetten @thirdrowtesla @Tesla This is the key paragraph  https://t.co/zvTWhPVcM4', 'Best political platform ever  https://t.co/CRbNFdQj4B', '@flcnhvy Moreover, there is mounting evidence that invasive is suboptimal for covid. If they put Boris Johnson on mask ventilator, but *not* invasive, that tells you something! This article incorrectly conflates invasive as “ventilator”, but makes many good points  https://t.co/5cPQ29wOvu', '@flcnhvy You’d think they’d at least be Wikipedia-level informed about ventilators! It clearly articulates the difference between invasive &amp; non-invasive. It’s very misleading to the public to claim that only the invasive type are “real ventilators”.  https://t.co/wHkAQ9177V', 'Good progress, but 18 years to launch our first humans is a long time. Technology must advance faster or there will be no city on the red planet in our lifetime.  https://t.co/IsICexqxtV', 'Partial list of hospitals to which Tesla sent ventilators  https://t.co/sfI6yuUbrM', '@CNN @GavinNewsom Not to mention Medtronic, who makes the most advanced ventilators in the world, also affirming our help!  https://t.co/UlBmRGPtuc', '@CNN @GavinNewsom  https://t.co/yymcNgZNv8', '@CNN @GavinNewsom  https://t.co/QnBMe1nrdZ', '@CNN @GavinNewsom  https://t.co/VqcEAPseCm', '@CNN @GavinNewsom  https://t.co/OP6l8DBf7r', '@CNN @GavinNewsom  https://t.co/2KfHKLfUJh', '@flcnhvy @dschless @Bob_Wachter Sounds about right  https://t.co/pEPVJi56Vg', '@PPathole @fat__tire @Kristennetten @Robotbeat @ghotiing @CruizVinicius @josh119872 @SweetINXS @voteLabonte @Erdayastronaut @Tesla My (again) personal favorite is  https://t.co/rM1MqsVsr1', '@fat__tire @Kristennetten @Robotbeat @ghotiing @CruizVinicius @josh119872 @SweetINXS @voteLabonte @Erdayastronaut @Tesla Vast majority of “ventilators” are not intratracheal, but, yes, jamming a pipe down a patient’s throat &amp; driving in high pressure, pure oxygen is definitely not how we evolved! My personal choice would be mask with moderate pressure at ~50% O2.  https://t.co/pEPVJi56Vg', '@Robotbeat @ghotiing @CruizVinicius @josh119872 @SweetINXS @voteLabonte @Erdayastronaut @Tesla Tesla actually sent out ResMed, Philips &amp; Medtronic units. Latter is fully intratracheal. My personal opinion is that some ICUs are jumping the gun on intubation &amp; setting PEEP &amp; O2 too high. High pressure, pure oxygen increases risk of lung damage.  https://t.co/2IUnS5DPOg', 'While others party, he study the blade  https://t.co/FBxEdIJ78M', 'Turns out that gun is for the toilet paper  https://t.co/C1aAy0YZRi', '@Darkellysio @katlinegrey @Zvezdichko @SciGuySpace The swivel wing design was cool. This seems like a good idea:  https://t.co/Aq81q9oMdq', 'But actually  https://t.co/jlowaHobXO', '@arvnp @Jamie_Woodward_ The Standard Model is amazing for useful predictions. Truly amazing. Dark * seems sketch, but doesn’t appear to matter to our immediate future.  https://t.co/CKnQSzXBZ2', '@johnkrausphotos High pucker-factor landing  https://t.co/cTHxc03Oee', 'Here you go  https://t.co/aVnwR0loX9', 'Starship fuel header tank  https://t.co/CVj8057CY6', '@bluemoondance74 Hard to tell scale, as body diameter is 9m or ~30 ft, but it looks like it could be R2D2 size in this video  https://t.co/DxRxsMEwwi', 'So proud  https://t.co/Me5HirnJ6N', 'Raptors  https://t.co/oycjgNI8HE', 'Press any key to continue  https://t.co/gFnlYoUGdy', '@teslaownersSV @28delayslater @thirdrowtesla Bought, but SpaceX is spooling up to manufacture proportional solenoid valves for Medtronic (confirmed as critical today with chair &amp; CEO)  https://t.co/zIuesSaXrZ', '@28delayslater @thirdrowtesla First Medtronic units from Tesla getting installed in NY metro area. These are for worst case situations.  https://t.co/xyFRZwv1M7', '@JohnCleese And how to tell if someone’s a witch  https://t.co/o5xAopSNw1', '@JohnCleese So many brilliant scenes. Anarcho-syndicalism!  https://t.co/kzjh26wjvV', '@DrDavidReich For those who care about details  https://t.co/LnylijfJqR', '@RationalEtienne @PPathole  https://t.co/jS68gnYs2U  https://t.co/4a3h517Zdw', '@RenataKonkoly  https://t.co/pWB6ivYa0J', ' https://t.co/bvh1TL12l6', 'Now on launch stand  https://t.co/Yb5WIEjAkj', 'Hello from the Inside  https://t.co/SV3fWL3bkp', 'Logarithm graphs coming soon  https://t.co/Fc81TDSQgc', '@VitalVegas Also makes for a great shelter  https://t.co/f991AJD2mU', ' https://t.co/lzh1uj8QCy', 'SN3  https://t.co/bM1wzzd4Zg', '@enscand @PPathole @flcnhvy @Tesla Something weird happened at CDC yesterday. They changed the graph to include “estimated illness onset date”. This is a significantly less rigorous standard.  https://t.co/Dz2Nio5ddi', 'This meme proves it  https://t.co/3CHAzxv6dj', '@teslaownersSV @RenataKonkoly @sdunbabin @jonkay @Quillette Most likely, imo, we will see a significant reduction in the confirmed C19 case growth rate this week. Follow chart at bottom of this CDC page:  https://t.co/vZ3PbhQihG', '@RiccitelliDylan @ColdBuschLights @PPathole @NateSilver538 Exactly, both would be false positive. Also, dying with C19 is different from dying because of C19. Vast majority who died had other illnesses too.  https://t.co/YKMW54q2kL', '@NateSilver538 Do you have data on the false positive rate? I’ve heard a wide range of numbers. CDC numbers are almost an order of magnitude lower between high fidelity data (onset date known) and “presumed positive”.  https://t.co/vZ3PbhQihG', '@friedberg Feels like the plot of Deus Ex  https://t.co/R8tmw048JM', '@RationalEtienne @PPathole  https://t.co/eltgA3hrAr', 'No new domestic corona cases in China  https://t.co/lGmxRvMyFy', '@westcoastbill Imo, this professor is correct. Also, growth rate of confirmed C19 cases is dropping every day, despite 10X increase in testing. From Tues to today, was 43%, 24%, 17%. Track this chart:  https://t.co/vZ3PbhQihG', '@cleantechnica  https://t.co/9XVratNhnq', '@cleantechnica Some helpful data from Italy  https://t.co/3taxq5NXcZ', '@cleantechnica Monitor graph at bottom of CDC website. New “confirmed” cases, not oft-reported “presumptive positive” is trending to level off over next few weeks &amp; be negligible by end of April. Same pattern as China.   https://t.co/vZ3PbhQihG', '@RiganoESQ @DiderRaoult How does this compare to favipiravir?  https://t.co/rM1MqsVsr1', '@RiganoESQ @DiderRaoult Whether Z-pak works in this situation or not, it’s a kickass med for many maladies  https://t.co/UM2TqYpZQZ', 'Hydroxychloroquine probably better  https://t.co/FWn2kh1LZx  https://t.co/wQODHiFeWT', 'That said, danger of panic still far exceeds danger of corona imo. If we over-allocate medical resources to corona, it will come at expense of treating other illnesses. Track graph at bottom of this page:  https://t.co/7nWKjiZyFn', 'This paper matches what I’m hearing from a lot of smart people  https://t.co/vul3xORsgq', '@Sofiaan @RenataKonkoly @meckimac Yeah  https://t.co/yp3pBn4prV', '@meckimac Was also given a lot of doxycycline  https://t.co/hn0BzsIatz', 'Maybe worth considering chloroquine for C19  https://t.co/LEYob7Jofr', '@ThingsWork The Permian-Triassic was super bad  https://t.co/xT9skw3aIx', ' https://t.co/IXSO7Ko4z7', 'Congratulations Tesla team on making our 1,000,000th car!!  https://t.co/5M99a9LLQi', '@mrebuzz  https://t.co/DjlSRQi4nI', 'Bernie’s tax rate is 0.2% too high!  https://t.co/ESAqAYl9xB', 'Sleeving SN2 dome in the high bay  https://t.co/zdRuOgd8xz', 'Dogs rock  https://t.co/vLJGyZo5Sx', '✌️ bro  https://t.co/nJ7CUyhr2j', ' https://t.co/Yt0zkj1R5j', 'So … how was your night?  https://t.co/tbJDYIQjXd', 'Starship SN1 tank preparing for Raptor attachment &amp; static fire  https://t.co/jx0ijLrxWx', 'And that’s why cones were invented  https://t.co/7YKfEIGvPq', 'Tinny  https://t.co/N1p5qZvx0D', 'Woody  https://t.co/0Di88Eoz2C', 'Battle Angel Starship  https://t.co/CL4rvBB8mb', 'On a wall in Austin  https://t.co/yDBt2tUJij', 'Model 3 achieves 350 mile actual range vs 310 EPA sticker in Consumer Reports testing  https://t.co/5hqRhjP4bV', 'Science has gone too far  https://t.co/Ky65Q3s3JX', '🔭  https://t.co/6HHgR0ZVp0', 'High bay for stacking Starship engine bay, propellant tanks &amp; fairing (fka nosecone) sections is almost done!  https://t.co/G9h0430ns2', 'Worth reading Asimov’s Foundation  https://t.co/OZfhcNNzyG', 'Rocket nosecone production in Texas  https://t.co/KLWewja9Gn', '@archillect  https://t.co/yK4XuubCPw', 'Tesla is ramping up Solar Roof installation across the USA! Training will be provided, so no prior experience needed. Apply at  https://t.co/84BkZvuBn8', 'Tesla Model S estimated EPA range is now above 390 miles or ~630 km  https://t.co/sNFzIkuJpC', '💘 be still my beating heart 💘  https://t.co/Fnly6DNLIC', 'Thanks Mom!!! ❤️ @mayemusk  https://t.co/eyMgV45ypT', 'Ok u can have a little emerald 🤹🏻\\u200d♂️  https://t.co/3LzPe4aG4B', 'Midsection of Starship propellant tanks  https://t.co/Aa8yKPJEFS', 'Order at  https://t.co/byFVU5nF9W', 'Back in Boca  https://t.co/RjiWpW28PT', 'My Mom wrote a book ♥️  https://t.co/EV0FoGLuzf  https://t.co/qQMYSBNxpv', 'feeling cute, might delete later  https://t.co/TtDJcr9Qiq', 'New emoji! Last one comes with free phone hack.  https://t.co/T3jjwZycog', '@vincent13031925 “The Nutcracker” is tho  https://t.co/KS08x6wxfn', 'REALiTi made while u wait  https://t.co/jWRPAEufs8', '@PPathole  https://t.co/BkKeiIicYe', 'Guess he’s not left-handed  https://t.co/RLlzOLqh8U', '8th hottest song on Soundcloud!!  https://t.co/5FJNJYc9kA  https://t.co/PmoBYJL4in', 'Starship Concerto in Zero G  https://t.co/gkn05I1bvZ', '“At Tesla, using AI to solve self-driving isn’t just icing on the cake, it the cake” - @lexfridman   Join AI at Tesla! It reports directly to me &amp; we meet/email/text almost every day. My actions, not just words, show how critically I view (benign) AI.   https://t.co/iF97zvYZRz', '@justpaulinelol @nichegamer This was a huge problem for search engines until Google applied the citation relevance principle aka PageRank, among many other things  https://t.co/qSfqTpfzb2', 'Don’t Doubt ur Vibe now on Spotify  https://t.co/yyLgnF4d7q', ' https://t.co/LoVC2RYN72', '@IamKarenBoBaran @georgezachary Those old ladies are wise  https://t.co/f1uxKvCfbB', '@georgezachary Meant to say other forms of “the cold”, not influenza  https://t.co/38sqqL3f7i', 'Vibbbe  https://t.co/21WKNOnMXZ', ' https://t.co/6lz3prQ2pF', 'Don’t Doubt ur Vibe  https://t.co/5FJNJXUxW0', 'Hope you’re enjoying the simulation  https://t.co/nj9JTJc4lL', 'A friend just sent me this excerpt from a Tesla blog I wrote 14 years ago  https://t.co/Hr8w52ithY', 'Liquid nitrogen cryogenic strength test underway ☃️  https://t.co/qRPBLInqm0', 'Starship 9m test tank made 7.5 bar at room temp! Small leak at a weld doubler. Will be repaired &amp; retested at cryo.  https://t.co/Bz3lrwkYRU', 'Meme necromancy  https://t.co/8aPtXju7gF', ' https://t.co/sGnhzoThtK', 'Improved Accommodations  https://t.co/iRBK2yIfd7', '@PicklePunchD @flcnhvy @thirdrowtesla @Gfilche @Sofiaan @Kristennetten @vincent13031925 Walk this way  https://t.co/okyi7invhi', '@nichegamer  https://t.co/RPcGOjPtfF', '@SpaceX Dragon trunk from in-flight abort test is in surprisingly good shape!  https://t.co/IGeffiNh9A', ' https://t.co/MHokq4KVEc', 'Meteor!!  https://t.co/PyXbRZR013', 'Best place to view is from the beach. Excitement guaranteed!  https://t.co/6XSiK5dWEn', 'Hehehe  https://t.co/bnlN7Vn6bl', 'Starship orbital vehicle SN1, liquid oxygen header tank &amp; nosecone  https://t.co/IaSEdIyZgP', 'Great song  https://t.co/Zojlie0GG7', 'T-shirt is bulletproof &amp; makes u buff!  https://t.co/wO0oAakclu  https://t.co/8k1WvVO1sm', 'Teslas will soon talk to people if you want. This is real.  https://t.co/8AJdERX5qa', 'Phony  https://t.co/w9nyOAxQus', 'At Tesla Giga Shanghai NSFW!!  https://t.co/1yrPyzJQGZ', 'Wikigenius  https://t.co/P0jM14hGrc', 'No one suspected his disguise  https://t.co/yHl4MDrjtn', 'Barrel on dome  https://t.co/kpSIJphbnk', 'Almost three now. Boca team is crushing it! Starship has giant dome 🤣🤣  https://t.co/qTN2TU02pb', 'Simulation of first crewed flight of Falcon 9 / Dragon 2020 @NASA  https://t.co/BSDPYTcVIG', '😮  https://t.co/JejV2rBFrf', 'Was up all night with SpaceX team working on Starship tank dome production (most difficult part of primary structure). Dawn arrives …  https://t.co/SzyDSYUYOu', 'stock art  https://t.co/HSWnwK68OV', 'Great show 🐼  https://t.co/12rguHHpgz', 'Holiday gift ideas  https://t.co/uBBofvkYAI', '@wonderofscience @NatureMuseum Does it like the smiths?  https://t.co/kWbx1Uqsbo', 'Tesla Moth Mode (better late than never)  https://t.co/Rcu87A8NkO', ' https://t.co/LxZAmZIcIS', ' https://t.co/aAEFph9G6D', '@bluemoondance74 @ThugsAndMiracle @tfspeakcies @DearHistorians @DeepintoHistory @HellenisticPod @TrueConsPod @IWBpodcast @Coffincast @CacheHistory @AgeofVictoria @ForYourRefPod @WWIIPodcast @namelessdeadpod @ZombieFishbowl @AgeofNapoleon Raptor is making great progress! Just finished an engineering review with SpaceX Propulsion. Engine SN 17 is about to ship to McGregor with some holiday style 🎄😀  https://t.co/3JNIyxY9H0', 'Baby Yoda 💕  https://t.co/jpQvCccHb9', 'Games only render what you look at when you look at it, as the compute load would otherwise be impossibly high. Until observed, objects are a probability function, aka quantum mechanics.  https://t.co/LbI7dRNM9f', 'smol ∩ puppy ∩ math  https://t.co/bmpUurYbPV', '@SamTalksTesla  https://t.co/z6zljrfUmb', ' https://t.co/7Pkb9NiLq8', 'Kids these days have no respect!  https://t.co/lfJTJnqllQ', 'Speed solves everything  https://t.co/DGYlfyInxi', '@JoeWBowles @BillGates He’s def wrong. Solar power is a Gigawatt per square km! All you need is a 100 by 100 mile patch in a deserted corner of Arizona, Texas or Utah (or anywhere) to more than power the entire USA. This analysis goes through calcs  https://t.co/fI1I452tm6', 'Super strong roof that generates clean energy, looks great &amp; costs less than a normal roof plus solar panels!  https://t.co/D9yUuL7NVE', '@brandonorselli Still can’t believe how hard it was to get  https://t.co/46TXqRrsdr!', 'Do you like our owl?  https://t.co/4fNOEv3N5b', '@IntEngineering With extreme effort, Cybertruck might hit a 0.30 drag coefficient, which would be insane for a truck. Requires tweaking many small details.  https://t.co/IMLJbsInmq', 'This one is deep. Happy Thanksgiving!  https://t.co/2Dog5HBxjX', 'Cybertruck pulls F-150 uphill  https://t.co/OfaqUkrDI3', '⚔️ Study the Blade!! ⚔️  https://t.co/cvuW1TmcjI', 'Franz throws steel ball at Cybertruck window right before launch. Guess we have some improvements to make before production haha.  https://t.co/eB0o4tlPoz', '🖤🖤🖤 Syd Mead 🖤🖤🖤  https://t.co/8nbD5LrAQJ', 'Better truck than an F-150, faster than a Porsche 911. Order Cybertruck online at  https://t.co/hltT8dg2NO', 'Nobody *expects* the Cybertruck  https://t.co/khhYNFaVKs', 'Cybertruck design influenced partly by The Spy Who Loved Me  https://t.co/HKBzxFNfzm', '@lexfridman @NSF Gravitas is overrated  https://t.co/4MdteBfEjY', ' https://t.co/lvCnlztkPa', 'Cybertruck unveil Thursday night  https://t.co/AHBxaubdhO', 'Congrats to Tesla team on Model 3 winning best midsize car in Germany! 🇩🇪🇩🇪🇩🇪  https://t.co/4CDTf4c3eC', 'Starlink vertical on the pad  https://t.co/WuiB1piKcK', '@zerohedge 😘  https://t.co/w0BkNGbvQ1', 'Extremism is so fun! (@waitbutwhy)  https://t.co/ECACsaqAXR', 'The date is strangely familiar …  https://t.co/YZl5R1POJL', 'Tesla Solarglass vs 🎃  Happy Halloween!!  https://t.co/p5tXeJYqne', '♥️ snacks ♥️  https://t.co/LPcZyX607f', 'Just a reminder that the Tesla Full Self-Driving option goes up by $1000 at midnight on Nov 1 for all regions that have Smart Summon. Order your car online at  https://t.co/7FlnbrMxOl.', 'Unfortunately, it’s hard to google Tesla solar links due to tons of ads &amp; SEO. Go to  https://t.co/UvQa8JOE7v to add solar to an existing roof &amp;  https://t.co/D9yUuL7NVE for a new roof with integrated solar.', 'Homes with solar sell for 4.1% more, according to Zillow. Adding a Powerwall battery is highly likely to increase home value too imo, as security against blackouts is increasingly important.   https://t.co/3y4M5L50qF', 'Tesla Solar plus Powerwall battery backup for 24/7 clean energy &amp; no blackouts at  https://t.co/mDoPO17YB9', '@flcnhvy  https://t.co/40NtMONR72', 'Sandwich time travel is the only explanation  https://t.co/M8c98GBsDC', 'Physics facts  https://t.co/Z2a6PzokJx', '@AT61_AUE @Cobalt310 @Tesla Yes, you can walk on the Tesla Solarglass roof. In stilettos, if you want 😉  https://t.co/6wwKJqmPdr', 'Tesla Solarglass roof  https://t.co/7lw43mL92D', 'Srsly  https://t.co/MWipMr84cD', '@Cardoso @Erdayastronaut Transparent aluminum is a real thing!  https://t.co/hX4XLih1Hk', 'To be clear, integrated solar tiles only make financial sense for new houses or replacement roofs. If your roof is more than 5 years away from replacement, solar retrofit is recommended  https://t.co/mDoPO17YB9', 'But actually …  https://t.co/XJNjPHrq2A', 'Homes with solar sell for 4.1% more, according to Zillow  https://t.co/EtqGAxDlAF', 'PG&amp;E says rolling blackouts expected in California for next 10 years!  https://t.co/Iv9f0piK82', 'Order Tesla Solar + Powerwall battery for 24/7 clean power &amp; no blackouts!  https://t.co/mDoPO17YB9', 'Tesla wins best headlights award 🥇  https://t.co/8yfeJiXd0N', 'And the lead character is also named Woody  https://t.co/ZxK84rB020', '@Erdayastronaut @torybruno @MartianDays @AerojetRdyne Oberth effect is not well appreciated. Value of high thrust low in gravity well is not captured in simple delta-v equation. One of the reasons we favor CH4 over H2.  https://t.co/LijrUMuJDq', '@torybruno @Erdayastronaut @MartianDays @AerojetRdyne This is true. All that matters is number used in ∆v equation. Propellant residuals are incredibly important, often overwhelming engine mass.  https://t.co/s2LcEapGAU', '@J_ump_er @neiltyson @Space_Station To be precise, r is distance from center of masses of two objects. Center of mass of Earth is ~6400km, so gravity change is small at Space Station altitude, which is ~6800km from center of Earth.  https://t.co/21hICWczMq', 'Ms. Chief &amp; Ms. Tree  https://t.co/YgRFtq0tSc', 'Space Jam should’ve won the Oscar  https://t.co/E7l2DCAxDH', 'French fries 🍟 are the devil 😈  https://t.co/AR3h57RPIA', 'Get Tesla Solar plus Powerwall battery for 24/7 clean power &amp; no more blackouts!  https://t.co/mDoPO17YB9', 'Sooo annoying!!  https://t.co/QKtCC0YgDG', ' https://t.co/BkKeiIzNPM', 'Worth reading “Human Compatible” by Stuart Russell (he’s great!) about future AI risks &amp; solutions  https://t.co/ZCdvZrrcVf', 'Trouble!  https://t.co/qo2hR7Vcsp', 'Rosetta by Vangelis is incredible  https://t.co/MKqbsdVVsN', 'Inside Starship cargo bay. Header tanks mounted in tip of nosecone to offset engine weight at rear.  https://t.co/EJSwqMCooA', 'Rage, rage against the dying of the light  https://t.co/aGRw4VowAQ', 'Starship halves being joined  https://t.co/7pdxfh8e81', 'Summon is improving rapidly   https://t.co/khgXDRnD2Z', 'Three Raptors on a Starship  https://t.co/UrRiD62EVk', '@moyo5150 More like  https://t.co/f8BUlz0Xdo', 'On the transporter  https://t.co/CGNj1MlKAU', 'Lifting lower section of Starship  https://t.co/bfW17i469a', '@justpaulinelol @EvaFoxU @katlinegrey  https://t.co/IzVngWWY7G', 'Some secrets are too dangerous to be free  https://t.co/g547UdmiJ7', '@TeslaMiles @28delayslater @karpathy @Tesla OG Roadster is def helping us out here with 826M miles by itself  https://t.co/Pcybhf8jc3', 'Bottom half of Starship at night. Top half with forward fins &amp; header tanks probably stacks on Wednesday. Three Raptors already installed.  https://t.co/haq3m1V1Wm', 'Just leaving SpaceX Starship build site in Boca  https://t.co/Bqt40mSdX4', 'Adding the rear moving fins to Starship Mk1 in Boca Chica, Texas  https://t.co/HWLihqihph', '@nytimes You have been warned  https://t.co/11CHFHUdr1', '@MemesOfMars @fermatslibrary And of course, this one, but that’s obv  https://t.co/UKWYrBwjkZ', '@_jameshatfield_ @RationalEtienne @LaurenRow5  https://t.co/epdlNkjz5k', 'Area 51 of Area 51  https://t.co/Du7i92sFaO', 'Droid Junkyard, Tatooine  https://t.co/yACFR9y04P', 'Good analysis. You can order commercial solar in literally 30 secs if you use Apple Pay at  https://t.co/sCkn87vMa9.', '@Wikipedia They used to have butt bellows for blowing smoke up your … along the Thames River in London  https://t.co/P8SJGokLY8', 'Tesla commercial solar ordering now live at  https://t.co/sCkn87vMa9!', '@RationalEtienne @guardian @verge @CNBC @qz @Reuters @nytimes @Jalopnik @NewYorker @business At least they had great cigars 👍  https://t.co/Iqb25rAtBV', '@Teslarati Ahem  https://t.co/AmlTCVSHGZ', 'DMT FTW  https://t.co/DgfQ2teLG2', 'And flights of angels sing thee to thy rest  https://t.co/Vh1L7hv2dW', 'Why aren’t more people talking about this!?  https://t.co/iUFIBcDQrp', 'Hadouken!!  https://t.co/gN915jdvsl', '@RenataKonkoly Offer me money, offer me power …  https://t.co/zwcLa89cGR', 'Also  https://t.co/LTX4acsgAS', '@newscientist Sounds sweaty  https://t.co/tcR4zLra3Z', '@Jalopnik @Porsche Jalopnik not sharpest tool in shed …  https://t.co/6MeFDpotrB', 'Try Tesla Insurance. Should be ~20% less than avg. Currently only in California, but expanding soon. Critical feedback much appreciated.  https://t.co/L8xv8vxllj', 'Haha actually true  https://t.co/VNB822fpPT', ' https://t.co/G98dOzgWTv', 'Also, u can order online at  https://t.co/46TXqRJ3C1 in 2 mins, have car delivered to ur doorstep &amp; return for full refund', 'One day Starship will land on the rusty sands of Mars  https://t.co/EfENYVdOzM', 'Congrats SpaceX team!!  https://t.co/duckYSK0D4', 'About to do next Starhopper flight test  https://t.co/eeXPQPk7t6', 'Dragon Crew Arm. Astronauts will walk this gantry to enter Dragon &amp; depart for the @Space_Station.  https://t.co/rKkUTeHson', 'Dronship with wings folded traveling through Panama Canal  https://t.co/TawM5Ntj0e', '@Tesla 😢  https://t.co/kTNomigW3e', 'World’s first very large scale battery has worked out well  https://t.co/X7gdbL8U5b', 'If you’re a utility or public utilities commission, please consider using the Tesla Megapack. Better for the environment &amp; usually lower cost than fossil fuel peaker plants!  https://t.co/Ls4IfB0d6a', 'Cookie decorating contest with kids  https://t.co/tP06cr4Af5', 'Tesla Solar just relaunched. Lmk what you think …  https://t.co/mDoPO17YB9', 'Generates a *lot* of energy  https://t.co/k5nUWFb8iM', ' https://t.co/NLzW87AZC0', 'Nuking Mars one T-shirt at a time  https://t.co/Kiah2HbxFi', 'heh heh  https://t.co/UbHul2wgjM', 'No but srsly don’t do it  https://t.co/6kXAdGwWsC', 'Try playing Powerglide in your Tesla at volume 11  https://t.co/FCDc6wYvIr', '@slashdot Because our universe is actually a microverse in a miniverse. We probably just power someone’s brake lights.  https://t.co/0jgPXfsRpJ', '@cleantechnica But actual road data is what matters most  https://t.co/q44lsjJZZa', '🎶 Strangers in the Night 🎶  https://t.co/9ZURElJxJQ', 'Rocket fairing falling from space (higher res)  https://t.co/sa1j10qAWi', 'And @JayLeno really knows cars!  https://t.co/QN3x0UzP4v', 'Rocket fairing falls from space &amp; is caught by Ms Tree boat  https://t.co/nJv0Ry1iKk', 'Just left Starship Texas build site. Very proud of progress SpaceX team has made! Pics are of 9m dome rotation &amp; Starship airframe behind windbreak.  https://t.co/1cmOzkPlkn', 'Lyft/Uber/taxi drivers are expert Tesla advocates. Thanks for your support!!   https://t.co/coIzNY5QOO', 'Queen 🐝  https://t.co/InE4OIu9kL', 'Teletub 🐝  https://t.co/Vj4xtIyQ5S', '@IamEvilVictor It’s all about branding  https://t.co/C4uMF5cCdC', 'A US 🐝  https://t.co/WEvAwY465n', 'I ♥️ Top Hat   https://t.co/IcrlCErQWW', '@newscientist I dare say that 🐝 could use a nice 🎩  https://t.co/3NPn1dmUXj', 'Fates loves irony  https://t.co/T9sMcivKGK', 'Tesla Megapack now available for utility-scale energy storage  https://t.co/MQMgMkFfNm', 'Falcon rocket reentry from space with double sonic booms  https://t.co/6DDPjcOgQH', 'Falcon 9 piercing the sound barrier on reentry  https://t.co/pMkBaeHVqT', 'Encounter in 88  https://t.co/18ohUrtGQe', 'Drone cam  https://t.co/gVdMrMgUZq', 'Engine cam  https://t.co/3cWHU50353', 'Dr. Livingstone, I presume?  https://t.co/aV8t3s6nIz', '@Erdayastronaut @goathobbit Wearing black not recommended  https://t.co/lqoBFTeMX2', ' https://t.co/3DGSWBfQTq', 'Time to face reality  https://t.co/WOzE2XwlQv', 'Dance Dance 🐏  https://t.co/K0M6MsySCe', ' https://t.co/FiJ0U2eNX5', 'Woohoo 🥳  https://t.co/tZHmeBuLQ7', 'Made with rain ™️  https://t.co/CJJ7BYzxcj', '@Bliss_Hughes  https://t.co/RGKZSQNYoH', 'Neuralink surprise twist!  https://t.co/NdeFsHadm2', '♥️👽 SpaceX has Area 59 👽♥️  https://t.co/h4YUL1Xx51', 'Presentation streaming live from  https://t.co/nrsYGNF65K at 8pm Pacific', 'Graham’s number  https://t.co/QGQafEIqdZ', 'To Infinity and Beyond!  https://t.co/dgysTBqWfV', 'Also, I stole the idea from Spaceballs   https://t.co/1ozau39PQZ', 'Motor Trend awards Tesla Model S best Car of the Year ever in their 70 year history!!   https://t.co/TiMsQ3REvH', 'It’s Not a Flamethrower, Mr Escobar  https://t.co/TXH02nixIc', '@nichegamer The answer is always aliens  https://t.co/lql9XTJ7kb', 'Listening to Revolutions by Duncan  https://t.co/zc9BGT8bNP  Found this on a throw pillow …  https://t.co/COUXCF8fG4', 'Cat is out of the bag 🧙\\u200d♂️   https://t.co/epUKm0a3gr', '@austinbarnard45 Exciting progress in Boca! Hopper almost ready to hover. Based on tonight’s test, looks like 600 Hz Raptor vibration problem is fixed.  https://t.co/9bLWOHG0sV', 'Model X as it should be shown  https://t.co/lpog2ejWQK', 'What ants must feel like  https://t.co/NSsBZXnEvp', 'Landing on Ms. Tree  https://t.co/4lhPWRpaS9', 'Reason for top rating is that active steering &amp; braking safety features of Tesla Autopilot are turned on no cost for all cars  https://t.co/HBKwAEbgc9', 'Meme of recursive irony  https://t.co/hlrfkd9yGy', 'Yep, order online at  https://t.co/46TXqRrsdr in 2 mins &amp; car delivered direct to home', 'But, if you’re going to buy a merkin, be sure to haggle properly!  https://t.co/CdddCE2atN', 'Design &amp; production of The Spirit of St Louis was so incredible  https://t.co/IkBliEcSae', '@Ethyr44 @Erdayastronaut @SteelSully @annerajb @kickber @ExploreSpaceKSC Yes! I love botanical gardens. This is my favorite:  https://t.co/MP1JwqHv85', 'On Mars, I like to drink my coffee in this mug  https://t.co/DN7aIyhhQ3', '♥️🚀 Apollo 11 🚀♥️  https://t.co/zJ68cEalNL  https://t.co/jOemJIx87x', 'Falcon Heavy on LC-39A  https://t.co/FsfFa7bRRK', 'Yet another Monty Python reference, possibly my favorite  https://t.co/kzjh26eIEn', '@MinaMYoussef @Erdayastronaut @flcnhvy  https://t.co/NEHmzHYJEE', ' https://t.co/yUUSNdWMEw', 'Anywhere can be paradise as long as you have the will to live. 新世紀エヴァンゲリオン  https://t.co/bC2G5UYPzS', '@s8n  https://t.co/Fd4Ab64rOk', '@engineers_feed Real issue will an aging &amp; declining world population by 2050, *not* overpopulation. Randers estimate far more accurate than UN imo:  https://t.co/cdHf62bxpb', '@Kristennetten  https://t.co/IOGjoFzGDH', ' https://t.co/GcsHAMgnXz', 'Stonk tip of the day  https://t.co/tvPodcAtkK', 'Kids playing Beach Buggy in Tesla store  https://t.co/palYq9rPzl', 'Reminder that US federal tax drops by $1875 for any Tesla delivered after June 30. Order online at  https://t.co/46TXqRrsdr.', '@KTLA @HPRoboCop But on the inside …  https://t.co/tKvRtCYiMN', '@cleantechnica @Tesla Sole meunière  https://t.co/EYi4gHmJ5X', 'Touched by an 😇  https://t.co/LqPQ5Ff0PK', ' https://t.co/KTItxbXTbG', ' https://t.co/bhKdyN5hR6', 'Falcon Rising  https://t.co/XnXlTL8lhI', '@rstar346 @elonmusknt @Phil343thomas @TonyWuGZ @Tesla No need, Top Gear already did  https://t.co/dNEgqYHe7N', 'Unlike bees, who are experts in millinery  https://t.co/DhbkDqa19B', 'Truth is a metaphorical concept with no footwear or clothing of anything kind. Also, baby don’t hurt me haha   https://t.co/AKWsAqa3Ep', 'Can’t fool me it was 1669  https://t.co/WRNyfi4dXw', '“Not only was the paint without any discernible flaw, but the various panels formed a body of precision that was beyond reproach”  https://t.co/qISnFBiW9p', 'Also $2500 tax credit for California &amp; $500 to $800 utility incentive  https://t.co/lmD3ZNFR9M', 'US tax credit of $3750 drops in half for Tesla on July 1. Order online in a few mins at  https://t.co/46TXqRrsdr. Return in 7 days for full refund.', 'Tesla Solar Toof Tile V3.0 starting early trials  https://t.co/ueqBOovxYM', '@pewdiepie (muffled titter)  https://t.co/xAOnOzkDg6', '@tesla_truth Yeah, they were a little off the mark  https://t.co/yqZhvkbdrt', '@tesla_truth Read it on @BBCScienceNews  https://t.co/k9nJ5Q2QBS', 'This is my pet bee, Eric  https://t.co/pIjpXjLLEG', 'Found an old copy of @SignalApp  https://t.co/VY357uSeBk', 'Model 3 Performance  https://t.co/CONgjmwndY', '@13ericralph31 @varunversion1 @Erdayastronaut @SpaceX If we need to tweak sat orientation to minimize solar reflection during critical astronomical experiments, that’s easily done. Most orbital objects are close to Earth btw, as shown by this NASA density map.  https://t.co/83MwIZAEP6  https://t.co/NllMXregRg', '@varunversion1 @Erdayastronaut @SpaceX There are already 4900 satellites in orbit, which people notice ~0% of the time. Starlink won’t be seen by anyone unless looking very carefully &amp; will have ~0% impact on advancements in astronomy. We need to move telelscopes to orbit anyway. Atmospheric attenuation is terrible.  https://t.co/OuWYfNmw0D', '💨 &amp; 🌌  https://t.co/wWl7nEh98W', 'Boring Company guide to why tunnels are awesome &amp; safest place to be in an earthquake  https://t.co/ZZIPQlscw1', '@SpaceX Fairing halves recovered  https://t.co/F82LE8JlLJ', '@tommleach @trigomemetry  https://t.co/ViY0WgtfOZ', '@royalacademy @guardian @FT @Telegraph Did it for the memes  https://t.co/jVnidsSJmj', '@flcnhvy Top Secret  https://t.co/Gi2wN2HVyO', ' https://t.co/48s5D3IfWs', '@maggiejuang1 Sure is. I live here. Air quality is especially bad near highways.  https://t.co/XeBB5iP7mo', 'And I am forever grateful  https://t.co/kU1pT8t0yv', 'GoT season finale leaked  https://t.co/wMoLFDSsbt', '@mayapolarbear  https://t.co/G7HTDnsyU4', 'First 60 @SpaceX Starlink satellites loaded into Falcon fairing. Tight fit.  https://t.co/gZq8gHg9uK', 'By Spiderwee on Artstation  https://t.co/wE3HOKeZSt', '.@cgpgrey drives a Tesla across the loneliest road in America  https://t.co/UAovEHY4SE', 'Oh stop teasing, Jeff 😉  https://t.co/wuWPENcSE1', 'Model 3 Standard Range+ with Autopilot lease is $399/month at  https://t.co/46TXqRrsdr, but lots of other EVs available:  https://t.co/ePlZTmXcgG', 'Been wanting to go ever since that Finnish metal band won  https://t.co/KksntCDsAw', '@DiscoverMag Just kidding (obv), but the Fermi Paradox is bizarre  https://t.co/p367FQY0hN', 'Order online in 2 mins, 7 day return policy  https://t.co/46TXqRrsdr', '@marshmellomusic Here you go  https://t.co/CNhJwBCmx6', 'Maybe this goat is available  https://t.co/qo2hR7Vcsp', '@nichegamer Fate loves irony  https://t.co/wIzUpTuOYN', 'Deepfake  https://t.co/uBcXcNzJ8e', 'OG wisdom  https://t.co/zoj8qZDrRV', 'Malcolm @Gladwell’s new book is 👌  https://t.co/NQHWWIK650', 'Starships on Mars  https://t.co/AyKEO6ATiZ', 'Starship on the moon  https://t.co/UGjDG8ofID', '@martinengwicht @MoWo91 @mayemusk It’s pretty much the only theory. This will mess with your mind:  https://t.co/MHnzaBiDII', 'CleanTechnica summarizes new @BBC_TopGear print cover story  https://t.co/HGZZoQSTns  https://t.co/vPHCRSz4rv', 'As mentioned before, Tesla full self-driving option price will increase after May 1. You can order online at  https://t.co/46TXqRrsdr.', 'Motor Trend on Model S updates  https://t.co/Lw9kfkWM33', 'Model S drives from San Francisco to Los Angeles without recharging  https://t.co/cYiinwWBqd', 'Can order online in 2 mins for home delivery &amp; return in 7 days for full refund  https://t.co/46TXqRrsdr', '@ILuvAmp @ray4yu @tsport100 @Tesla Over a quarter million gasoline vehicle fires per year in USA alone  https://t.co/xoaK6v6T6f', 'Full Self-Driving video  https://t.co/9ESU8LLGFU', 'Tesla Full Self-Driving  https://t.co/pggm5ohVJC', '@TheMERL New uWu  https://t.co/kvlqvNq3Cg', '@TheMERL Old ewe  https://t.co/tTmOPWUAUp', 'Original moth meme  https://t.co/BYDQRzIine', '@techreview I’m an absolute unit too  https://t.co/Rf0BTJmeEN', 'Buying a car in 2019 that can’t upgrade to full self-driving is like buying a horse instead of a car in 1919  https://t.co/oEjXdmyJiJ', '@teslaownersSV @DannyLaShep  https://t.co/z9BVWS0O95', '@techreview Just use this handy guide  https://t.co/wWZGuNpe5f', 'Lease a Tesla online in a few mins &amp; have it delivered to your house (return within 7 days for full refund)  https://t.co/46TXqRrsdr', 'Leasing now available for Model 3  https://t.co/cz0TQn7IOZ', 'Both fairing halves recovered. Will be flown on Starlink 💫 mission later this year.  https://t.co/ouz1aqW3Mm', 'The Falcons have landed  https://t.co/BGQRNuYMVH', '@techreview 😲  https://t.co/64KuOQkXeO', '@techreview Found a pic  https://t.co/sVohudrKQK', 'Starhopper  https://t.co/VRnAUPjWPt', 'Starhopper just lifted off &amp; hit tether limits!  https://t.co/eByJsq2jiw', 'Stay positive 🧁  https://t.co/UJFreuacNP', '@Ci_b0rg Axel F  https://t.co/dJr8kGViLh  https://t.co/hvM0EcOoeP', 'Obv just someone in a 🐿 suit. Also, very sus that a 🦊 is reporting on this.  https://t.co/RZyhczaRCf', 'Dogecoin value may vary  https://t.co/UWerAhPv63', 'Dogecoin rulz  https://t.co/flWWUgAgLU', 'Making The Onion articles real …  https://t.co/O7855d9BWu', '@DailyRapFacts Jung  https://t.co/pDR4JI4lpu', 'Tesla Semi delivering Tesla cars  https://t.co/ttEpcW5d8G', '@annerajb  https://t.co/TKkruvyckP', 'Emo G Records  https://t.co/zsuB2NDl48  https://t.co/anVkKeFMGr', 'New Tesla referral program just released  https://t.co/RE6Ccx9yI5', '@jimcramer Jim Cramer explains short-seller market manipulation  https://t.co/veZLFWYE1t', 'Testing Starship heatshield hex tiles  https://t.co/PycE9VthxQ', 'Reminder to buy our S3XY cars before midnight on Monday! Prices rise slightly worldwide on Tuesday. You can order online at  https://t.co/46TXqRrsdr.', 'About a minute in, we flashed a teaser pic of Tesla cyberpunk truck  https://t.co/hLsGsdyuGA', 'End Titles from Blade Runner played after Model Y webcast cut  https://t.co/WjR1MidZpH', '@dimas_______ @LikeTeslaKim Yeah  https://t.co/bwVuRCTxC0', '@LikeTeslaKim  https://t.co/J3JyxGHwdi', 'Worth watching Revenge of the Electric Car. Covers rebirth of electric cars in general. Has footage before &amp; after we started production of our first car.  https://t.co/nq2nVjAGUI', 'S3XY  https://t.co/3ECtKEL2BH', 'Tesla car prices go up ~3% next week, except for $35k Model 3. Order online at  https://t.co/46TXqRrsdr before then for current prices.', '@NASA @SpaceX @Space_Station @Commercial_Crew Dragon 2 was designed to land using thrusters, with parachutes as backup. Switched to chutes as primary, due to difficulty of proving safety, but Dragon can still do it.  https://t.co/Mr7VFIQwWf', '@TheOnion  https://t.co/JoBxDo3zwh', 'Extremely important merch  https://t.co/3ZUin7kzYk', 'Russia has excellent rocket engineering &amp; best engine currently flying. Reusable version of their new Angara rocket would be great.  https://t.co/6RLvf5R4ni', 'Yeah, I lift a little …  https://t.co/UAJdv8qSw1', '@AstroAnnimal 💕💕💕  https://t.co/aazjdYnxZc', '@flcnhvy @Mariano_Oscos  https://t.co/OhMZIFVrN5', 'SpaceX team in Hawthorne control, Dragon docked to Station above  https://t.co/JUWkOrWjsH', 'SpaceX Crew Dragon has docked with International @Space_Station  https://t.co/CccsItLLvJ', 'Proximity docking sequence underway. Dragon shadow visible on on @Space_Station solar arrays.  https://t.co/ELsxgLIvf0', '@WorldAndScience One day we will be there to see for ourselves  https://t.co/MDs0h9cBqk', '@Ieoma123 I am not a dog. Here’s a pic of me:  https://t.co/HUy6YRyDnc', 'Earth floats gently in zero gravity  https://t.co/XUH3KeDPVe', 'SpaceX Crew Dragon recap   https://t.co/MmQmctxRSo', 'Super high tech zero-g indicator added just before launch!  https://t.co/CRO26plaXq', 'Ripley  https://t.co/Z9Ztram8Ai', 'Exact Tesla Model 3 in my profile pic costs $35k before incentives &amp; takes 1 minute to buy online at  https://t.co/46TXqRrsdr', 'Stop censoring science!  https://t.co/R4XEtymtnH', 'Oh hi lol  https://t.co/9WvbtTHoxS', 'Meetings are a valuable use of time!  https://t.co/sDcKdBp5e5', '@JayBahel  https://t.co/LJJCD7BAgX', 'Respawn++  https://t.co/MLAGk38Lkk', '@katlinegrey SpaceX commercial 🚀 launch market share went from 0% in 2010 to 65% in 2018. Despite massive subsidies to Boeing/Lockeed, they have never won a fair competition against SpaceX for several years.  https://t.co/sqAYCCcJtd', '@katlinegrey I have been chief engineer/designer at SpaceX from day 1. Had I been better, our first 3 launches might have succeeded, but I learned from those mistakes.  https://t.co/3r6ZqEc30A', '4000 Tesla cars loading in SF for Europe  https://t.co/BODbSzo3Fr', ' https://t.co/OA5Q8NnsNR', 'SpaceX foundry casting Raptor engine manifold out of Inconel  https://t.co/zWlqNwGj0R', ' https://t.co/JufeavpKj6', 'Of course I still love you  https://t.co/XNoLRKYnlc', 'CNBC - “Tesla Model 3 ranked most satisfying car”  https://t.co/shrTodu5dt', 'Tesla Model X first SUV to receive a perfect crash test rating  https://t.co/51dt8bYvzD via @businessinsider', 'Raptor reached 268.9 bar today, exceeding prior record held by the awesome Russian RD-180. Great work by @SpaceX engine/test team!  https://t.co/yPrvO0JhyY', '@rocketisfine @leo190102 I was simply too sexy for it  https://t.co/vugJLyZVjI', 'Just left Zeebrugge, now Tilburg, then Tesla HQ in Amsterdam &amp; Oslo tonight to review service in Norway. Exciting to see thousands of Model 3’s on their way to owners in Europe!  https://t.co/PeRo4jhiCB', '@westcoastbill Hope they don’t find this pic!  https://t.co/vwUJhFyWmS', 'Joe Rogan describes Tesla for 4 mins &amp; 20 secs  https://t.co/ju6N683Dd5', 'Raptor just achieved power level needed for Starship &amp; Super Heavy  https://t.co/NcqnAVWc35', '@SpaceX  https://t.co/sO2s0OcM4L', ' https://t.co/yFhNx3fiOD', ' https://t.co/ChEGbjTGKZ', 'First firing of Starship Raptor flight engine! So proud of great work by @SpaceX team!!  https://t.co/S6aT7Jih4S', 'At @SpaceX Texas with engineering team getting ready to fire new Raptor rocket engine  https://t.co/ACFM8AtY8w', 'Only a matter of time  https://t.co/8Eqn554hK0', 'How Model 3 performs on a long road trip   https://t.co/nHEGf5PsG2', 'Yes  https://t.co/3KoZ13fQEz', '@Lebeaucarnews  https://t.co/W60sKBdLPz', 'Just bought  https://t.co/LJJCD7BAgX oh yeah', 'Preparing to fire the Starship Raptor engine at @SpaceX Texas  https://t.co/8JCOi1BG6z', 'All our patent are belong to you  https://t.co/HPK5R5UMS6  https://t.co/t99riofeCI', 'Exciting to see all the new electric vehicles coming to market! We created Tesla to accelerate a sustainable future &amp; it’s happening!  https://t.co/IqREiDqIyL', 'Entropy is the source and the end of life in this instance of the Multiverse  https://t.co/0JmKUYAFRq', 'SpaceX documentary actual footage  https://t.co/RrEwYwMNgj', 'Great electric car documentary about early days of Tesla, GM Volt, Nissan Leaf &amp; Gadget. So much has happened since then …  https://t.co/nq2nVjj5w8', 'Host meme review?  https://t.co/k2SFtIUh1k', 'But, occasionally, the metal version  https://t.co/ogHYUPoA9z', 'Tesla Sentry Mode will play Bach’s Toccata and Fugue during a robbery (and keep Summer safe)  https://t.co/wnS5qLeB2E', '@Caseykins421 @justinandgreg Yeah, worked on my cousin’s farm for six weeks around my 18th birthday. I was so kewl.  https://t.co/XIRzRuXPJZ', 'Awesome moose sculpture! ♥️🇳🇴  https://t.co/CegEEHL4wz', 'Testing metallic heat shield at 1100C (2000F) @SpaceX  https://t.co/frP5eZ5a0z', '@tylertrench31 @NASA @Space_Station  https://t.co/67g5ylv8VN', 'Blood moon over LA tonight  (@kzooastro)  https://t.co/AgeMmYjss3', 'LA is so beautiful after the rain  https://t.co/caXOWAXcOM', 'SpaceX Dragon from as seen from @Space_Station viewport  https://t.co/WE82irbsmp', 'Falcon comes home  https://t.co/vCtOtHSbdn', ' https://t.co/gTaURPZral', 'Starship Hopper will do vertical flight tests similar to the Falcon 9 Hopper  https://t.co/5dCrGFqymR', 'Starship test flight rocket just finished assembly at the @SpaceX Texas launch site. This is an actual picture, not a rendering.  https://t.co/k1HkueoXaz', 'Starting on Monday, Tesla will no longer be taking orders for the 75 kWh version of the Model S &amp; X. If you’d like that version, please order by Sunday night at  https://t.co/46TXqRJ3C1', 'Btw, you can buy a Tesla online in less than 2 mins &amp; give it back for a full refund for any reason  https://t.co/46TXqRJ3C1', '@DOfaquarius  https://t.co/sPVLN8X22d', 'And now … we dance!  https://t.co/2TdS6EVSmi', '#NewProfilePic  https://t.co/W4xT1ywqjA', ' https://t.co/Vl6pIb1q9b', 'Falcon 9 on launch pad with Crew Dragon &amp; new astronaut walkway  https://t.co/aopO67qe4F', 'Matt DeBord reviews all Tesla models  https://t.co/ZZ7KW9cPpn via @businessinsider', 'Starship test vehicle under assembly will look similar to this illustration when finished. Operational Starships would obv have windows, etc.  https://t.co/D8AJ01mjyR', '@KeukenFiets  https://t.co/H5h62XvdYN', '@Korey_IRL @vioblet  https://t.co/YKHC4TSByn', 'There are no coincidences  https://t.co/9AEbbuXZGn', 'Model 3 mid-range EPA rating is actually 264 miles, slightly higher than prior estimate of 260  https://t.co/l4eCpTObAi', 'Congratulations @Tesla team!!  https://t.co/PBr9VVBv1S', 'Good summary of Tesla progress in 2018 by @cleantechnica (due to Tesla team, not me though)  https://t.co/vZgYts9auG via @cleantechnica', 'Excited to have Larry Ellison &amp; Kathleen Wilson-Thompson join the Tesla board!  https://t.co/CQyvkgsCsT', 'Most people don’t know that the Tesla Supercharger network allows easy long distance travel throughout USA, most of Europe, Canada and China  https://t.co/ZzN9Tabq8C', 'Most importantly, every electric car, Tesla or otherwise, matters to the environment we all share. Every time someone chooses electric, the future gets a little bit brighter!  If not Tesla, please take a look at these other options:  https://t.co/FZVNlGWYgA', 'There are also many state &amp; local incentives, for example California offers $2500, plus $800 from utilities &amp; access to carpool lane, Colorado $4000, etc  https://t.co/lmD3ZNFR9M', 'Reminder to US buyers that the $7500 tax credit cuts in half in 5 days! Order online at  https://t.co/46TXqRrsdr to see if there is any inventory left in your region or visit Tesla stores.', 'Stainless Steel Starship  https://t.co/rRoiEKKrYc', 'At SpaceX Boca Chica launch site in Texas  https://t.co/MtxkuhDDdE', 'Tesla has released all cars for sale where original customer can’t take delivery before year end, as well as test drive / display cars, which cost less.  Reminder to US buyers that $7500 tax credit drops in half in 8 days. Order online at  https://t.co/46TXqRrsdr or visit stores.', '💛 Bajirao Mastani 💛  https://t.co/XbmDpiyfOP  https://t.co/DZyV6S7TJZ', 'As a thank you to Tesla short sellers, we named a 💨 after them haha  https://t.co/5GCgM4RT4W', 'Perhaps lost in the transport debate is that @boringcompany built a 6000 ft tunnel in LA for ~$10M with V1 (Godot). Next tunnel will be made with V2 (Line-Storm). V3 (Prufrock), aspirationally 10X better, should be operational next year. For reference:  https://t.co/LS4EhN57Mw', 'Are tunnels safe in an earthquake?  https://t.co/vxcZ2Hi2qx', 'Tesla in @boringcompany tunnel with retractable wheel gear that turns a car into a rail-guided train &amp; back again  https://t.co/3a6i0NoSmi', 'Boring product launch will be streamed live at 8pm California time tonight  https://t.co/bwRt49d34V', '@TechCrunch Clayton is wrong. New tech is always expensive. Tech disruption occurs at *high end*, eg computers &amp; cell phones. It takes many design iterations &amp; vast economies of scale to achieve mass market affordability.  https://t.co/Z81VfL0yaz', ' https://t.co/E8fhyjN0pD', '@businessinsider This part is true. I was trying to explain that we don’t want our cars to have a “tinny” sound.  https://t.co/VxO9rR1uAf', 'Important note for US Tesla buyers: Federal tax credit drops by $3750 in 3 weeks.   To be on the cancellation waitlist for delivery this year or if you want a display car, order at  https://t.co/46TXqRJ3C1 or visit our stores. Full refund if Tesla can’t deliver your car this year.', 'Major credit to AC Propulsion for the tzero electric sports car 1997-2003 that inspired Tesla Roadster. Without that, Tesla wouldn’t exist or would have started much later.  https://t.co/NxCgYO9JXx', '@brandonorselli Buying  https://t.co/46TXqRrsdr took over a decade, $11M &amp; amazing amount of effort. Didn’t like  https://t.co/BsRfMrY9Gm even when we were only making 🚘.', 'Tracking shot of Falcon water landing  https://t.co/6Hv2aZhLjM', 'Engines stabilized rocket spin just in time, enabling an intact landing in water! Ships en route to rescue Falcon.  https://t.co/O3h8eCgGJ7', '♥️♥️♥️♥️🛸🛸🛸🛸♥️♥️♥️♥️  https://t.co/EX8RPQdc8r', '@rainnwilson Your Tesla can function as a boat for brief periods of time  https://t.co/FONhnIiv8j', 'Boring breakthrough @BoringCompany  https://t.co/pSflhZadwC', '@WorldAndScience Earth’s crust is only ~1% of Earth mass, so technically we should be called Lava  https://t.co/Lm6doeOq2x', 'If you don’t want a Tesla, here’s a list of all electric cars in North America  https://t.co/phhBjCh2YI via @cleantechnica', '🚀 Starships were meant to fly 🚀  https://t.co/6yclRVZZFQ', 'Congratulations @BoringCompany on completing the LA/Hawthorne tunnel! Cutting edge technology!  https://t.co/80WbSQekCQ', ' https://t.co/TQhb9hQRxQ', 'Boring Company just broke through the other side!!   https://t.co/4yxQgpPVfZ', 'Listening to Better Now  https://t.co/VyCkLWkRtA', 'Looking back at the sun from upper stage &amp; Falcon 9 🚀 landed on drone ship Of Course I Still Love You  https://t.co/sg3FXIDQJL', 'Not much but it is ours  https://t.co/gx2l84M3f7', 'The Boring Company is building a watchtower in LA out of dirt bricks &amp; we need a knight to yell insults at people in a French accent  https://t.co/VChOVXXVaz', 'Tesla just acquired trucking capacity to ensure Model 3 can be delivered in US by Dec 31 if ordered by Nov 30  https://t.co/npmPuSXNWC', ' https://t.co/gt8PXloMZn', 'Oh hi guys … lol  https://t.co/TX10I0Ecrn', ' https://t.co/xGJ4Bc6HpL', 'Star Wars only had an $11M budget. Must have been in the galaxy of ridiculously low budgets.  https://t.co/GcRL2uN7J7', 'Bring Me the Horizon  https://t.co/sCQpEofnPg', '@GlamandGore  https://t.co/l8kmDOLJkZ', 'Glad you’re ok @tylerthecreator   https://t.co/ie4yBMw0tW', '@JamesLandino im actually cat girl here’s selfie rn  https://t.co/2h4WeuwepE', 'Fire and Ice  https://t.co/ulgSZ1wlPl', 'My twitter feed rn  https://t.co/48Ay7CxR56', 'Fresh puro from my meme dealer  https://t.co/EdU5uJVVne', 'How’d they know!?  https://t.co/AZh4EOrgmc', '@vicentes @Grimezsz Wanna buy some Bitcoin? 😉😉  https://t.co/9ZbBJ5fuVq', '@Kirinodere  https://t.co/2exdO1Hoks', '@BoredElonMusk Digital Style!  https://t.co/aBkfpz6tvt', 'Had to been done ur welcome  https://t.co/7jT0f9lqIS', 'Just released lower cost, mid-range Tesla Model 3 &amp; super simple new order page  https://t.co/cz0TQn7IOZ', 'Dog saves her puppies  https://t.co/czPVEwpPhi', 'Tomorrow brings a lemur  https://t.co/rm6S17h35q', 'Special Circumstances  https://t.co/Kk36qj6XJt', 'Love Your Name  https://t.co/fRU7nTWnML', 'Visual approximation  https://t.co/sMn3Pv476Y', 'At Falcon LZ-1 Vandenberg on Sunday night with the Base Commander. Support of @USAirForce much appreciated.  https://t.co/76vsbkCN6n', 'Studebaker Museum in South Bend  https://t.co/Odti9y0McC', ' https://t.co/kB6RBscyYH', '(Credit @_TomCross_)  https://t.co/ZsRRVy2iDS', 'Falcon has landed  https://t.co/joqphUs1AO', 'Tesla owner shows how well ultrawhite seats hold up after 25,000 miles. The black &amp; white interior is def best imo.  https://t.co/vWQ8X8JHYF', 'Sonic boom warning. This won’t be subtle.  https://t.co/WY7dn6BBY1', 'Blade Runner — Esper Edition — Vangelis  https://t.co/DiwsRmaDA0', '@MebFaber Not all. However, shorting applied to market as a whole is obv net negative — it incents negative gdp! Moreover, it stops private companies from going public, preventing access by retirement funds &amp; small investors, thus increasing wealth divide.  https://t.co/7jk2Bs56HR', 'By revenue, taking publicly available selling prices, Model 3 actually outsold Camry by a factor of two  https://t.co/1ZTDk8HvJh', '@dailystem @LFlemingEDU @atkauffman @JustinAglio @TheTechRabbi @smgaillard @jsnhubbard @mrnavas @WickedDecent @gregkulowiec This is amazing  https://t.co/zNaE8p2nHs', 'Naughty by Nature 😉  https://t.co/muZdxJWjyZ', 'And remember …  https://t.co/UaDUv4OlZf', 'Mars Base Alpha  https://t.co/O1llQp8rFY', ' https://t.co/Fn0hKJd3uJ', '@LanceUlanoff Simple explanation of polar moment of inertia &amp; other important car terms at  https://t.co/CftQ1v9YCL', 'True 😀  https://t.co/CS6semhKm6', ' https://t.co/nqgfNWlm4Z', 'Hanging out with @yousuck2020 before the @SpaceX moon mission announcement  https://t.co/RTOwutzMtG', ' https://t.co/dUpiavvM1Z', ' https://t.co/d1KEp44zjm', 'Tesla owners can grant free Supercharging for life to a friend who buys S/3/X. Ends tomorrow night.  https://t.co/7ZDXeIQVc7\"', '@mcwm Wut?  https://t.co/suB8ZFtthK', 'Good times with @JoeRogan …  https://t.co/8uZUsEJoq1', ' https://t.co/Q9JE06lmWN', 'Read Eliot’s notes on The Waste Land  https://t.co/2SSsHiJmiO  https://t.co/uToAi4kBi1', 'Model 3 review by Unbox ...  https://t.co/UeA9MXyva1 via @YouTube', 'Tesla deliveries &amp; AP hardware chart by @lexfridman at MIT  https://t.co/6vZxKMcec2', 'Love The Handmaiden. Director also made original Korean Oldboy.  https://t.co/FtXqNflQlr', 'Performance Model 3 review by @mattdebord  https://t.co/uEA599VPcX', 'Dang, turns out even Hitler was shorting Tesla stock …  https://t.co/RLM1VQ5O3K', 'Falcon 9 launches Iridium to orbit from Vandenberg Air Force Base  https://t.co/7GTzx0a24d', '@DiscoverMag Science ♥️🔬💫  https://t.co/HIAnWrrZwM', '@DiscoverMag Oh yeah? I’ll see ur expert &amp; raise you a Chris McKay @NASA 🌏🚀👨\\u200d🔬 😀 https://t.co/LEXPf93ryT', ' https://t.co/PctxEIDekX', 'Worth another retweet. Hope Dan Neil returns to Twitter. He left due to relentless attacks from short-sellers, who constantly peddle fear, uncertainty &amp; doubt about Tesla. Dan won the Pulitzer &amp; is considered by many to be the best car critic in the world.  https://t.co/txW3DDJpth', 'Wagnerian  https://t.co/Mjt0bNCdIY', 'Mötor Trēnd  https://t.co/jilxFHjkYW', '@ryan_caldbeck @Tesla Yes, Tesla Model S, X &amp; 3 all automatically keep cabin temperature within safe limits even when parked  https://t.co/yVkWQfPlbm', ' https://t.co/ys9qlwcnpc', '🦄💨✌️  https://t.co/8GjqCbsuo0', 'Thank you for fighting climate change. This affects every living creature on Earth.  https://t.co/mm0cpaQLsn', 'Wrote in Grimoire, joined Fellowship  https://t.co/CFYBo3ZofE', 'Interesting read  https://t.co/6vvIEtYPiY', '@M3CHWARRI0R935 @itsMikeSki @deadpoolmovie Even have the URL  https://t.co/bOUOek5Cvy', 'With my team after a profoundly interesting discussion of history, philosophy &amp; luck with Vice President Wang in 中南海紫光阁  https://t.co/pHd52YTZD2', 'Just between us, I have a teleportation stargate to the Andromeda galaxy. It’s amazing.  https://t.co/eLqr4pLeIX', 'So true  https://t.co/DLagzIxyHm', 'Catching rocket fairings falling from space has proven tricky, so we made the net really big  https://t.co/WMeNZeksRq', '@BBCWorld The former Thai provincial governor (described inaccurately as “rescue chief”) is not the subject matter expert. That would be Dick Stanton, who co-led the dive rescue team. This is our direct correspondence:  https://t.co/dmC9l3jiZR', 'Just returned from Cave 3. Mini-sub is ready if needed. It is made of rocket parts &amp; named Wild Boar after kids’ soccer team. Leaving here in case it may be useful in the future. Thailand is so beautiful.  https://t.co/EHNh8ydaTT', 'Simulating maneuvering through a narrow passage  https://t.co/2z01Ut3vxJ', ' https://t.co/D1umiFDr1t', '@dcliem   https://t.co/jL2sPT0NCp', 'Extremely talented dive team. Makes sense given monsoon. Godspeed.  https://t.co/t5XRo3gTxK', '@thesheetztweetz @CNBC @Lebeaucarnews Lopez wrote that Melissa Lee of CNBC was “dancing her face off” with Chanos in Vegas. Is this true?  https://t.co/jy7sQkZ4R5', '@S_Padival @lopezlinette Why did @lopezlinette publish a love letter puff piece about Chanos’s cuff links? Who took the pic? Obv not objective  https://t.co/eaLVIgwm7k', '@S_Padival @lopezlinette   https://t.co/ystkbF7p1W', '@S_Padival @lopezlinette .@Lopezlinette posted on social media that she was partying in Vegas with Chanos &amp; Tepper with caption “Love both these dudes”. Doesn’t sound very objective  https://t.co/oy1Tz6Cg68', 'Note, no one is in the car or controlling remotely. Car is driving entirely by itself.  https://t.co/xSG2Mmy756', 'Whoop whoop  https://t.co/Xq3JlcQizc', 'The Spice Flows  https://t.co/YMyhVGIxHc', 'Who likes short shorts?  https://t.co/hoKsDT8xdS', 'Excession  https://t.co/h4AYwxbS3h', '@stui999   https://t.co/AZ4aidXs33', 'Space Laser  https://t.co/8CQ6L9si3f', 'Spacebow  https://t.co/Ht4GCsaQo9', 'The Spice. Must. Flow.  https://t.co/ov4aLIwzKz', 'Open the Knaack HAL  https://t.co/EG47rvPppF', 'Paint shop  https://t.co/G2rIe1qYG4', '@pulletsforever All Tesla vehicles come with cabin overheat protection  https://t.co/q9fjKckewO', 'You’re welcome!  https://t.co/NcsGhhB1Ja', '@cubamark That goes without saying  https://t.co/h5WDKpfZi0', '@Penenberg For sure! When doing US govt crash safety testing, the Model S roof was so strong, it broke their testing machine.  https://t.co/m9Ae9mhRIC', '@justwidle2 @Tesla Then you will really hate that Tesla scored 100/100 four years in a row on LGBTQ equality  https://t.co/AzwWIhpyLW', '@RehearsalLot @guiscaesar @surfersnout @aedmondsauthor @barbiesway @TwitterMoments @RepMaxineWaters @PolitiFact This Washington Post article seems good  https://t.co/R1d9ixg179', 'This is why we must preserve the light of consciousness by becoming a spacefaring civilization &amp; extending life to other planets  https://t.co/UDDP8I1zsS', 'It’s real  https://t.co/L9h3F86Guo', 'Tesla Semi Truck in Mad Max Mode  https://t.co/hL5v9rikhW', ' https://t.co/SiIkkugFyC', 'Looks so sus when we paint cars red  https://t.co/SIO2nInjhJ', 'srsly  https://t.co/v9stLUFwg2', 'Tesla factory rn  https://t.co/EbgRDhRZ0m', '.@WidespreadPanic  https://t.co/FTrXKmoGBC', ' https://t.co/5CS4McZmPK', 'What is my purpose? Sentient seats.  https://t.co/s9aHHyDoud', 'Without change, something sleeps inside us, and seldom awakens. The sleeper must awaken. FH …  https://t.co/FjW31RPSqh', 'Dune. The spice must flow.  https://t.co/WjVUX0gfuH', ' https://t.co/8nnlWHUjXw', 'Cool video  https://t.co/FW24TRL687', 'Thank you for helping those in need  https://t.co/GF7b3y7MLr', 'Shelter  https://t.co/bLVrv0WpJb', '@scottlynch78 @jenphalian You’re welcome, bad fiction writer 78  https://t.co/ypglGbdEse', '@amendlocke Your union brothers  https://t.co/DsGvlscvc6', 'Search UAW and “corruption”. Very long reading list. Great organization.  https://t.co/9RVR31vzbc', 'Well said  https://t.co/lDPaIPLLzO', '@Shaynooooo @kausthav_ray @SpaceX  https://t.co/sYo8iIodjG', 'The Semi-erotics of Evil  https://t.co/g1pffKexRJ', 'The enemy of my enemy is myself  https://t.co/momMBAEuzU', '@AbeDurrani @NelStamp @RRescenko @peterthiel I disagree with that goal &amp; gave away Tesla patents to help other companies  https://t.co/HPK5R5UMS6', 'Amazing work by Tesla team. Built entire new general assembly line in 3 weeks w minimal resources. Love u guys so much! Pic of 1st Model 3 dual motor performance coming off the line …  https://t.co/Xr55P3fmGd', '@LanceUlanoff @lea_bitterwolf @jlgolson Already did. Meant to go longer, but ran out of time.  https://t.co/s8g76wTqLl', 'My “pay” is in options, which only matter if stock goes up &amp; I sell. Will use that to make life multiplanetary, help education &amp; environment on Earth w my foundation. Just don’t want us to be sad about the future.  https://t.co/l3YEvjvyuz', 'Difficult, but necessary Tesla reorg underway. My email to the company has already leaked to media. Here it is unfiltered:  https://t.co/4LToWoxScx', '@FredericLambert That’s quite a blast from the past! After my Zip2 experience w patents, I felt that patents (particularly software) inhibited innovation, instead of fostering it. I aspired to file zero patents after that. In 2014, we open-sourced all Tesla patents  https://t.co/HPK5R5UMS6', 'Terms &amp; conditions for “Not-a-Flamethrower”  Please use as directed to avoid unintentionally burning things down. For simple &amp; concise instructions, we drew upon wisdom in great Dr Seuss book “Green Eggs and Ham”.   #ThrowFlamesResponsibly  https://t.co/kgj8W8EOLJ', 'Nothing makes your baby more zen than a few gentle puffs of a TBC Flamethrower  https://t.co/HewJf66hh2', 'First 1000 Boring Company Flamethrowers being picked up today!  https://t.co/hBMp5fGzAB', 'Running track in @SpaceX BF Spaceship will look something like this  https://t.co/563upTfV58', 'Tip of the day …  https://t.co/MjbYlseX45', 'Am def not under any illusion that this will end illiteracy, but I hope it helps at least a little  https://t.co/06IA9Xy6bL', '@sonic_hedgehog Good morning, Sonic. Not sure how to break it to you, but …  https://t.co/RPpOchBMKJ', '@STcom But don’t worry, cars have been tested for emissions levels &amp; everything’s just fine  https://t.co/cg4ooQSrX3', 'Glad you’re ok!  https://t.co/zuuYCUIKus', 'Some details on the Tesla air filtration system  https://t.co/kRPwg7TGsu', 'Filters bacteria, viruses, spores, pollen &amp; particulate of almost any kind  https://t.co/dlQHJfKdpU', 'Cool, Tesla S/X have hospital operating room air quality when BWD mode is activated, so shd protect against even a weaponized virus  https://t.co/gIELCeXN1C', 'Best analysis of Model 3 to date (German)  https://t.co/kCd3qWODiR', 'Finders keepers 🚀🚀🚀  https://t.co/zyV71zRIFQ', '#Pravduh  https://t.co/ZlMp13WOxW', 'Hell of a week  https://t.co/jKsfykkG55', '@Edwardpumps Just for perspective  https://t.co/ZfMR1aOinY', 'All items below will go to all Model 3s within next few months with V8.2 software. To report a bug or ask for a feature, press voice button, say “bug report” followed by issue description.  https://t.co/ea7FTOn2cE', 'Really appreciate the high quality critical feedback from @ConsumerReports. Road noise &amp; ride comfort already addressed too. UI improvements coming via remote software update later this month.  https://t.co/ZMLPJxmPlM', 'Like you guys too 🚘 🖤  https://t.co/PVQVyR1nXY', '@NoahShachtman @thedailybeast @erinbiba This journalist has been attacking me for months incl using genitalia language that she now says is sexist. What a hypocrite!  https://t.co/aXPsmLnh48', '@joshuatopolsky @oneunderscore__ @ParkerMolloy @2sunsky @ashleyfeinberg Seems to be glitch where tweet to which I replied isn’t showing up, removing context. A journo said polls are meaningless because controlled by “powerful people” &amp; my response was that powerful people also own media. Thus, if you discount polls, you should also discount media.  https://t.co/c01JolZENY', '😃  https://t.co/9kUYHCCaRN', '@CalebHarmon5 About to ship. @BoringCompany holding flamethrower pickup parties in a week or so, then deliveries begin. Check  https://t.co/WTl3TOTOkt for details.', 'Sometimes … when I have hurt feelings, I play this song …  https://t.co/QK6cECmxsS', 'But femtotech is the future …  https://t.co/NODkOer8oS', 'Yeah, that’s exactly right. But after suggesting public critique, I was stunned to see the level of contempt many in media have for their readers. This is way worse than I thought.  https://t.co/NMAks4jrZ1', 'Well said. NYT journo is outraged that “dumb” public wd dare critique him while attacking me for being sensitive to criticism. Uhh...  https://t.co/vZbyUY1rf4', 'Wow, amazing Tesla hypermile drive happening  https://t.co/jJWufZ98C9', '@tedhu @omcintyre @CrampedEyes @SpaceX @Tesla Gwynne has been prez of SpaceX for 10 years &amp; well-deserved  https://t.co/XL581njDHP', 'Can’t believe someone leaked this schematic of the Tesla production system!!  https://t.co/ylAX3uKTI1', 'Global map of Tesla Superchargers, including those coming soon  https://t.co/Ld5FQgCSs1', 'Problem solved, was able to buy  https://t.co/ivSUwPqsDT! Game on …', 'Turns out  https://t.co/S5kmNfnih8 is actually owned by Ukraine. For some reason, Russia didn’t bother to correct me …', 'Tried to buy  https://t.co/S5kmNfnih8, but Russia said no. Turns out they already use it.', '@medickinson @thephysicsgirl Nano applies to everything &amp; therefore means nothing. Definitely indicates bs. Sorry.  https://t.co/WQp8j9YkeJ', '@DX_1 Be careful what you wish for  https://t.co/3mSj15UeIw', 'My point exactly  https://t.co/PQ7PFqeC3X', 'Maybe the media credibility rating site should be called “You’re Right!”  I do actually own  https://t.co/1JqqCF9inA, but for the moment I just have it automatically forward to Facebook News.', 'The holier-than-thou hypocrisy of big media companies who lay claim to the truth, but publish only enough to sugarcoat the lie, is why the public no longer respects them  https://t.co/Ay2DwCOMkr', 'SpaceX Crew Dragon ship in anechoic chamber for EMI testing before being sent to @NASA Plum Brook vacuum chamber  https://t.co/BckUBkroLw', '@GothKazu Check out  https://t.co/bwRt49d34V. Build-your-own life size Egyptian pantheon merch coming soon.', 'Skip forward to see the most boring presentation ever  https://t.co/dD730jbggQ', 'Excited for @boringcompany partnership with LA Metro  https://t.co/hpqXC3yjQ6', 'lol  https://t.co/jTV7jhLWYP', 'Boring Company Hyperloop will take you from city center under ground &amp; ocean to spaceport in 10 to 15 mins  https://t.co/VhpfhgdXSd', 'It’s super messed up that a Tesla crash resulting in a broken ankle is front page news and the ~40,000 people who died in US auto accidents alone in past year get almost no coverage  https://t.co/6gD8MzD6VU', 'Lovely story  https://t.co/fIsvSIx3Uu', 'Good piece by Ars  https://t.co/7C3X0TjUX9', '@existentialcoms Fossil fuels subsidized at $10 million a minute, 24 hours a day, 7 days a week  https://t.co/zAZOohjb4E', 'Launching in ~4 mins  https://t.co/4vMvdEQAx7', 'First Boring Company tunnel under LA almost done! Pending final…  https://t.co/oWHlwOgCJE', '@alyankovic @Grimezsz My a capella cover of Amish Paradise is irresistible  https://t.co/mBo6aJV42O', 'Tesla quarterly all-hands video. Love the shot of wild horses &amp; Giga in winter  https://t.co/ZGZbpSFhus', 'Night at the museum. G has mad skillzsz. Me not so much.  https://t.co/xFhGncvMhH', '@MarinPilates @WeDragonSlayers This chart shows how crazy low payout is to labels &amp; the artists only a small fraction of these numbers  https://t.co/2us0rzTMqk', '@MarinPilates @WeDragonSlayers Prob iTunes, but whatever works 4u is fine. Most people don’t buy music &amp; artist earnings from streaming are tiny. Mostly about touring.  https://t.co/7eITqomrqc', '@WeDragonSlayers Flesh without Blood &amp; Kill V Maim on Art Angels album  https://t.co/MycGWvbYGk', '@Grimezsz Love Powerglide too   https://t.co/l07YbZLdIG', ' https://t.co/WavNr0ZtDn  https://t.co/Z5w69RXtxu', ' https://t.co/OgAHAWkNkU', 'Warren Buffett is huge in candy. It’s actually true.  https://t.co/UqzIxPGCM2', ' https://t.co/GUnnlJoPbU  https://t.co/7tMzFk8v9G', 'Looks like sooner than expected. The sheer magnitude of short carnage will be unreal. If you’re short, I suggest tiptoeing quietly to the exit …  https://t.co/A0Q90pSLKA', 'First, it’s important to know that Tesla is the most shorted (meaning most bet against) stock on the market &amp; has been for a while  https://t.co/srEp1tf6ZU', 'You’re most welcome  https://t.co/5lOHSWHWhc', '@drgitlin Your numbers are incorrect. Tesla Fremont is 3rd in world after a 🇳🇱🌸 place &amp; 🇦🇪 mall. Giga will be largest when complete.  https://t.co/pTMJ2QcoHk', 'Woke Frisbee  https://t.co/jSvZyQbZ6O', 'La la la  https://t.co/rLQfmrcNO2', 'Falcon 9 fairing opens its parafoil after reentering the atmosphere  https://t.co/WWz7MhmKaM', ' https://t.co/3ZyzXoJjcc  https://t.co/Er71Qz68Rh', 'Tesla batteries are currently live &amp; delivering power at 662 locations in Puerto Rico. Team is working 24/7 to activate several hundred more.  https://t.co/OMu8qKJvLy', ' https://t.co/MMRtF3jHD5', ' https://t.co/JIl6vzhQAx', ' https://t.co/dEOd5GKfdk', 'Now  https://t.co/4CLYzLR9mk', 'Driving a Model 3 and playing  https://t.co/5xa3FUWuXy', 'Interview and Tesla factory tour with Gayle King  https://t.co/693jZBk4Km', '@La3_id @TheOnion   https://t.co/qOyH1VVBVp', 'SpaceX main body tool for the BFR interplanetary spaceship  https://t.co/WbTITI6WSu', 'Free viewing ends in about 5 hours  https://t.co/bracGDFd0r', ' https://t.co/WehHd0eJeO at 5M views after 36 hours. Congrats to Chris Paine &amp; co!', 'Nothing will affect the future of humanity more than digital super-intelligence. Watch Chris Paine’s new AI movie for free until Sunday night at  https://t.co/WehHcZX7Qe', 'Chris Paine AI movie premiering tonight  https://t.co/kXM7USFi8D', '@Teslarati @13ericralph31 @w00ki33 Oh yeah, forgot to mention it actually landed fine, just not on Mr Steven  https://t.co/HckB2OkJ5L', '@TommyThornton What about this?  https://t.co/s5zcMvzXC7', 'Elon was found passed out against a Tesla Model 3, surrounded by \"Teslaquilla\" bottles, the tracks of dried tears still visible on his cheeks.   This is not a forward-looking statement, because, obviously, what\\'s the point?  Happy New Month!  https://t.co/YcouvFz6Y1', 'Love seeing the scars of the rocket  https://t.co/y5FQrLcV9B', 'Best music video art I’ve seen in a while  https://t.co/F2E4zDZMyM', \"House party for the autonomous anarcho-syndicalist commune!! —— Peasant Woman: Well, how'd you…  https://t.co/c85wR2xelx\", ' https://t.co/C98mW0OPAF', 'No technology is too advanced for The Boring Company!  https://t.co/r3EJYpcpkO', '@Ron_sanes No real surface is perfect, but it did pull about 250,000 lbs of muck rail cars out of a tunnel  https://t.co/wlKbLwd0f7', 'Model X pulls a 95,000 lb (15,000 above US road legal limit) semi truck on a pure snow surface  https://t.co/AqmvgMXIYo', 'Better to be in the Model X  https://t.co/r0Tf79PSxE', 'The Swiss police are smart. Electricity vs diesel &amp; maintenance more than make up for purchase price diff. Plus, the bad guys will def not escape. That’s worth a lot …  https://t.co/fE6zmM8C3F', 'Maybe there should be 2 providers for Chicago advanced transit. Monopolies are so boring ...  https://t.co/hXJBtKgbiB', 'Petra and Mars  https://t.co/AFgsZVlImZ', 'Paid respects to Masada earlier today. Live free or die.  https://t.co/RIfSVHRkDY', 'Learning how to pour flaming absinthe over a tower of glasses in a Jerusalem speakeasy.…  https://t.co/kLFzl7SjH5', 'My brother, Jonah and I are going to do a cover of My Little Buttercup from The Three Amigos. It will be terrible. There will also be a plethora of Q and sometimes even A.  https://t.co/4xHux9DNnn', 'On the Westworld set with my bro @kimbal  https://t.co/UNSB4vGp5O', 'Why Falcon Heavy &amp; Starman?  Life cannot just be about solving one sad problem after another. There need to be things that inspire you, that make you glad to wake up in the morning and be part of humanity. That is why we did it. We did for you.    https://t.co/5STO7q4wro', 'Better video coming soon, but it would look a bit like this:  https://t.co/C0iJPi8b4U', ' https://t.co/wJDmXrEuKi', ' https://t.co/pNElNTmcKf', 'First production cargo trip of the Tesla Semi heavy duty truck, carrying battery packs from the…  https://t.co/6fIMYGfKw1', '@FutureCars360 @Tesla Will have Model X do a cover of Happy Birthday by Marilyn Monroe  https://t.co/8TaiBF6HLs', 'Deep in the hole with my boring machine. Sometimes when we touch, the honesty’s too much ...  https://t.co/pl6ap14tAB', 'And New York  https://t.co/gKuzKMLYS1', 'And we are even worse than that in California  https://t.co/WIKetQShMP', 'China’s progress in advanced infrastructure is more than 100 times faster than the US  https://t.co/fcqGIK78RY', 'First two Starlink demo satellites, called Tintin A &amp; B, deployed and communicating to Earth stations  https://t.co/TfI53wHEtz', 'Falcon fairing half as seen from our catcher’s mitt in boat form, Mr. Steven. No apparent damage…  https://t.co/48ZGaUwQOY', 'Going to try to catch the giant fairing (nosecone) of Falcon 9 as it falls back from space at…  https://t.co/CVS2PoaJah', 'I’m sure it’s parked around here somewhere …  https://t.co/cq4LEhu4qD', 'My new toaster  https://t.co/1pw7xJeLpB', '@doug_ellison @DavideDF_ @dsfpspacefl1ght  https://t.co/LijrUMuJDq', 'Love and Rockets  https://t.co/VnnFXb1Iig', 'Falcon Heavy engine plumes look like giant laser beams in this photo by rocketphotography  https://t.co/d1RKdPTNj5', 'Last pic of Starman in Roadster on its journey to Mars orbit and then the Asteroid Belt  https://t.co/IWSjRyTr8V', 'Third burn successful. Exceeded Mars orbit and kept going to the Asteroid Belt.  https://t.co/bKhRN73WHF', 'On the rocket LZ  https://t.co/UyiNd2fmi5', 'Printed on the circuit board of a car in deep space  https://t.co/8ZMJVUs4W1', 'Currently over Australia 🇦🇺  https://t.co/HAya3E6OEJ', 'Live view of Starman  https://t.co/gvSlztlE6l', 'View from SpaceX Launch Control. Apparently, there is a car in orbit around Earth.  https://t.co/QljN2VnL1O', 'Rocket LZ 1 and 2  https://t.co/gckyKKIK4I', 'Camera views from inside the payload fairing #FalconHeavy  https://t.co/vQaz2yJ5yY', 'Flight profile #FalconHeavy #SpaceX  https://t.co/LlfWXqUaLP', 'Live webcast of the launch at  https://t.co/bDd3GxQXMC', 'About 2.5 hours to T-0 for Falcon Heavy. Watch sim for highlight reel of what we hope happens. Car actually takes 6 months to cover 200M+ miles to Mars  https://t.co/tC3B26r651', 'Falcon Heavy sends a car to Mars  https://t.co/Y7uBtU6Mt2', 'Regular departures ...  https://t.co/5GM9CbMewd', ' https://t.co/nhB3gd0Gm6', 'Starman in Red Roadster  https://t.co/ou88RVHZ1Z', 'Mars Awaits  https://t.co/ZDo1pjT6q4', 'Pale blue dot  https://t.co/KZj3I55EYl', 'Customs problem solved!  https://t.co/6D0Fbm8NFI', 'Small detail, but each one will come with a serial number from 1 to 20,000  https://t.co/ZBYEYO6zqu', 'This rocket was meant to test very high retrothrust landing in water so it didn’t hurt the droneship, but amazingly it has survived. We will try to tow it back to shore.  https://t.co/hipmgdnq16', ' https://t.co/LYJOL0T7sC', 'Falcon Heavy in foreground on Launch Complex 39A and Falcon 9 in background on 40  https://t.co/GiZL3SSE4A', 'Don’t do this  https://t.co/e0q6ax60k5', 'Great for roasting nuts 🔥 🥜  https://t.co/MGmkSJhIyx', 'The Boring Company flamethrower guaranteed to liven up any party!   https://t.co/n2FiZimJia', 'Say hello to my little friend …  https://t.co/OYg4qhF4Ea', 'Falcon Heavy hold-down firing this morning was good. Generated quite a thunderhead of steam. Launching in a week or so.  https://t.co/npaqatbNir', '@sallyshin Check  https://t.co/Il3CWSTPXR for updates', 'Long exposure of rocket ascent, reentry from space and landing burn. (Credit @johnkrausphotos)  https://t.co/X24k3han8M', ' https://t.co/3k71xzDIP1', 'Falcon Heavy goes vertical  https://t.co/uG1k0WISv1', 'Using a neural net to detect rain using cameras (no dedicated rain or sun sensors). Computers are very patient.   https://t.co/YM0tQ6vLOV', 'Come work at the biggest &amp; most advanced factory on Earth! Located by a river near the beautiful Sierra Nevada mountains with wild horses roaming free.  https://t.co/Nimv3BvQXI', '@NeerajKA Never heard of it  https://t.co/qTK5ICDxmm', 'Nuclear alien UFO from North Korea  https://t.co/GUIHpKkkp5', 'Launch underway  https://t.co/llNdEWbHBp', 'Glad to see that Tesla owners are having a good experience. Working to improve further. Some cool software updates coming soon.  https://t.co/16NabnHeuD', '@nzben @SwiftOnSecurity With people around, so you can see scale  https://t.co/e0w1W0nJKv', 'Falcon Heavy at the Cape  https://t.co/hizfDVsU7X', 'Thanks!  https://t.co/dr3cFPSXje', 'It is high time that humanity went beyond Earth. Should have a moon base by now and sent astronauts to Mars. The future needs to inspire.  https://t.co/6HjDQnRSA5', 'And those are just the really big ones. The Permian was especially bad, unless you were a mushroom.  https://t.co/xT9skw3aIx  https://t.co/7HWh5oDs7U', 'On Tuesday, SpaceX will attempt to refly both an orbital rocket and spacecraft for the first…  https://t.co/Wm5SpjNdMb', 'The *real* money comes from merchandising. I learned it from this documentary  https://t.co/E4gpqhl6KF', 'Every 5000th buyer of our boringly boring hat will get a free hat signed by the delivery guy  https://t.co/11TYEUSG4M', 'To preserve the transcendent majesty &amp; specialness of The Boring Company cap, we are capping cap orders at 50,000 caps. Almost there ...  https://t.co/YqjEQAfy3u', 'Racing video part 2  https://t.co/nQvm2R9K0h', 'Model X races a gasoline sports car while towing a sports car  https://t.co/xLIwxpZ36r', 'The Boring Company will compete to fund, build &amp; operate a high-speed Loop connecting Chicago O’Hare Airport to downtown   https://t.co/bRqKpzSJjz', 'Mars sky is the opposite of Earth Blue sunrise and sunset Red during the day  https://t.co/RjmSZ98bCz', 'Got to regulate AI/robotics like we do food, drugs, aircraft &amp; cars. Public risks require public oversight. Getting rid of the FAA wdn’t make flying safer. They’re there for good reason.   https://t.co/6OXZC3UdMW', 'This is nothing. In a few years, that bot will move so fast you’ll need a strobe light to see it. Sweet dreams…  https://t.co/0MYNixQXMw', 'Thanksgiving in the Rockies. Love my bro @kimbal. Radishing t-shirt courtesy of his company,…  https://t.co/FB6rTbFdK8', 'Congratulations to the Tesla crew and South Australian authorities who worked so hard to get this manufactured and installed in record time!  https://t.co/M2zKXlIVn3', 'Tesla Semi  https://t.co/7VLz7F46Ji', '0 to 100 km/h in 1.9 sec  https://t.co/xTOTDGuwQj', 'It can transform into a robot, fight aliens and make one hell of a latte  https://t.co/8h9vvWu4f5', 'Sunset at the Gigafactory  https://t.co/KpUuK7bktk', 'I placed the flowers  Three broken ribs A pierced lung And still he fought For peace at…  https://t.co/MeEKf2ZntM', 'Atatürk Anıtkabir  https://t.co/al3wt0njr6', 'Picture of The Boring Company LA tunnel taken yesterday  https://t.co/TfdVKyXFsJ', 'Whiskey, fire, s’mores and JC  Also, hotdog or not hotdog?  https://t.co/86cxwbZyWB', 'Campfire on the Gigafactory roof  https://t.co/JKxaKUzvZY', 'Just feed it The Godfather movies as input. What’s the worst that could happen?  https://t.co/WX4Kx45csv', 'On the list of people who should absolutely *not* be allowed to develop digital superintelligence...  https://t.co/reNZ50FGNC', 'It all comes full circle  https://t.co/zqiCDLhFWy', 'Second boring machine almost ready. Will be called Line-Storm, after the poem by Frost. \"And be my love in the rain.\"  https://t.co/xlWPYdPu3P', 'Almost 4000 hats sold so far. Whoever buys the 5000th gets a free hat with their hat!  https://t.co/x87eVge68U', \"The world's most boring hat   https://t.co/rnHPgyhx4Z\", 'Amazing sim of neutron stars colliding  https://t.co/E38rna81TK', \"Yesterday's Reddit Ask Me Anything about BFR. You're welcome nk!  https://t.co/g2giimsW8b\", 'Stamping Model 3 Body Panels (real-time)  https://t.co/hhNFW8VUEE', 'Just posted a photo  https://t.co/a9xf4G6dmE', 'The last of ten Iridium global communication satellites delivered to orbit several hundred miles…  https://t.co/TG7hNkltQd', 'The Model 3 body line slowed down to 1/10th speed  https://t.co/VVTthqFzF7', 'Jupiter is big  https://t.co/poXgvKPZv7', \"@ProductHunt Just kept working on my crown chakra and boom! Don't let anyone tell you magic isn't real. Warning, EXTREMELY powerful  https://t.co/RYgcygMFgl\", '@Reuters You forgot to add the video version of their response  https://t.co/eaqzC6rgQE', 'I believe I can fly  https://t.co/nMBgPiAUJR', 'Aiming for two rocket landings in 48 hours this weekend  https://t.co/C1CZW2cQgv', 'Part 2  https://t.co/8Fvu57muhM', 'Fly to most places on Earth in under 30 mins and anywhere in under 60. Cost per seat should be…  https://t.co/dGYDdGttYd', 'BFR will take you anywhere on Earth in less than 60 mins  https://t.co/HWt9BZ1FI9', 'Mars City Opposite of Earth. Dawn and dusk sky are blue on Mars and day sky is red.  https://t.co/XHcZIdgqnb', 'Moon Base Alpha  https://t.co/voY8qEW9kl', \"Will be announcing something really special at today's talk  https://t.co/plXTBJY6ia\", 'Good NYT article from several years ago about the value of fiction  https://t.co/lVg7T0h7zG', 'Simulation of how the SpaceX Interplanetary Spaceship and Rocket design would work. Will be…  https://t.co/yWYDxtAKQP', 'Presentation of @SpaceX Interplanetary Spaceship &amp; Rocket design from 2016  https://t.co/3b1YWWmmxg', 'High res version at  https://t.co/YysKftHhoz', 'Long road to reusabity of Falcon 9 primary boost stage…When upper stage &amp; fairing also reusable, costs will drop by a factor &gt;100.  https://t.co/WyTAQ3T9EP', 'Astronaut spacesuit next to Crew Dragon  https://t.co/Csmgx8Nn0t', 'It begins ...  https://t.co/mbjw5hWC5J', 'We took the SpaceX/Tesla Hyperloop pusher pod for a spin by itself a few days ago to see what it…  https://t.co/4hr1yN37he', 'Worth reading Life 3.0 by @Tegmark. AI will be the best or worst thing ever for humanity, so let’s get it right.  https://t.co/lT0uMH3ujZ', '@newscientist  https://t.co/mA8ZgutrbE', 'Hyperloop pod run by team WARR  https://t.co/ntaMsoxkZE', 'A Model S in The Boring Company tunnel being dug under Los Angeles (starting in Hawthorne)  https://t.co/tQVD5KkIvb', ' https://t.co/IypZm9FdQk', 'From last year, but still my favorite video of the Falcon 9 rocket booster returning from space…  https://t.co/b935pdz2Xi', 'Falcon 9 boost stage on droneship Just Read the Instructions  https://t.co/fZTPmwsnOz', 'A midnight amendment, followed by a vigorously opposed subpoena. Someone has been naughty …  https://t.co/RJeiNJngGt', 'New Model X SUV now faster than a $500k Lamborghini  https://t.co/J23AKNMnmV', 'First picture of SpaceX spacesuit. More in days to follow. Worth noting that this actually works…  https://t.co/5ZtqkKiTQX', \"Was at a friend's party this weekend and drank wine from a mason jar  https://t.co/eMs7MbNJep\", 'SpaceX rocket factory as seen from space  https://t.co/JNsvMsNvQX', 'Tesla Powerwalls can support houses of any size, but the cool thing is we can tow this house around with a Model X!  https://t.co/MmQl8BPetY', '12th mission of our Dragon robotic space freighter in support of the @NASA @Space_Station  https://t.co/vlGbGLgBcR', 'First draft animation of the Falcon Heavy three core launch. FH is twice the thrust of the next…  https://t.co/vgZxF6ugoh', 'OpenAI + Dota 2  https://t.co/hdyFSMMB0z', \"If you're not concerned about AI safety, you should be. Vastly more risk than North Korea.  https://t.co/2z0tiid0lc\", 'First draft animation of the Falcon Heavy three core launch. FH is twice the thrust of the next…  https://t.co/vgZxF6LRMR', 'True, although the changemyview subreddit is least likely to be clicked on by people who really should change their view  https://t.co/DlVgSc3ZJJ', 'Arguments, followed, of course, by complaints  https://t.co/DOOWMGy8p8', 'Except for complaining. That has remained constant throughout history at 100/100.  https://t.co/dQFlVLkO21', 'Officially verified as the first production electric car to exceed 1000km on a single charge! Congratulations Tesla Owners Italia!!  https://t.co/r8fFZIFEP2', 'Looking forward to launching @NASA astronauts to the International Space Station next year!  https://t.co/qoLtTEP4L8', 'SpaceX student Hyperloop top speed competition coming up soon!  https://t.co/R7FAPf6HLB', 'We poured our heart into the car. Hope you love it.  https://t.co/DZOgQUfENo', 'Sure hope so  https://t.co/VJclNI3I2F', 'Thoughtful Model 3 review by @tsrandall, one of the most insightful journalists  https://t.co/cuIKJ9NglN', '@verge Umm ...  https://t.co/bjJ0lNYK35', 'Model 3 Interior  https://t.co/fihY06dJLw', 'First!  https://t.co/OXNEgDnhku', 'Second  https://t.co/BTVNSZhC9z', 'Third  https://t.co/JAcuaLWTQY', 'Setting up for Model 3 handover tomorrow night ...  https://t.co/gcnZ5jTjyR', 'Falcon Heavy maiden launch this November  https://t.co/D4Dxq9d6hc', 'Testing The Boring Company car elevator  https://t.co/zZkFz6ATGY', 'Love this Tesla P100D drag racing video  https://t.co/rxTTFOn8mp', \"Tim's piece on AI is excellent, but we actually face a double exponential rate of improvement. AI hardware &amp; software are both exponential.  https://t.co/hSfNU8zxDu\", 'Often comes as a surprise when people learn that 80% of my time is on engineering/design and just 20% on other stuff  https://t.co/T9yLcg9owU', 'Discussing physics of tunnels with Mayor Vargas (who has a physics background). Hawthorne support for The Boring Company much appreciated.  https://t.co/UAOCildbnT', '@ElectrekCo Not true. Email from customer.  https://t.co/4P3QO7EMLW', \"I should clarify: Tesla stock is obviously high based on past &amp; present, but low if you believe in Tesla's future. Place bets accordingly …  https://t.co/4zbc6vqZSZ\", \"Excited to announce the launch of  https://t.co/J6TuRWIQAA! It's a little verbose right now, but that will be fixed tomorrow.\", 'US Senate hearing on advancing the exploration and settlement of space  https://t.co/z2lkDUdXKU', 'Other orgs shd also develop reusable orbital rockets. If an airplane co had reusable airplanes, buying single use airplanes wd seem crazy.  https://t.co/OJotlGmPHt', 'Worth noting that Boeing/Lockheed (\"Other US\" on chart) get a billion dollar annual subsidy even if they launch nothing. SpaceX does not.  https://t.co/Mi27ZnYLRJ', 'Going over the small nuances of Model 3 production. Very important that nothing sounds tinny.  https://t.co/q3Aj3Yq8J8', 'You can now drive anywhere in the US (except N Alaska), most of Europe, China &amp; Japan using the Tesla Supercharger network!  https://t.co/2KV8FT8dkk', 'Thanks PayPal for allowing me to buy back  https://t.co/bOUOejO16Y! No plans right now, but it has great sentimental value to me.', ' https://t.co/is6Hthjjoj', 'First Production Model 3  https://t.co/TCa2NSUNI3', 'Stop biting my finger dammit   https://t.co/Xh4XHzCWcv  https://t.co/IAlG7khUP4', 'This will be the highest power battery system in the world by a factor of 3. Australia rocks!!  https://t.co/c1DD7xtC90', 'SpaceX team reviewed all systems again late last night. Done our best to ensure all is good.  https://t.co/R3YrF6PEt4', 'Another SpaceX launch today if weather is good  https://t.co/UdUYn8Kf0C', 'Sorry to hear about China launch failure today. I know how painful that is to the people who designed &amp; built it.  https://t.co/iOkj6egF3O', 'Just installed steel skeleton of the car/pod elevator. Should be operating next week.  https://t.co/DIZW7zuWaA', 'Across the road and below the ground  https://t.co/E2DG8EzaXg', 'Perspective  https://t.co/4DW9csSmtl', \"@satalino15 Nothing to be done, but wait. It's all right here:  https://t.co/BIcT4avkJ1\", \"Good summary of rocket landing history. There were two successful water landings much earlier, but they didn't survive long.  https://t.co/N6kxxQeFby\", \"Sped up version of today's rocket landing on the Droneship Just Read the Instructions (guess it…  https://t.co/0wFgXMgeqZ\", 'Launch at 1:25 delivering 10 satellites for Iridium. Droneship repositioned due to extreme weather. Will be tight.  https://t.co/6ZcSG29B74', 'Closeup of the titanium grid fins. Not painted, as they glow red hot during a fast reentry.  https://t.co/Ltrq1Prg2m', 'Flying with larger &amp; significantly upgraded hypersonic grid fins. Single piece cast &amp; cut titanium. Can take reentry heat with no shielding.  https://t.co/SmyCCQRt2F', 'Over 1000 km should be possible in a 100D with the right tires  https://t.co/8czN3dVZE4', 'No need to rely on scientists for global warming -- just use a thermometer  https://t.co/0PbtAL8uRK', '@DJ_Mr_Cool My real phone is an HTC Droid, which I ordered after seeing this ad  https://t.co/WLR9cJGXP1', '@verge Nothing beats the shoe phone that is also a real shoe   https://t.co/cLecmtHrdN', 'If schedule holds there will be two Falcon 9 launches within 48 hours (Cape &amp; Vandenberg) this weekend  https://t.co/GbleRPm6iZ', 'Postponing launch to replace fairing pneumatic valve. It is dual redundant, but not worth taking a chance.  https://t.co/vnfxmeer7h', 'Promising conversations with @MayorOfLA regarding tunnel network that would carry cars, bikes &amp; pedestrians. Permits harder than technology.  https://t.co/0dxrXBOOWy', ' https://t.co/tj4FrDw34z', \"It's time they knew …  https://t.co/wt7XfXqTM6\", 'Tesla service rescues a kitten stuck in the bumper   https://t.co/qZW7QjuceQ  https://t.co/3jyJseVodm', 'Colonizing Mars (thanks Prof Hubbard for creating this from my talk). Major changes to the plan coming soon.  https://t.co/s59qMHUj5O', 'Hawthorne, California  https://t.co/d5qRlN0XQ7', 'Flying through the Falcon Factory  https://t.co/kIuqfD3MLQ', 'Mars V2 plan coming soon, which I think addresses the most fundamental flaw in V1: how to pay for development &amp; operation of giant rockets  https://t.co/yaITdVdpEc', '$300M cost diff between SpaceX and Boeing/Lockheed exceeds avg value of satellite, so flying with SpaceX means satellite is basically free  https://t.co/CaOulCf7ot', 'US govt testing by @NHTSAgov finds Model X to be the safest SUV in history by significant margin  https://t.co/zAdb5FQPEI', 'Congrats Robb!  https://t.co/4OaB8t0yoq', 'Worth watching \"Who Killed the Electric Car?\" By @chrispaine. Truth is indeed stranger than fiction …  https://t.co/b8rKpp8nvJ', ' https://t.co/spUaZYaxgB', 'Could be worse  https://t.co/CtnkJysquj', '@biseshgrg Read  https://t.co/TOyVa7PmNk', \"Tesla shareholder meeting today. Can't believe it's been 1000 years since we went public.  https://t.co/jK7WmuxSLv\", \"I'm not *saying* they're related, but …  https://t.co/p5d2zkC7e7\", 'Or is it more about the way you use it?  https://t.co/VvqgOX3XFJ', 'Probably closer to 2030 to 2040 imo. 2060 would be a linear extrapolation, but progress is exponential.  https://t.co/e6gyOVcMZG', ' https://t.co/Uu6DQa3Kx4', 'Was just at the DMV &amp; dude had the actual sloth from Zootopia on his desk  https://t.co/uxPMFX64ba', 'Proud of my Mom ❤️  https://t.co/MY9dGfDo0d', 'First reflight of a Dragon spacecraft set for later today  https://t.co/EW4HsWvlwc', 'India commits to sell only electric cars by 2030. It is already the largest market for solar power.  https://t.co/EGBNTPzmE5', 'Under Paris deal, China committed to produce as much clean electricity by 2030 as the US does from all sources today  https://t.co/F8Ppr2o7Rl', 'Piggyback rides around the Opera House  https://t.co/Z27JSVBt21', 'Sydney is such a beautiful city  https://t.co/AuCRqFHQwr', 'Comparing Model S vs Model 3  https://t.co/JPM9VVGbhA', 'Old-school fidget spinner back when the only things to play with were squirrels and rocks  https://t.co/jx1Xc8nu7t', 'Btw, that cloud is almost entirely steam, including dark parts (like a storm). This is what the launch looks like:  https://t.co/chrhsz5iwn', 'Falcon Heavy is this times three. One way or another, launch is guaranteed to be exciting ...  https://t.co/FPUNALj0Hd', 'Feel exactly the same way as A.O. Scott. Particularly loved The Spy Who Loved Me  https://t.co/Lar9pNj2Zi', 'All the answers to questions you never asked about holes in the ground  https://t.co/vXTeB9R7Uw', 'T-boned in a Model X at 65 mph   https://t.co/vt6g89Z9rk', 'Moonlight Sonata  https://t.co/HiuURSLsiU', 'Robots that learn by example from @OpenAI  https://t.co/skXGB2mT6n', \"And ... it's done  https://t.co/MBBSa04Eoc\", \"On my cousin's farm in Canada at 17, wearing a hat on a hat  https://t.co/U96ClGz5gZ\", 'Family history article. Was born in South Africa, but named after my American great-grandfather.  https://t.co/Q1d7hP763T', '[Warning, this may cause motion sickness or seizures] This is a test run of our electric sled…  https://t.co/vI3hLirzg9', 'The race between Gary, our pet snail who lives in a pineapple, and Godot, our tunnel boring…  https://t.co/IES65Y99gJ', 'Boring machine segments have been lowered into the starter tunnel. Going through final assembly.…  https://t.co/2jg03I7j4n', 'Cutterhead in operation at standard industry speed. Planning to jack this up by a factor of ten…  https://t.co/K8LcnhLCCA', 'First tunnel for The Boring Company begins ... Full length of first tunnel will run from LAX to…  https://t.co/Dbf2nkHfb2', 'Entry hole, staging area and starting tunnel for Boring Machine 1 (aka Godot) now complete  https://t.co/8taxTMDcDV', 'Slo-mo hail cannonball impacting Tesla solar roof tile  https://t.co/MMBAcUD9iC', 'If heat death of the universe is the destination, it really is all about the journey  https://t.co/icmkmMKhvj  https://t.co/0JmKUYAFRq', 'Was just rereading one of my favorites. So beautiful …  https://t.co/gp0aNnWxcM', 'Close-up of rocket stage separation, fast flip, boostback burn in a ring of fire and then…  https://t.co/RM8kDgazVX', 'Landing  https://t.co/m8DH1DkvFO', 'Launch and landing of the NRO spy satellite was good. Tough call, as high altitude wind shear was at 98.6% of the theoretical load limit.  https://t.co/nBzBMNdjBp', 'Winds aloft are unusually high (still within structural safety bounds). Worrying, but not a showstopper.  https://t.co/epHQQvajOZ', 'My boring TED talk  https://t.co/QNgolyJXMr', 'Even more boring  https://t.co/EfrzLAXwxs', 'Boring  https://t.co/TBnhgPYWud', 'Having moo moo at Moo Moo Gold Coast with amberheard, @CreepyPuppet and @CowanFilms  https://t.co/SUM2RYYN7O', 'Autolist survey finds Tesla used car values are highest and sell fastest  https://t.co/KcXFhqwXVa', 'Feature coming soon that allows one touch access to all discovered Tesla Easter eggs  https://t.co/oWU6oq9Jqb', 'And so the robots spared humanity ...  https://t.co/v7JUJQWfCv', 'Here is the latest SpaceX travel ad for the flight around the moon &amp; into deep space. Maybe needs a few edits ...  https://t.co/mA8ZgutrbE', 'First drive of a release candidate version of Model 3  https://t.co/zcs6j1YRa4', 'Where are the #%*&gt; aliens?  https://t.co/FDuJIdwgrN', 'Finally, an explanation for daylight savings that makes sense ...  https://t.co/kGpJHNgRJO', '@williamwinters High voltage DC is for sure the best way to transmit electricity over long distances. Good explanation at  https://t.co/FOjClHhYiL', \"You're most welcome. Very exciting to discuss the future of electricity. Renewables + storage arguably biggest disruption since DC to AC.  https://t.co/7uXoUQf29f\", ' https://t.co/3YSXZq1EVj', \"Thank you for the lovely letter. That sounds like a great idea. We'll do it!  https://t.co/ss2WmkOGyk\", \"SpaceX could not do this without NASA. Can't express enough appreciation.  https://t.co/uQpI60zAV7\", 'Fly me to the moon ... Ok  https://t.co/6QT8m5SHwn', 'Excellent Tesla Model X review  https://t.co/wvog4Pbo1o', 'Just posted a video  https://t.co/RCV7MVi8rs', ' https://t.co/6Ve3YJoStm', 'Baby came back  https://t.co/5FRhw3AT2b', 'Counting down to the first SpaceX launch from the Apollo 11 launch pad tomorrow morning (webcast…  https://t.co/upjTcmftte', \"spacex's photo  https://t.co/ImEDAut3nI\", 'Provided Dragon 2 demo missions go well, SpaceX is highly confident of being able to fly US astronauts in 2018  https://t.co/usUto6QSi7', 'Investigating a (very small) leak in the upper stage. If ok, will launch tomorrow.  https://t.co/bQf97lywn4', 'Daylight rocket launch &amp; landing at the Cape this weekend. Will be the 1st SpaceX flight from the Apollo launch pad.  https://t.co/Vr5LQjYaPZ', 'In appreciation, Tesla is providing all repair costs free of charge and expedited.  https://t.co/D68HNJcCoQ', 'Falcon 9 rocket now vertical at Cape Canaveral on launch complex 39-A. This is the same launch…  https://t.co/wY6dWRcer3', 'George Schultz and Jim Baker article in @WSJ regarding a carbon tax  https://t.co/tf2Urgms85', 'Production Tesla Model S P100DL sets Motor Trend all-time world record to 60 mph in 2.27 sec  https://t.co/sxALQrM5Ls', 'Walking down the street and saw this  https://t.co/Mpv5j6088K', '26 ft diameter tunnel running 2 miles under D.C.  https://t.co/XFQkioEsg8', \"Video of MIT's entrant into the SpaceX Hyperloop competition. Air has been removed from the  Hyperloop tube to almost vacuum conditions.  https://t.co/bAP7kDKzHs\", 'Minecraft  https://t.co/lU1YzJjLOZ', 'Regarding the meeting at the White House:  https://t.co/8b1XH4oW6h', 'Top AI researchers agree on principles for developing benefical AI  https://t.co/CATbd4oidF', \"Reading the source material is better than reading other people's opinions about the source material  https://t.co/HKIYKbdb3g\", 'Please read immigration order. Lmk specific amendments. Will seek advisory council consensus &amp; present to President.  https://t.co/qLpbsP4lEk', 'And we start digging the tunnel tonight  https://t.co/UYSIU0qg34', 'Rex Tillerson supports a carbon tax. This is what is really needed to move the needle.  https://t.co/6ne01TOzs1', \"Giant X made of Model X's by Tesla owners in China!  https://t.co/54wXBKiKvp\", 'Final report on Autopilot issued by @NHTSAgov is very positive  https://t.co/KsOZSrr3l9', 'Falcon before launch  https://t.co/QqxvtBijoF', 'Rewatched \"Ghost in the Shell\" and the end of \"Colossus: The Forbin Project\"  https://t.co/ZVUR5RzE5C', 'Liftoff  https://t.co/pcVJOvFHY2', '@pensasoda  https://t.co/6Ies7xBuBs via @WIRED', 'Churchill (non) quotes   https://t.co/avA4YD6K6g', 'To activate the Model X holiday performance, just type holidays or ModelXmas after pressing the logo. Also, Mars.  https://t.co/8Cy7YPlECX', 'Tesla receives highest owner satisfaction score of any carmaker in Consumer Reports survey  https://t.co/NpJYkz8MgA', 'Forming a rocket nozzle  https://t.co/QrpcVyHAXr', 'A life well lived  https://t.co/NZcRZUDroH', \"How do we know this story isn't fake? Unfortunately, it is probably true.  https://t.co/YzyP4kG63R\", 'Model S smashes into semi truck trailer and lifts it off the ground. Driver walks away.  https://t.co/NSuMvcYaA6', \"Can anyone uncover who is really writing these fake pieces? Can't be skankhunt42. His work is better than this.  https://t.co/Qs69AFMGE5\", 'Longer version of self-driving demo with Paint It Black soundtrack   https://t.co/YuUmyEaCgR', 'Tesla self-driving AI with the Benny Hill option package  https://t.co/gJAwzys7vV', 'Love you too!  https://t.co/BlDDQ0oJmg', 'Here is how to vote your Tesla and SolarCity shares:  https://t.co/7LaBe6kAp6', 'I highly recommend the new all glass roof on the Model S. This was very hard to develop, but it makes the interior feel amazing.  https://t.co/ob7lqrXP4n', 'Will be on @CNBC with Ron Baron in about half an hour  https://t.co/OOL5yv5ue6', 'Great Model X article by @BBC_TopGear!  https://t.co/yXdwyQVkVg', \"Institutional Shareholder Services, world's top independent evaluator, recommends in favor of Tesla-SolarCity merger  https://t.co/o17l0Jbswa\", 'Only a matter of time before advanced AI is used to do this. Internet is particularly susceptible to a gradient descent algo.  https://t.co/a6AdF7o7AZ', 'Solar roof plus Powerwall 2.0 launch event will be webcast live on  https://t.co/46TXqRrsdr at 5:30pm PDT tomorrow', 'Dear cult members, I love you  https://t.co/1OzRaSQzhT', 'Must be a coincidence  https://t.co/qX6xYrQZpp', 'Using the automated solid metal snake charger :)  https://t.co/lBG6GamNqJ', 'Tesla drives itself (no human input at all) thru urban streets to highway to streets, then finds a parking spot  https://t.co/V2T7KGMPBo', 'Tesla expects to demonstrate self-driven cross-country trip next year  https://t.co/YTxMUT3hWq via @WSJ', 'According to experts, Hyperloop is both obvious and impossible. Maybe pick one or the other?  https://t.co/JkRWd0lFS8', 'Calculated attempt to deceive Florida voters about solar vote uncovered by Miami Herald  https://t.co/dvwaU87PmG', 'Tesla does 0-60 mph in 2.7 seconds in the rain  https://t.co/Z3YA4igGE1 via @electrekco', 'Good for Germany!  https://t.co/SMdOL9GcTl', \"Coal-mining CEO: 'Tesla is a fraud'  https://t.co/IpQJAlAo3f via @YahooFinance\", 'Translating what actually happened in the debates...  https://t.co/WW0om1rsC8', 'US automotive deaths rose 10% to 17,775 in first half of 2016, approx 1 every 88 million miles  https://t.co/8vrAHA80yB', 'Sabotage of the rocket is unlikely, but this article has some great theories :)  https://t.co/1fCRbZvRHo', 'More Kerbal!  https://t.co/IDeV1wAfVR', '@SteveBatzer @GoodDayM Corrective action taken. Seems to be limited to a small number of cases, but thanks for letting me know.  https://t.co/Rx3YWb8JkI', 'A Million Humans Could Live on Mars By the 2060s  https://t.co/d0nlk1xfOl via @NatGeo', 'Good article on the interplanetary transport system on Gizmodo  https://t.co/nysjRDQWFz', 'Full Interplanetary Tranport System presentation in ~30 mins. Simulation preview:  https://t.co/lKAxabzfKX', 'Mach diamonds  https://t.co/TCX7ZGFnN0', 'SpaceX propulsion just achieved first firing of the Raptor interplanetary transport engine  https://t.co/vRleyJvBkx', 'Good Forbes article on Tesla/SolarCity merger  https://t.co/guNh5q2zrl', 'Tesla is sometimes criticized for government support, but all US car companies (plus some non) got loans and only Tesla has paid its back  https://t.co/yRW2hGUcxW', 'Preview of the @SpaceX interplanetary transport system at @IAC2016  https://t.co/Rz4XmeAoRw', 'Tesla P100D put to the test by Drag Times  https://t.co/5qP3o2VDdW', 'Turns out ExxonMobil not 100% forthcoming about climate change  https://t.co/nWhe0O18WK via @BW', 'Comprehensive study by Autolist shows that a Tesla retains its value far better than gasoline sedans  https://t.co/QrBuVj3qKi', 'Scientists: Earth Endangered by New Strain of Fact-Resistant Humans  https://t.co/ihmrY43rHa via @BorowitzReport', 'Climate change explained in comic book form by xkcd   https://t.co/3tEfEnXW0L', 'Thoughtful Op-ed in Space News much appreciated  https://t.co/CJq5g3NIEK', 'Thanks for the longstanding faith in SpaceX. We very much look forward to doing this milestone flight with you.  https://t.co/U2UFez0OhY', 'Owner account of a Model X severely  impacted by a Yukon  https://t.co/qbVdhbXBU1', 'Correlation is not causality or ... is it?  https://t.co/ExA1yRC8Ik', 'Over the entrance of @OpenAI  https://t.co/ca3ZFdgmFe', 'Will try out @NoMansSky this weekend. Maybe reality is just a series of nested simulations all the way down ...  https://t.co/DCMr1TVOdL', 'View of Dragon from @Space_Station cupola  https://t.co/1HjljLWdFi', 'We are definitely patenting this idea  https://t.co/N46cvN9uX9', 'Gigafactory in units of hamster  https://t.co/9BAchcBX73', 'Will be live streaming the Gigafactory launch party tonight. Check  https://t.co/7FlnbruWpL this eve.', 'The libertarian argument for a carbon tax  https://t.co/WmbGp2YuUO', \"Good summary of yesterday's Gigafactory Q&amp;A with JB, Yamada-San and me  https://t.co/FYFG7qnIMi\", 'Insurance premiums expected to decline by 80% due to driverless cars   https://t.co/nuPKOI9v1D', 'Letter from basically every scientific org in the United States to Congress about climate change  https://t.co/vo1I1HY5fx', 'Via @NPR: Sun-Powered Airplane Completes Historic Trip Around The World  https://t.co/AKe5VRaY5o', ' https://t.co/Kgkz1Z3FwJ', 'Autopilot prevents serious injury or death of a pedestrian in NY (owner anecdote confirmed by vehicle logs)  https://t.co/NceuqckqCK', 'Tesla Master Plan, Part Deux  https://t.co/XQeTlsoEdE', \"Can't wait to see all three cores of Falcon Heavy come back for landings! First two will be almost simultaneous.  https://t.co/ryMiewZM4L\", 'Landing  https://t.co/dRWGyyTtCH', 'Out on LZ-1. We just completed the post-landing inspection and all systems look good. Ready to fly again.  https://t.co/1OfA8h7Vrf', 'Falcon on LZ-1 at Cape Canaveral  https://t.co/dBkjBCDIRs', 'Great rebuttal by a Tesla owner to those calling for Autopilot to be disabled. Was written with zero input from us.  https://t.co/Kfg1ewKoCZ', 'Sensible article on Autopilot by @the guardian  https://t.co/BbvXaNI4Xk', 'EU regulators find no safety concerns with Autopilot  https://t.co/zOykm4XeHP', \"@TheHackersNews @defcon It's all fun &amp; games until ...  https://t.co/cRAn0S8ooX\", \"We don't mind taking the heat for customer safety. It is the right thing to do. From @RoadandTrack  https://t.co/D181ui1jB0\", \"Tesla finishes last in being salesy! Good. Also, I can't believe there is a real Pied Piper.  https://t.co/9Zzijxxyy4\", 'Something like that  https://t.co/aufFuB5VXo', 'Kinda. Creating a seamlessly integrated Tesla battery &amp; solar power product that looks beautiful is the reason  https://t.co/4z6MzBB9p2', 'Blog on Autopilot by @PeterDiamandis  https://t.co/LR5zuw3J9X', 'Misunderstanding of what \"beta\" means to Tesla for Autopilot: any system w less than 1B miles of real world driving   https://t.co/WG5vnFvegI', \"Love reddit. Gandel gets shredded &amp; won't even answer top 3 upvoted questions. Some really funny comments about Koch  https://t.co/PJrqys3Rmc\", 'Model S had the lowest probability of injury of any car ever tested by NHTSA, which is why ...  https://t.co/9tZZJEc5wg', 'Tesla response to the misleading Fortune articles about Autopilot  https://t.co/zWRM3aMnVC', 'Sponsored articles …  https://t.co/i8QsJYU4Ee', 'Because of course I hate flamingos...(maybe try eating fewer flamingo eggs in your salad)  https://t.co/tUKsWqCobo', '@samabuelsamid Wrong to exclude non-occupant deaths. Autopilot would have prevented this cyclist from being killed  https://t.co/ic9liqnyDN', 'Our condolences for the tragic loss  https://t.co/zI2100zEGL', 'My son recently asked what my favorite animal was. Well, of course …  https://t.co/hpTniMe1mF', 'Thoughtful analysis of the Tesla/SolarCity merger by @tsrandall  https://t.co/4Ba3px7hb8', 'Deluded, deranged, etc. Journalistic thesaurus sure got a lot of use last week ...  https://t.co/KFHD1FXvIe', 'This is going to be great  https://t.co/jnej9HaBef', 'Tesla owner drives through a flooded tunnel &amp; out the other side   https://t.co/RmPxdZShhq', 'Looks like early liquid oxygen depletion caused engine shutdown just above the deck  https://t.co/Sa6uCkpknY', 'Highly recommend anything by Sean Carroll  https://t.co/yVbceZm0Io', \"Latest science predicts &gt; trillion alien civilizations. Either they don't last long or there are a *lot* of aliens  https://t.co/oC9B2FlUuF\", 'Nice comment about the Model S by CvK on @TopGear_BBCA  https://t.co/UlEn51onnG', 'Something about a flying metal suit...   https://t.co/6Z1D9iZ1fV', 'Fourth rocket arrives in the hangar. Aiming for first reflight in Sept/Oct.  https://t.co/TqW8d6Cc3U', 'Highly recommend @PlayOverwatch by the good people of @Blizzard_Ent if you like ultrafast team FPS action  https://t.co/GAIamvAPnn', 'Trippy  https://t.co/DtMD5AIRiq', 'Exactly  https://t.co/cy1AbIIo42', 'Good article from @themotleyfool explaining how little incentives have actually contributed to Tesla funding  https://t.co/zfC8di7EDX', \"At this point, I'm really running out of crazy things to say. Any suggestions?  https://t.co/dGVJBcSZn2\", 'Just heard that Norway will ban new sales of fuel cars in 2025. What an amazingly awesome country. You guys rock!!  https://t.co/uAXuBkDYuR', 'Yay, baby made it home!  https://t.co/KYyUX9zNYD', 'Recode interview with @karaswisher and @waltmossberg  https://t.co/BDqQ7RreV2 via @YouTube', \"Supercharger policy explained well by @LATimes:   https://t.co/F0CInMW1yU  Will post detailed description soon. I think it's a good balance.\", 'Good summary of Tesla annual meeting by @katiefehren  https://t.co/G3enS77hJ7', 'So it was good for you too ...  https://t.co/9cxo39N1lQ', \"Fast replay of today's rocket landing on SpaceX droneship OCISLY  https://t.co/I0QQ2D3BtE\", '3 mins to launch  https://t.co/i5jNDs9MCO', 'Really fun Model X review by @MotorTrend. Best part is X racing while towing a fuel sports car  https://t.co/0KzOpoIarx', 'Great image of ancient Mars  https://t.co/iy3AngxKlq', 'Merc News story about Tesla using $5/hr labor seems to be missing a digit. Tesla actually paid $55/hr.  https://t.co/2dTH0ncdKX', 'Response to a Mercury News article about an injury on our premises  https://t.co/3BFgV6Hfia', \"Three's company  https://t.co/nRfFmTpzZw\", 'Dog snuggle thread on reddit. Comments get really good.  https://t.co/7Cc6rnsvSn', \"Excited to announce Tesla's entry into automotive racing!  https://t.co/PZH1LDXPWl\", 'Definitely  https://t.co/7gEkc0mt9O', 'Ok  https://t.co/jJJR28UGrK', \"Full credit to the team that's doing this. All happening without any help from me.   https://t.co/FAZE01lleA\", 'I love you too!  https://t.co/Cnmd7cONU3', 'Launch trajectory of Japanese commercial satellite JCSat-14, enroute to 36,000 km above Earth  https://t.co/QHiiMdMMJ3', 'Woohoo!!  https://t.co/0P8n8VmFbr', 'Bioweapon Defense Mode is real  https://t.co/xGNLrOyhaQ This is what happens when you turn it on:  https://t.co/LnkHzXTxqN', 'Just posted latest max payload capabilities of Falcon 9 and Heavy  https://t.co/Z45Y5V7G91', 'Looks like Model X resale value is holding up well :)  https://t.co/4gedy9GCHA', 'By land and sea  https://t.co/C5QWfNy99r', \"Will be interesting to see what the meantime to Hitler is for these bots. Only took Microsoft's Tay a day.  https://t.co/8jEazt0nYf\", 'Owner video of Autopilot steering to avoid collision with a truck  https://t.co/FZUAXSjlR7', 'Godot  https://t.co/BIcT4aMVAz Full play  https://t.co/kjZnbeuuFA', 'Great video history of Falcon 9 by Kinematic  https://t.co/EeGPVW7kq2', 'Screen cap from the stern cam of droneship \"Of Course I Still Love You\"  https://t.co/4rGOJMTzVn', 'SolarCity panels produce enough zero carbon energy to charge entire Tesla fleet  https://t.co/bn4LRzii1V', 'Model X review  https://t.co/IS2zBgDlqn', 'Model 3 design sketches  https://t.co/P5ucOBRUZ7', 'Online ordering at  https://t.co/46TXqRrsdr will now open at 7:30pm Pacific to ensure no server overload. Presentation still at 8:30.', 'Model 3 unveil will be webcast live at 8:30pm California time at  https://t.co/46TXqRrsdr', 'Model 3 order day starting in Australia  https://t.co/T6aUnG5BCv', 'You can now buy cruise ship tickets for the Arctic passage. Seeing is believing.  https://t.co/LhKupkNMFC', 'Great article by @BadAstronomer. Important to note max temp record. Too much attention on avg temp. Max matters most  https://t.co/0FnIAVsbIu', 'Looks like we may need to increase production plans for the Model 3  https://t.co/fmCPFC9FEm', 'Tesla charger map  https://t.co/9tei7lU4FD', 'Congrats to DeepMind! Many experts in the field thought AI was 10 years away from achieving this.  https://t.co/5gGZZkud3K', 'SpaceX and Tesla rated most meaningful work in high tech. Also, most stressful, but that goes with the territory.   https://t.co/y8s4UdMF5z', \"Evolution hasn't advanced much  https://t.co/tsgmvtGYxH\", 'MIT Technology Review 2016  https://t.co/db7QZRmgH5', 'Pushing launch to Friday due to extreme high altitude wind shear. Hits like a sledgehammer when going up supersonic  https://t.co/Gr8T5upaLd', 'Worth reposting the Wait But Why piece on AI. We are at the beginning of exponential growth in digital intelligence.  https://t.co/1c30ZwrxQ1', 'Next gen Atlas robot  https://t.co/UklqidXrvD', 'Just wanted to thank Stu G for  https://t.co/7FlnbruWpL. Know it meant a lot to you. Will take good care.', \"@nathanfielder Don't you already have a spaceship?  https://t.co/tFNM43sONg\", 'Worth noting that all gasoline cars are heavily subsidized via oil company tax credits &amp; unpaid public health costs  https://t.co/4li5E013Dj', 'Sigh …  https://t.co/VelOzAKIW6', 'My coffee tastes unusually good this morning  https://t.co/LowwuPAgoz', 'This baby Model S really is quite fun   https://t.co/40W5sS5bKI', 'Love this Tesla video made by  https://t.co/bwKne0mZUh', 'My job moonlighting as a police officer in Brazil is no longer secret  https://t.co/QBTQYMpAF9', \"Falcon lands on droneship, but the lockout collet doesn't latch on one the four legs, causing it…  https://t.co/DpXsRQWal9\", \"Well, at least the pieces were bigger this time! Won't be last RUD, but am optimistic about upcoming ship landing.  https://t.co/w007TccANJ\", 'Next launch is a @NASA science mission from VAFB California on Sunday.  https://t.co/vJdkJkZzg1', 'Aiming to launch this weekend and (hopefully) land on our droneship. Ship landings needed for high velocity missions  https://t.co/n6j0mExAqM', 'Worth reading The Machine Stops, an old story by E. M. Forster  https://t.co/0Dl4l2t6FH', 'Falcon 9 back in the hangar at Cape Canaveral. No damage found, ready to fire again.  https://t.co/7w6IfJGtXM', 'High res video of landing from the helo  https://t.co/G0Yq2V5J3m', 'Live video from LZ-1  https://t.co/Ve6gEXfOdh', 'Falcon 9 standing on LZ-1 at Cape Canaveral  https://t.co/RZdfcH0exW', 'There and back again  https://t.co/Ll7wg2hL1G', 'Background on the launch  https://t.co/1SkttU684X', 'Launch &amp; landing can be seen on the  https://t.co/bDd3GxQXMC webcast or in person from Cape Canaveral public causeway at 8:33pm local tmrw', 'Meant to reply to this article:  https://t.co/JRvXcTG3el', 'Vance article on self-driving cars was inaccurate  https://t.co/AV636KAcKH', 'Announcing formation of @open_ai …  https://t.co/Fcouhwh6MC', 'wow  https://t.co/T7PFpoqpEx', 'Good summary of my talk in Paris on climate change  https://t.co/n27JiXUsW9', 'About to give a talk at the Sorbonne  https://t.co/j7iVq1GycH', 'But credit for 1st reusable suborbital rocket goes to X-15  https://t.co/LSb0f8FLJd And Burt Rutan for commercial  https://t.co/TGWlNjsyQz', 'Jeff maybe unaware SpaceX suborbital VTOL flight began 2013. Orbital water landing 2014. Orbital land landing next.  https://t.co/S6WMRnEFY5', '@JeffBezos Not quite \"rarest\". SpaceX Grasshopper rocket did 6 suborbital flights 3 years ago &amp; is still around.  https://t.co/6j9ERKCNZl', 'It is, however, important to clear up the difference between \"space\" and \"orbit\", as described well by  https://t.co/7PD42m37fZ', 'Model S Ludicrous Mode achieves 2.6 sec 0-60 mph and 10.9 sec 1/4 mile in Motor Trend test  https://t.co/IpgTF6s9M8', \"I should clarify that  https://t.co/iUX7wkMxY8 is an independent website. We don't have any control over the content.\", 'Cool!  https://t.co/HOe0K7qkuk', 'Congrats on driving a Tesla from LA to NY in just over two days!  https://t.co/hjAnAAIdMB', 'Mostly accurate and fun movie about Mars. Worth seeing.  https://t.co/6ujt1DG5j5', 'Side view of Falcon Wing doors  https://t.co/AbnMOcFXWv', 'Great discussion about solar/batteries empowering rural communities  https://t.co/Qte2s55gnP', 'True, but achieving a long range affordable electric vehicle has always been our long-term goal. Due in late 2017!  https://t.co/2OrIYdoojs', 'Comments section on this article is awesome  https://t.co/v4VY2IrALH', 'Tesla Snakebot autocharger prototype. Does seem kinda wrong :)  https://t.co/vXpCrKNdlV', 'Drone hexacopter takes pic of drone ship OCISLY on station in the Atlantic  https://t.co/DONcOD8hSD', 'Droneship \"Of Course I Still Love You\" just before it left port  https://t.co/rhn4z82NVl', 'Trying for another rocket landing tmrw. This time on the droneship \"Of Course I Still Love You\".  https://t.co/6LGnzhWLLr', 'Tesla service team helps save a stray kitten that took refuge in a Model S. Nice work guys!  https://t.co/Ddp5K9MpW2', 'This is not the full Gigafactory, it is just the pilot plant (1/4 size)  https://t.co/gz2EmJkYtm', 'Dragon abort test video  https://t.co/qsdSCEcPnm', \"Last night's Tesla Powerwall and Powerpack unveiling  https://t.co/ksD8m6nCJO\", 'While the rocket does look rather tall &amp; tippy, a stable landing is no problem with proper throttle response  https://t.co/B4Y6D4dpsc', 'High resolution, color corrected, slow motion rocket landing video  https://t.co/UTF3Y4xGU3', 'Testing of the high performance version of the Tesla Model S by @ConsumerReports  https://t.co/bvgEVgMswU', 'Some shots of the Gigafactory pilot plant (~20% of full size) under construction  https://t.co/OzLzD4LsGW', '\"What Are The Civilian Applications?\"  https://t.co/iG2Zn3fUnO', 'Video made by owner of a P85D going up a 14% grade on snow passing a whole bunch of stuck SUVs  https://t.co/LC9AHx0fuC', 'Great DragTimes video of people experiencing P85D \"Insane Mode\" acceleration for the first time  https://t.co/gqN9oremMQ', 'The universe is really, really big    https://t.co/4j3jvIaqpe', 'The flight grid fins look like the ones on this test we did, but larger:  https://t.co/gTaURQQeyx', 'Excellent explanation of the diff betw getting to orbit vs space (suggested by @MarkusvonRoder)  https://t.co/7PD42mkIEz', 'What could possibly go wrong?  https://t.co/ZhUrllHG95', 'A @WhiteHouse petition to allow direct sales of cars by manufacturers:  https://t.co/7h6m89mQmh Please vote here too!', \"Can't make this stuff up: “@ErneX: hah and that's the name of a fire extinguisher  https://t.co/0y4QzzlLkw”\", 'Model S Signature series sold out as of today  https://t.co/pKbR0ziP', 'Dragon spacecraft &amp; Falcon 9 rocket  https://t.co/A6fsNlsN9z', 'Doge Barking at the Moon  https://t.co/QFB81D7zOL', '@WSBChairman Doge Barking at the Moon – Miro  https://t.co/1vTM2XOusy', '@andyweedman @karpathy @DirtyTesla Stop … In the Name of Love!  https://t.co/kBsTi5jz16', '@Teslarati I found some footage of the drive  https://t.co/TXeLQO9Spr']\n"
          ]
        }
      ],
      "source": [
        "print(samples)"
      ]
    },
    {
      "cell_type": "code",
      "execution_count": 26,
      "metadata": {
        "colab": {
          "base_uri": "https://localhost:8080/"
        },
        "id": "5qmiSR5_45cd",
        "outputId": "7b088852-7c9f-41bc-c3d0-02b81f6fa2a3"
      },
      "outputs": [
        {
          "output_type": "stream",
          "name": "stdout",
          "text": [
            "1559\n"
          ]
        }
      ],
      "source": [
        "print(len(samples))"
      ]
    },
    {
      "cell_type": "code",
      "execution_count": 27,
      "metadata": {
        "id": "jehR-ecY3wCN"
      },
      "outputs": [],
      "source": [
        "corpus = []\n",
        "for tweet in samples:\n",
        "  link_start_position = tweet.find(\"https://\")\n",
        "  tweet = tweet[:link_start_position].lower()\n",
        "  corpus.append(tweet)\n"
      ]
    },
    {
      "cell_type": "code",
      "execution_count": 28,
      "metadata": {
        "colab": {
          "base_uri": "https://localhost:8080/"
        },
        "id": "qSkd7_Y74za3",
        "outputId": "bf6175b5-795f-4f87-df4a-bafe22999355"
      },
      "outputs": [
        {
          "output_type": "stream",
          "name": "stdout",
          "text": [
            "1559\n"
          ]
        }
      ],
      "source": [
        "print(len(corpus))"
      ]
    },
    {
      "cell_type": "code",
      "execution_count": 29,
      "metadata": {
        "colab": {
          "base_uri": "https://localhost:8080/"
        },
        "id": "NgwoVhC24-01",
        "outputId": "7b033a2b-9eac-4747-b5e8-5b2c3e57a0e6"
      },
      "outputs": [
        {
          "output_type": "stream",
          "name": "stdout",
          "text": [
            "['blimps rock  ', 'where is shrek 5!?  ', 'it’s all about the cufflinks  ', ' ', 'no it doesn’t hurt at all 🩸  ', 'me in my sick new car (left him the money)  ', 'wholesome memes  ', 'check out our new crane  ', 'mars rover looking back  ', '@renatakonkoly he was great on many levels  ']\n"
          ]
        }
      ],
      "source": [
        "print(corpus[:10])"
      ]
    },
    {
      "cell_type": "code",
      "execution_count": 37,
      "metadata": {
        "id": "u3NLqjFU2I96"
      },
      "outputs": [],
      "source": [
        "import tensorflow as tf\n",
        "import numpy as np \n",
        "\n",
        "from tensorflow.keras.preprocessing.sequence import pad_sequences\n",
        "from tensorflow.keras.layers import Embedding, LSTM, Dense, Bidirectional\n",
        "from tensorflow.keras.preprocessing.text import Tokenizer\n",
        "from tensorflow.keras.models import Sequential\n",
        "from tensorflow.keras.optimizers import Adam\n",
        "from keras.callbacks import EarlyStopping"
      ]
    },
    {
      "cell_type": "code",
      "execution_count": 31,
      "metadata": {
        "colab": {
          "base_uri": "https://localhost:8080/"
        },
        "id": "S2m8o4ib2QCM",
        "outputId": "f0515303-1163-4969-f99d-0f81af37a9b9"
      },
      "outputs": [
        {
          "output_type": "stream",
          "name": "stdout",
          "text": [
            "word index dictionary: {'the': 1, 'to': 2, 'of': 3, 'a': 4, 'is': 5, 'in': 6, 'tesla': 7, 'amp': 8, 'for': 9, 'on': 10, 'this': 11, 'at': 12, 'by': 13, 'and': 14, 'be': 15, 'from': 16, 'model': 17, 'it': 18, 'that': 19, 'with': 20, 'you': 21, 'spacex': 22, 'will': 23, 'i': 24, 'but': 25, 'are': 26, 'my': 27, 'just': 28, 'we': 29, '…': 30, '3': 31, 'about': 32, 'was': 33, 'not': 34, 'falcon': 35, 'all': 36, 'as': 37, 'launch': 38, 'so': 39, 'than': 40, 'have': 41, 'rocket': 42, 'good': 43, 'starship': 44, 'car': 45, 'great': 46, 'first': 47, 'or': 48, 'no': 49, 's': 50, 'has': 51, 'space': 52, 'high': 53, 'up': 54, 'time': 55, 'if': 56, 'like': 57, 'boring': 58, 'new': 59, 'our': 60, 'solar': 61, 'can': 62, 'also': 63, '1': 64, 'out': 65, 'mars': 66, 'an': 67, 'most': 68, 'what': 69, 'love': 70, 'x': 71, 'us': 72, 'order': 73, 'me': 74, 'cars': 75, 'now': 76, 'very': 77, 'dragon': 78, '2': 79, '9': 80, 'landing': 81, 'team': 82, 'much': 83, 'video': 84, 'too': 85, 'earth': 86, 'more': 87, 'there': 88, 'only': 89, 'one': 90, 'who': 91, 'they': 92, 'actually': 93, 'company': 94, 'people': 95, 'after': 96, 'it’s': 97, 'really': 98, 'do': 99, 'test': 100, 'how': 101, 'online': 102, 'heavy': 103, 'your': 104, 'still': 105, 'tunnel': 106, 'erdayastronaut': 107, 'well': 108, 'should': 109, 'article': 110, 'ai': 111, 'when': 112, 'long': 113, 'been': 114, 'back': 115, 'driving': 116, 'flcnhvy': 117, 'engine': 118, 'next': 119, 'day': 120, 'some': 121, 'worth': 122, 'production': 123, 'other': 124, 'best': 125, 'real': 126, 'ppathole': 127, 'don’t': 128, 'any': 129, 'electric': 130, 'almost': 131, 'full': 132, 'texas': 133, 'would': 134, 'made': 135, 'soon': 136, 'station': 137, 'years': 138, 'live': 139, 'year': 140, 'true': 141, 'power': 142, 'la': 143, 'yeah': 144, 'maybe': 145, 'night': 146, 'flight': 147, 'fairing': 148, 'why': 149, 'review': 150, 'better': 151, 'mins': 152, 'see': 153, 'before': 154, 'many': 155, 'make': 156, 'look': 157, 'self': 158, 'under': 159, 'life': 160, 'right': 161, 'raptor': 162, 'today': 163, 'coming': 164, 'free': 165, 'which': 166, 'over': 167, '0': 168, 'autopilot': 169, 'last': 170, 'you’re': 171, 'buy': 172, 'use': 173, 'less': 174, 'did': 175, 'days': 176, 'going': 177, 'looks': 178, 'california': 179, 'future': 180, 'tax': 181, 'roof': 182, '5': 183, 'even': 184, 'moon': 185, 'small': 186, 'through': 187, 'little': 188, 'cleantechnica': 189, 'reading': 190, 'teslaownerssv': 191, 'half': 192, 'energy': 193, 'three': 194, 'china': 195, 'miles': 196, 'into': 197, 'top': 198, 'public': 199, 'here': 200, 'testing': 201, '7': 202, 'nasa': 203, 'need': 204, '100': 205, 'credit': 206, 'version': 207, 'droneship': 208, 'zero': 209, 'amazing': 210, 'had': 211, 'these': 212, 'safety': 213, 'get': 214, 'crew': 215, '10': 216, 'short': 217, 'due': 218, 'without': 219, 'could': 220, 'work': 221, 'range': 222, 'fire': 223, 'week': 224, 'nothing': 225, 'two': 226, 'mode': 227, 'media': 228, 'makes': 229, 'being': 230, 'must': 231, 'their': 232, 'go': 233, '000': 234, 'using': 235, 'important': 236, 'course': 237, 'orbit': 238, 'pic': 239, 'around': 240, 'super': 241, 'haha': 242, 'meme': 243, 'weekend': 244, 'welcome': 245, 'progress': 246, 'feed': 247, 'advanced': 248, 'machine': 249, 'low': 250, 'those': 251, 'cape': 252, 'system': 253, 'goes': 254, 'something': 255, 'cybertruck': 256, 'semi': 257, 'big': 258, 'history': 259, 'read': 260, 'done': 261, 'ever': 262, 'cool': 263, 'rationaletienne': 264, 'down': 265, 'that’s': 266, 'thanks': 267, 'world': 268, 'while': 269, 'design': 270, 'every': 271, 'few': 272, 'way': 273, 'ship': 274, 'truck': 275, 'battery': 276, 'change': 277, 'already': 278, 'hat': 279, 'sure': 280, 'owner': 281, 'where': 282, 'he': 283, 'against': 284, 'bad': 285, 'try': 286, 'giga': 287, 'beautiful': 288, 'boringcompany': 289, 'think': 290, 'old': 291, 'land': 292, 'rate': 293, '4': 294, 'fly': 295, 'grimezsz': 296, 'guys': 297, 'justpaulinelol': 298, 'ok': 299, 'powerwall': 300, 'doing': 301, 'summary': 302, 'used': 303, 'baby': 304, 'take': 305, 'supercharger': 306, 'lot': 307, 'seems': 308, 'vehicle': 309, 'above': 310, 'both': 311, 'boca': 312, 'cost': 313, 'again': 314, 'invasive': 315, '30': 316, 'imo': 317, 'end': 318, 'does': 319, 'were': 320, 'view': 321, 'hope': 322, 'part': 323, 'plus': 324, 'value': 325, 'road': 326, 'market': 327, 'lz': 328, 'hyperloop': 329, 'interplanetary': 330, 'gigafactory': 331, 'left': 332, 'check': 333, 'renatakonkoly': 334, 'song': 335, 'its': 336, 'exactly': 337, 'pad': 338, 'happy': 339, 'come': 340, 'ur': 341, 'engineers': 342, 'his': 343, 'say': 344, 'everything': 345, 'science': 346, 'things': 347, 'companies': 348, 'stock': 349, 'sell': 350, 'nichegamer': 351, 'hard': 352, 'scale': 353, 'nosecone': 354, 'because': 355, 'awesome': 356, 'body': 357, 'turns': 358, 'thing': 359, 'story': 360, 'book': 361, 'air': 362, 'sent': 363, 'weeks': 364, 't': 365, 'hours': 366, 'inside': 367, 'meant': 368, 'probably': 369, 'later': 370, 'north': 371, 'europe': 372, 'appreciated': 373, 'fast': 374, 'factory': 375, 'longer': 376, 'km': 377, 'far': 378, 'u': 379, 'yes': 380, 'truth': 381, 'actual': 382, 'ft': 383, 'tank': 384, 'between': 385, 'red': 386, 'cnn': 387, 'gavinnewsom': 388, '24': 389, 'problem': 390, 'orbital': 391, 'talk': 392, 'want': 393, 'believe': 394, 'obv': 395, 'support': 396, 'rain': 397, 'ready': 398, 'another': 399, 'seen': 400, '60': 401, 'flying': 402, 'then': 403, 'tonight': 404, 'know': 405, \"can't\": 406, 'looking': 407, 'aliens': 408, 'simulation': 409, 'always': 410, 'underway': 411, 'berlin': 412, 'called': 413, 'until': 414, 'run': 415, 'universe': 416, 'engineering': 417, 'never': 418, 'point': 419, 'numbers': 420, 'astronauts': 421, 'deaths': 422, 'bay': 423, '11': 424, 'roadster': 425, 'working': 426, 'webcast': 427, 'teslarati': 428, 'ms': 429, 'deep': 430, 'during': 431, 'got': 432, 'sounds': 433, 'faster': 434, '6': 435, 'news': 436, 'sometimes': 437, 'batteries': 438, 'panels': 439, 'mission': 440, 'available': 441, 'covid': 442, 'landed': 443, '17': 444, 'trend': 445, 'tanks': 446, 'ago': 447, 'rating': 448, 'fuel': 449, 'taking': 450, 'electricity': 451, 'extremely': 452, '1000': 453, 'same': 454, 'thirdrowtesla': 455, 'data': 456, 'seeing': 457, 'kristennetten': 458, 'least': 459, 'technology': 460, 'favorite': 461, 'party': 462, 'matter': 463, 'factor': 464, 'area': 465, 'c19': 466, 'chart': 467, 'off': 468, 'congratulations': 469, 'dome': 470, 'vs': 471, 'needed': 472, 'comes': 473, 'g': 474, 'giant': 475, 'speed': 476, 'def': 477, 'wrong': 478, 'anywhere': 479, 'clean': 480, 'costs': 481, 'can’t': 482, 'congrats': 483, 'starlink': 484, 'fun': 485, 'reminder': 486, 'highly': 487, 'blackouts': 488, 'explanation': 489, 'forward': 490, 'fins': 491, 'site': 492, 'commercial': 493, 'cnbc': 494, '20': 495, 'please': 496, 'reentry': 497, 'motor': 498, 'exciting': 499, 'starting': 500, 'found': 501, 'performance': 502, 'satellites': 503, 'oh': 504, 'cover': 505, 'may': 506, 'house': 507, 'within': 508, 'reusable': 509, 'hawthorne': 510, 'owners': 511, 'drive': 512, 'thank': 513, 'line': 514, 'water': 515, 'stage': 516, 'tomorrow': 517, 'base': 518, 'climate': 519, 'lopezlinette': 520, 'piece': 521, 'patents': 522, 'software': 523, 'spaceship': 524, 'morning': 525, 'response': 526, 'humanity': 527, \"it's\": 528, 'solarcity': 529, 'doesn’t': 530, 'hurt': 531, 'him': 532, 'money': 533, 'music': 534, 'gravity': 535, 'i’m': 536, 'doge': 537, 'stuff': 538, 'second': 539, 'month': 540, 'lexfridman': 541, 'dog': 542, 'light': 543, 'cyberpunkgame': 544, 'south': 545, 'hold': 546, 'product': 547, 'case': 548, 'heard': 549, 'false': 550, 'bar': 551, '15': 552, 'volume': 553, 'play': 554, 'waitbutwhy': 555, 'letter': 556, 'beyond': 557, 'y': 558, 'physics': 559, 'friend': 560, 'study': 561, 'demo': 562, 'background': 563, 'might': 564, 'tree': 565, 'net': 566, 'pressure': 567, 'utility': 568, 'complex': 569, 'per': 570, 'humans': 571, 'australia': 572, 'minute': 573, 'usage': 574, 'chrish7985': 575, 'rlyrlysrydave': 576, 'anyone': 577, 'kimbal': 578, 'early': 579, 'co': 580, 'here’s': 581, 'report': 582, 'source': 583, 'produce': 584, 'epa': 585, 'whole': 586, 'feel': 587, 'option': 588, '1st': 589, 'happened': 590, 'recommend': 591, 'saying': 592, 'interesting': 593, '28delayslater': 594, 'ventilators': 595, 'level': 596, 'non': 597, 'city': 598, 'list': 599, 'medtronic': 600, 'help': 601, 'oxygen': 602, 'definitely': 603, 'blade': 604, 'katlinegrey': 605, 'idea': 606, 'standard': 607, 'header': 608, 'size': 609, 'proud': 610, 'confirmed': 611, 'critical': 612, 'getting': 613, 'installed': 614, 'cdc': 615, 'bottom': 616, 'page': 617, 'positive': 618, 'lower': 619, 'cases': 620, 'increase': 621, 'said': 622, 'usa': 623, 'wrote': 624, '♥️': 625, 'wait': 626, 'place': 627, 'analysis': 628, 'vertical': 629, 'home': 630, 'away': 631, 'named': 632, 'simple': 633, 'matters': 634, 'number': 635, 'mass': 636, 'center': 637, 'won': 638, 'itself': 639, 'currently': 640, '🐝': 641, 'sonic': 642, 'drone': 643, 'presentation': 644, 'flamethrower': 645, 'mr': 646, 'reason': 647, 'drops': 648, 'delivered': 649, 'paint': 650, 'am': 651, 'drives': 652, 'stop': 653, 'since': 654, 'metal': 655, 'delivery': 656, 'million': 657, 'gasoline': 658, 'techreview': 659, 'buying': 660, 'someone': 661, 'excellent': 662, 'tech': 663, 'takes': 664, '🚀': 665, 'several': 666, 'record': 667, 'trip': 668, 'heat': 669, 'assembly': 670, 'sunday': 671, 'excited': 672, 'transport': 673, 'godot': 674, 'sports': 675, 'glad': 676, 'digital': 677, 'times': 678, 'took': 679, 'posted': 680, 'max': 681, 'w': 682, 'quite': 683, 'ground': 684, 'starman': 685, 'racing': 686, 'sec': 687, \"don't\": 688, 'landings': 689, 'exponential': 690, 'satellite': 691, 'mph': 692, 'moo': 693, 'canaveral': 694, 'carbon': 695, 'rock': 696, 'broke': 697, 'horses': 698, 'literally': 699, 'explained': 700, 'thought': 701, 'dr': 702, 'vegas': 703, 'yesterday': 704, 'double': 705, 'effect': 706, 'snow': 707, 'falling': 708, 'interview': 709, 'star': 710, 'objective': 711, 'reality': 712, 'hardware': 713, 'issue': 714, 'mit': 715, 'creating': 716, 'worldandscience': 717, 'special': 718, 'hover': 719, 'answer': 720, 'operational': 721, 'toadmeister': 722, 'sweden': 723, 'oct': 724, 'seem': 725, 'below': 726, 'surface': 727, 'vacuum': 728, 'engines': 729, 'added': 730, 'powerglide': 731, 'rear': 732, 'mostly': 733, 'press': 734, 'obviously': 735, '🖤': 736, 'shelter': 737, 'incredible': 738, '50': 739, 'neuralink': 740, 'started': 741, 'president': 742, 'her': 743, 'chamber': 744, 'them': 745, 'hole': 746, 'mind': 747, 'megapack': 748, 'mark': 749, 'trying': 750, 'berniesanders': 751, 'sustainable': 752, 'bs': 753, 'oil': 754, 'receive': 755, 'however': 756, 'bbc': 757, 'hundred': 758, 'heart': 759, 'touch': 760, 'biggest': 761, 'canada': 762, 'pretty': 763, 'govt': 764, 'american': 765, 'pre': 766, 'behind': 767, 'general': 768, 'direct': 769, 'samtalkstesla': 770, 'given': 771, 'otherwise': 772, 'ask': 773, 'hot': 774, 'impact': 775, 'america': 776, 'slightly': 777, 'passed': 778, 'moreover': 779, 'exceeds': 780, 'fossil': 781, 'points': 782, 'negative': 783, 'major': 784, 'sad': 785, 'chica': 786, 'dan': 787, 'sunset': 788, 'dawn': 789, 'hospitals': 790, 'o2': 791, 'perfect': 792, 'mention': 793, 'sn4': 794, '🔥': 795, 'bitcoin': 796, 'reference': 797, 'give': 798, 'death': 799, 'higher': 800, 'often': 801, 'stops': 802, 'style': 803, 'robotbeat': 804, 'ghotiing': 805, 'cruizvinicius': 806, 'josh119872': 807, 'sweetinxs': 808, 'votelabonte': 809, 'personal': 810, 'vast': 811, 'pure': 812, 'units': 813, 'tell': 814, '9m': 815, 'raptors': 816, 'ny': 817, 'worst': 818, 'details': 819, 'graph': 820, 'likely': 821, 'growth': 822, 'dying': 823, 'date': 824, 'corona': 825, 'track': 826, 'smart': 827, 'making': 828, 'bro': 829, 'mile': 830, 'reports': 831, 'propellant': 832, 'across': 833, 'prior': 834, 'experience': 835, 'mom': 836, 'phone': 837, 'guess': 838, 'he’s': 839, 'email': 840, 'aka': 841, 'doubt': 842, '14': 843, 'liquid': 844, 'temp': 845, 'walk': 846, 'guaranteed': 847, 'shirt': 848, 'primary': 849, 'art': 850, 'holiday': 851, 'late': 852, 'finished': 853, 'propulsion': 854, 'objects': 855, 'kids': 856, 'entire': 857, 'extreme': 858, 'drag': 859, 'f': 860, 'steel': 861, 'spy': 862, 'loved': 863, 'solarglass': 864, 'midnight': 865, 'according': 866, 'travel': 867, '😉': 868, 'srsly': 869, 'sense': 870, 'expected': 871, 'thrust': 872, 'altitude': 873, 'tip': 874, 'halves': 875, 'build': 876, 'guardian': 877, 'verge': 878, 'jalopnik': 879, 'newscientist': 880, 'avg': 881, 'starhopper': 882, 'worked': 883, 'environment': 884, 'playing': 885, 'res': 886, 'boat': 887, 'expert': 888, 'nice': 889, 'irony': 890, 'sound': 891, 'cam': 892, 'black': 893, 'face': 894, 'dance': 895, 'streaming': 896, 'hopper': 897, 'apollo': 898, 'experts': 899, 'anything': 900, 'btw': 901, 'map': 902, 'move': 903, 'tunnels': 904, 'quality': 905, 'leaked': 906, 'discovermag': 907, 'return': 908, 'starships': 909, 'topgear': 910, 'refund': 911, 'original': 912, 'articles': 913, 'delivering': 914, 'released': 915, 'prices': 916, 'footage': 917, 'except': 918, 'incentives': 919, 'lol': 920, 'went': 921, '2018': 922, 'boeing': 923, 'competition': 924, 'launches': 925, '4000': 926, 'suv': 927, 'crash': 928, 'service': 929, 'firing': 930, 'happening': 931, 'documentary': 932, 'safe': 933, 'picture': 934, 'etc': 935, 'network': 936, 'gets': 937, 'access': 938, 'buyers': 939, 'customer': 940, 'built': 941, 'storm': 942, 'note': 943, 'side': 944, 'sun': 945, 'upper': 946, 'rn': 947, 'name': 948, 'vandenberg': 949, 'shows': 950, 'interior': 951, 'warning': 952, '—': 953, 'iridium': 954, 'chris': 955, 'wild': 956, 'padival': 957, 'spice': 958, 'open': 959, 'fh': 960, 'fiction': 961, 'past': 962, 'particularly': 963, 'instructions': 964, 'eggs': 965, 'running': 966, 'fine': 967, 'months': 968, 'followed': 969, 'via': 970, 'worse': 971, 'global': 972, 'means': 973, 'enough': 974, 'launching': 975, 'wedragonslayers': 976, 'crazy': 977, 'bfr': 978, 'movie': 979, 'diff': 980, 'paid': 981, 'rockets': 982, 'photo': 983, 'burn': 984, 'blue': 985, 'spacecraft': 986, 'cap': 987, 'sky': 988, 'input': 989, 'develop': 990, 'reddit': 991, \"you're\": 992, 'aiming': 993, \"today's\": 994, '2016': 995, 'gt': 996, 'pod': 997, 'it…': 998, 'noting': 999, 'openai': 1000, 'single': 1001, 'charge': 1002, 'thoughtful': 1003, 'highest': 1004, 'grid': 1005, 'regarding': 1006, 'plan': 1007, 'finds': 1008, 'meeting': 1009, '2030': 1010, 'latest': 1011, 'merger': 1012, 'injury': 1013, 'comments': 1014, 'suborbital': 1015, 'sick': 1016, 'memes': 1017, 'rover': 1018, 'levels': 1019, 'argument': 1020, 'booster': 1021, 'selling': 1022, 'band': 1023, 'sn10': 1024, 'shield': 1025, 'character': 1026, 'finally': 1027, 'pull': 1028, 'mountains': 1029, 'sn9': 1030, 'gfilche': 1031, 'plaid': 1032, 'ships': 1033, 'monty': 1034, 'python': 1035, 'queen': 1036, 'yoda': 1037, 'beats': 1038, 'thehackersnews': 1039, 'mathias': 1040, 'döpfner': 1041, 'snake': 1042, 'head': 1043, 'attention': 1044, 'came': 1045, 'cake': 1046, 'such': 1047, 'weird': 1048, 'game': 1049, 'holidays': 1050, 'impossible': 1051, 'serious': 1052, 'ascent': 1053, 'im': 1054, 'thisisjendoll': 1055, 'stole': 1056, 'garyblack00': 1057, 'wise': 1058, 'words': 1059, 'services': 1060, 'nor': 1061, 'deus': 1062, 'ex': 1063, 'learning': 1064, 'nsf': 1065, 'parachutes': 1066, 'cov2': 1067, 'although': 1068, 'roughly': 1069, 'tests': 1070, 'gone': 1071, 'sat': 1072, 'ice': 1073, 'bacteria': 1074, 'rewatched': 1075, 'evafoxu': 1076, 'ludicrous': 1077, 'c': 1078, 'r': 1079, 'nuclear': 1080, 'civilization': 1081, 'hospital': 1082, 'grade': 1083, 'filters': 1084, 'health': 1085, 'technically': 1086, 'watt': 1087, 'prof': 1088, 'ethicalskeptic': 1089, 'appears': 1090, 'perhaps': 1091, 'smōl': 1092, 'ancient': 1093, 'slashdot': 1094, 'brake': 1095, 'lights': 1096, 'powered': 1097, 'miniverse': 1098, 'microverse': 1099, 'medical': 1100, '💫': 1101, 'somewhere': 1102, 'reached': 1103, 'observed': 1104, 'jupiter': 1105, 'stoolpresidente': 1106, 'powerpack': 1107, 'helpful': 1108, 'term': 1109, 'sn': 1110, 'goldberg': 1111, 'wonderofscience': 1112, 'attacks': 1113, 'advance': 1114, 'trillion': 1115, 'subsidies': 1116, 'sensible': 1117, 'structure': 1118, 'witch': 1119, 'battle': 1120, 'keith31345919': 1121, '😢': 1122, 'das': 1123, 'nickel': 1124, 'ring': 1125, 'sigh': 1126, 'minutes': 1127, 'bbcsciencenews': 1128, 'limited': 1129, 'edition': 1130, 'shorts': 1131, 'asia': 1132, 'pacific': 1133, 'vance': 1134, 'lexi4prez': 1135, 'bankrupt': 1136, 'continue': 1137, 'angie': 1138, 'rasmussen': 1139, 'rod': 1140, 'possible': 1141, 'suggestions': 1142, 'improvement': 1143, 'jayleno': 1144, 'tracking': 1145, 'exceed': 1146, 'highs': 1147, 'noise': 1148, '2019': 1149, 'bioweapon': 1150, 'defense': 1151, 'catching': 1152, 'coal': 1153, 'april': 1154, 'industry': 1155, 'manufacturers': 1156, 'improving': 1157, 'co2': 1158, 'reply': 1159, 'gerberkawasaki': 1160, 'political': 1161, 'they’re': 1162, 'joerogan': 1163, 'likes': 1164, 'neil': 1165, 'worldwide': 1166, 'july': 1167, 'mayor': 1168, 'ch4': 1169, 'teslagong': 1170, 'priscillabanana': 1171, 'archillect': 1172, 'cryo': 1173, '2017': 1174, 'correct': 1175, '🤣🤣': 1176, 'stand': 1177, 'york': 1178, 'key': 1179, 'put': 1180, 'mask': 1181, 'you’d': 1182, 'wikipedia': 1183, 'difference': 1184, 'misleading': 1185, 'claim': 1186, 'type': 1187, 'fat': 1188, 'tire': 1189, 'majority': 1190, 'intratracheal': 1191, 'gun': 1192, 'setting': 1193, 'risk': 1194, 'lung': 1195, 'damage': 1196, 'paper': 1197, 'wing': 1198, 'useful': 1199, 'dark': 1200, 'johnkrausphotos': 1201, 'bluemoondance74': 1202, 'diameter': 1203, 'bought': 1204, 'ceo': 1205, 'metro': 1206, 'johncleese': 1207, 'someone’s': 1208, 'anarcho': 1209, 'hello': 1210, 'onset': 1211, 'significantly': 1212, 'significant': 1213, 'follow': 1214, 'natesilver538': 1215, 'died': 1216, 'illnesses': 1217, 'i’ve': 1218, 'magnitude': 1219, 'positive”': 1220, 'westcoastbill': 1221, 'despite': 1222, '10x': 1223, 'riganoesq': 1224, 'diderraoult': 1225, 'works': 1226, 'danger': 1227, 'resources': 1228, 'hearing': 1229, 'sofiaan': 1230, 'meckimac': 1231, 'permian': 1232, 'sn1': 1233, 'preparing': 1234, 'tinny': 1235, 'woody': 1236, 'achieves': 1237, 'consumer': 1238, 'foundation': 1239, 'provided': 1240, '💘': 1241, '❤️': 1242, 'mayemusk': 1243, 'vincent13031925': 1244, '“the': 1245, 'isn’t': 1246, 'join': 1247, 'show': 1248, 'huge': 1249, 'search': 1250, 'google': 1251, 'applied': 1252, 'vibe': 1253, 'georgezachary': 1254, 'blog': 1255, 'room': 1256, 'leak': 1257, 'abort': 1258, 'beach': 1259, 'difficult': 1260, 'arrives': 1261, 'moth': 1262, 'games': 1263, 'load': 1264, 'probability': 1265, 'function': 1266, '∩': 1267, 'strong': 1268, 'generates': 1269, 'brandonorselli': 1270, 'hit': 1271, 'insane': 1272, 'thanksgiving': 1273, 'pulls': 1274, '150': 1275, '⚔️': 1276, 'improvements': 1277, '🖤🖤🖤': 1278, 'porsche': 1279, 'expects': 1280, 'unveil': 1281, 'germany': 1282, 'nov': 1283, 'summon': 1284, 'unfortunately': 1285, 'links': 1286, 'homes': 1287, 'zillow': 1288, 'adding': 1289, 'backup': 1290, 'clear': 1291, 'integrated': 1292, 'tiles': 1293, 'houses': 1294, 'replacement': 1295, 'recommended': 1296, 'e': 1297, 'says': 1298, 'torybruno': 1299, 'martiandays': 1300, 'aerojetrdyne': 1301, 'v': 1302, 'equation': 1303, 'favor': 1304, 'distance': 1305, 'chief': 1306, 'french': 1307, 'risks': 1308, 'vangelis': 1309, 'cargo': 1310, 'rage': 1311, 'joined': 1312, 'section': 1313, 'karpathy': 1314, 'og': 1315, 'helping': 1316, 'leaving': 1317, 'nytimes': 1318, '51': 1319, 'droid': 1320, 'secs': 1321, 'pay': 1322, 'river': 1323, 'ordering': 1324, 'reuters': 1325, 'flights': 1326, 'angels': 1327, 'offer': 1328, 'tool': 1329, 'insurance': 1330, 'feedback': 1331, 'utilities': 1332, 'lmk': 1333, 'heh': 1334, '🎶': 1335, 'falls': 1336, 'dare': 1337, 'loves': 1338, 'storage': 1339, '88': 1340, 'wearing': 1341, 'woohoo': 1342, 'surprise': 1343, 'listening': 1344, 'cat': 1345, 'based': 1346, 'shown': 1347, 'steering': 1348, 'annerajb': 1349, 'coffee': 1350, '39a': 1351, 'possibly': 1352, 'paradise': 1353, 'estimate': 1354, 'accurate': 1355, 'federal': 1356, 'gear': 1357, 'kind': 1358, '“not': 1359, 'flaw': 1360, '2500': 1361, '800': 1362, '3750': 1363, 'tile': 1364, 'v3': 1365, 'pet': 1366, '13ericralph31': 1367, 'varunversion1': 1368, 'close': 1369, 'won’t': 1370, 'unless': 1371, 'terrible': 1372, '💨': 1373, 'guide': 1374, 'safest': 1375, 'earthquake': 1376, 'recovered': 1377, 'secret': 1378, 'especially': 1379, 'near': 1380, 'tight': 1381, 'jeff': 1382, 'lease': 1383, 'policy': 1384, 'wisdom': 1385, 'price': 1386, 'updates': 1387, 'san': 1388, 'los': 1389, 'angeles': 1390, 'alone': 1391, 'themerl': 1392, 'instead': 1393, 'limits': 1394, 'suit': 1395, 'sus': 1396, 'dogecoin': 1397, 'jim': 1398, 's3xy': 1399, 'monday': 1400, 'tuesday': 1401, 'runner': 1402, 'cut': 1403, 'liketeslakim': 1404, 'watching': 1405, '35k': 1406, 'designed': 1407, 'theonion': 1408, 'control': 1409, 'docked': 1410, 'international': 1411, 'visible': 1412, 'profile': 1413, 'hi': 1414, 'share': 1415, '65': 1416, 'learned': 1417, 'norway': 1418, 'find': 1419, 'achieved': 1420, 'lebeaucarnews': 1421, 'vehicles': 1422, 'keep': 1423, 'farm': 1424, 'birthday': 1425, 'blood': 1426, 'similar': 1427, 'orders': 1428, 'astronaut': 1429, 'mid': 1430, 'ellison': 1431, 'board': 1432, 'allows': 1433, 'throughout': 1434, 'bit': 1435, 'options': 1436, 'example': 1437, '7500': 1438, 'display': 1439, '8': 1440, '💛': 1441, 'sellers': 1442, 'v1': 1443, 'v2': 1444, 'rail': 1445, 'disruption': 1446, 'computers': 1447, 'ac': 1448, 'shot': 1449, 'spin': 1450, 'rescue': 1451, 'ensure': 1452, 'ordered': 1453, 'galaxy': 1454, 'twitter': 1455, 'museum': 1456, 'seats': 1457, '25': 1458, 'white': 1459, 'boom': 1460, 'shorting': 1461, 'thus': 1462, 'naughty': 1463, 'alpha': 1464, 'lanceulanoff': 1465, 'terms': 1466, '😀': 1467, 'buys': 1468, 'ends': 1469, 'deliveries': 1470, 'hitler': 1471, 'cabin': 1472, 'parked': 1473, 'discussion': 1474, 'described': 1475, 'dive': 1476, 'parts': 1477, 'passage': 1478, 'chanos': 1479, 'publish': 1480, 'she': 1481, 'entirely': 1482, 'whoop': 1483, 'laser': 1484, 'flow': 1485, 'hate': 1486, 'four': 1487, 'post': 1488, 'preserve': 1489, 'mad': 1490, 'enemy': 1491, 'goal': 1492, 'dual': 1493, '2014': 1494, 'conditions': 1495, 'avoid': 1496, 'helps': 1497, 'tested': 1498, 'operating': 1499, 'shd': 1500, 'hell': 1501, 'perspective': 1502, 'feature': 1503, 'consumerreports': 1504, 'attacking': 1505, 'journo': 1506, 'polls': 1507, 'powerful': 1508, 'own': 1509, 'discount': 1510, 'holding': 1511, 'critique': 1512, 'nyt': 1513, 'wd': 1514, 'wow': 1515, 'including': 1516, 'solved': 1517, 'able': 1518, 'sorry': 1519, 'respects': 1520, 'broken': 1521, '40': 1522, 'lovely': 1523, 'subsidized': 1524, 'marinpilates': 1525, 'largest': 1526, 'complete': 1527, 'activate': 1528, 'intelligence': 1529, 'watch': 1530, 'forgot': 1531, 'steven': 1532, 'ron': 1533, 'limit': 1534, 'police': 1535, 'chicago': 1536, 'earlier': 1537, 'q': 1538, 'set': 1539, 'inspire': 1540, 'form': 1541, 'at…': 1542, 'journey': 1543, 'asteroid': 1544, 'belt': 1545, 'third': 1546, 'successful': 1547, 'kept': 1548, 'payload': 1549, 'falconheavy': 1550, 'sim': 1551, 'amazingly': 1552, 'tow': 1553, 'steam': 1554, 'alien': 1555, 'korea': 1556, 'having': 1557, 'needs': 1558, 'ones': 1559, 'attempt': 1560, '5000th': 1561, 'towing': 1562, 'opposite': 1563, 'robot': 1564, 'taken': 1565, 'hotdog': 1566, 'sold': 1567, \"world's\": 1568, \"yesterday's\": 1569, \"isn't\": 1570, '48': 1571, 'be…': 1572, 'announcing': 1573, 'boost': 1574, 'spacesuit': 1575, 'begins': 1576, 'draft': 1577, 'animation': 1578, 'core': 1579, 'twice': 1580, 'next…': 1581, 'tsrandall': 1582, 'elevator': 1583, 'p100d': 1584, 'learn': 1585, '80': 1586, 'clarify': 1587, 'present': 1588, \"tesla's\": 1589, 'announce': 1590, 'airplane': 1591, 'airplanes': 1592, 'lockheed': 1593, 'annual': 1594, 'rocks': 1595, 'systems': 1596, 'weather': 1597, 'titanium': 1598, 'larger': 1599, 'scientists': 1600, 'ad': 1601, 'shoe': 1602, 'kitten': 1603, 'stuck': 1604, 'operation': 1605, 'basically': 1606, 'nhtsagov': 1607, 'killed': 1608, 'shareholder': 1609, \"i'm\": 1610, 'reflight': 1611, 'paris': 1612, 'questions': 1613, 'asked': 1614, 'robots': 1615, 'motion': 1616, 'final': 1617, 'entry': 1618, 'wind': 1619, 'shear': 1620, 'unusually': 1621, 'autolist': 1622, 'survey': 1623, 'daylight': 1624, 'dc': 1625, 'appreciation': 1626, 'missions': 1627, 'material': 1628, 'fake': 1629, 'pieces': 1630, 'vote': 1631, 'charger': 1632, 'streets': 1633, 'country': 1634, 'automotive': 1635, 'action': 1636, 'preview': 1637, 'series': 1638, 'kinda': 1639, \"won't\": 1640, 'hangar': 1641, 'sales': 1642, 'ocisly': 1643, 'hr': 1644, \"that's\": 1645, 'achieving': 1646, 'pilot': 1647, 'plant': 1648, 'p85d': 1649, 'barking': 1650, 'blimps': 1651, 'shrek': 1652, 'cufflinks': 1653, '🩸': 1654, 'wholesome': 1655, 'crane': 1656, 'strongest': 1657, 'struggled': 1658, 'nfts': 1659, 'nft': 1660, 'puckish': 1661, 'rogue': 1662, 'starbase': 1663, 'valhalla': 1664, 'wootieztv': 1665, 'leader': 1666, 'shall': 1667, 'legendary': 1668, 'item': 1669, 'wondered': 1670, 'gaming': 1671, 'keeps': 1672, '🙏': 1673, 'swap': 1674, 'cryptocurrency': 1675, 'lil': 1676, 'juice': 1677, 'ox': 1678, 'frodo': 1679, 'underdoge': 1680, 'fail': 1681, 'himself': 1682, 'ð': 1683, 'ðogecoin': 1684, 'instructional': 1685, 'kingdom': 1686, 'yolt': 1687, 'method': 1688, 'warm': 1689, 'sunny': 1690, 'snowy': 1691, 'jaylav': 1692, 'frankensteen': 1693, 'smaller': 1694, 'avalonpenrose': 1695, 'lafebra': 1696, 'gamestonk': 1697, 'levine': 1698, 'catchy': 1699, 'boys': 1700, 'suicide': 1701, 'homicide': 1702, 'hey': 1703, 'gonna': 1704, '💕💕': 1705, 'iamdevloper': 1706, 'mus': 1707, 'protec': 1708, '👶': 1709, 'ya': 1710, 'reminds': 1711, 'timeless': 1712, 'classic': 1713, 'domino': 1714, 'undivided': 1715, 'winder': 1716, 'ostrich': 1717, 'gliding': 1718, 'nonchalant': 1719, 'cgi': 1720, 'merry': 1721, 'christmas': 1722, '🎁': 1723, 'bright': 1724, 'heavens': 1725, 'zwiebelbach': 1726, 'menieb': 1727, 'hehe': 1728, 'gespräch': 1729, 'discovering': 1730, 'essential': 1731, 'truths': 1732, 'exists': 1733, 'existed': 1734, 'spacetouristuk': 1735, 'tashaark': 1736, 'apple’s': 1737, 'code': 1738, 'xdreamcoding': 1739, 'bogle': 1740, 'products': 1741, 'themselves': 1742, 'indices': 1743, 'roadmap': 1744, 'mercy': 1745, 'chrisg': 1746, 'permission': 1747, 'received': 1748, 'stonecutters': 1749, 'guild': 1750, 'trylolli': 1751, 'maisie': 1752, 'williams': 1753, '👻': 1754, '💵': 1755, 'propulsively': 1756, 'maximum': 1757, 'closed': 1758, 'ryaneshea': 1759, 'pcr': 1760, 'identify': 1761, 'spike': 1762, 'proteins': 1763, 'accuracy': 1764, 'straight': 1765, 'positives': 1766, 'daily': 1767, 'ballistic': 1768, 'mkbhd': 1769, 'rgvaerialphotos': 1770, '29': 1771, 'ajtourville': 1772, 'endelsound': 1773, 'rakyll': 1774, 'tiki': 1775, 'flyerandyp': 1776, 'mojosusan': 1777, 'neck': 1778, 'bamtheteslaman1': 1779, 'europa': 1780, 'extremophile': 1781, 'roomy': 1782, 'turn': 1783, 'louder': 1784, 'christianserino': 1785, 'young': 1786, 'frankenstein': 1787, 'ovaltine': 1788, 'sn8': 1789, 'flaps': 1790, 'darealwamos': 1791, '💩': 1792, 'typewriter': 1793, '🤣': 1794, 'centaur': 1795, 'bow': 1796, 'marlonsix60': 1797, 'atv': 1798, 'fallout': 1799, 'radio': 1800, 'doubles': 1801, 'underground': 1802, '😀👍': 1803, 'johnnacrider1': 1804, 'jhall': 1805, 'remind': 1806, 'sama': 1807, 'dry': 1808, 'greece': 1809, 'eugenelee3': 1810, 'univercurious': 1811, 'hepa': 1812, '🇩🇪🖤giga': 1813, 'mannschaft🖤🇩🇪': 1814, 'vielen': 1815, 'dank': 1816, 'für': 1817, 'ihre': 1818, 'hervorragende': 1819, 'arbeit': 1820, 'james': 1821, 'measured': 1822, 'pony': 1823, 'rounded': 1824, 'mutual': 1825, 'caltech': 1826, 'cern': 1827, 'basic': 1828, 'tlowdon': 1829, 'antibody': 1830, 'harvard': 1831, 'epidemiology': 1832, 'nonetheless': 1833, 'reinfection': 1834, 'rates': 1835, 'symptoms': 1836, 'minor': 1837, 'memory': 1838, 'cells': 1839, 'itmotivatesus': 1840, 'bang': 1841, 'olde': 1842, 'skoole': 1843, 'analog': 1844, 'synthesizer': 1845, 'britain': 1846, 'lengthy': 1847, 'metaphor': 1848, '2024': 1849, 'spacecoast': 1850, 'stve': 1851, 'scorcher': 1852, 'vi': 1853, 'aloha': 1854, 'catches': 1855, 'valleyhack': 1856, 'geoffdbarrett': 1857, 'cruising': 1858, '330': 1859, 'exploding': 1860, 'universal': 1861, 'sci': 1862, 'period': 1863, 'comets': 1864, 'intersect': 1865, 'haven’t': 1866, 'humanity’s': 1867, 'recorded': 1868, 'comet': 1869, 'l': 1870, 'punched': 1871, 'sized': 1872, 'nickcappelli': 1873, 'blow': 1874, '“4d”': 1875, 'psyche': 1876, 'restored': 1877, 'certainly': 1878, 'wear': 1879, 'outfit': 1880, 'channel': 1881, 'herb': 1882, 'tarlek': 1883, 'wkrp': 1884, 'aim': 1885, 'we’re': 1886, 'green': 1887, 'pushed': 1888, 'gas': 1889, 'interests': 1890, 'distract': 1891, 'bernard': 1892, 'sanders': 1893, 'docile': 1894, 'puppet': 1895, 'sn5': 1896, 'prove': 1897, 'superdraco': 1898, 'propulsive': 1899, 'provides': 1900, 'pyramid': 1901, 'tallest': 1902, '3800': 1903, 'thousand': 1904, 'eight': 1905, 'matfabrix': 1906, 'logic': 1907, 'janeidyeve': 1908, 'lo': 1909, 'que': 1910, 'construimos': 1911, '🖤🧛\\u200d♀️total': 1912, 'eclipse': 1913, '🧛\\u200d♀️🖤': 1914, 'jelle56367384': 1915, 'anvithvittal': 1916, 'dnpthree': 1917, 'tiesto': 1918, 'adagio': 1919, 'strings': 1920, 'losing': 1921, 'sneakyness': 1922, 'mein': 1923, 'herz': 1924, 'brennt': 1925, 'boss': 1926, 'schristakos': 1927, 'bernie': 1928, 'kapital': 1929, 'nutshell': 1930, 'beer': 1931, 'spotted': 1932, 'challenge': 1933, 'objectively': 1934, 'lame': 1935, 'indonesia': 1936, '🇮🇩': 1937, 'maureendowd': 1938, 'randyvegetables': 1939, 'whom': 1940, 'seriously': 1941, 'toppled': 1942, 'bolivian': 1943, 'iamjamiefoxx': 1944, '49': 1945, 'impressive': 1946, 'tianwen': 1947, 'launched': 1948, 'kann': 1949, 'noch': 1950, 'keinen': 1951, 'löffel': 1952, 'benutzen': 1953, 'inevitable': 1954, 'optimoprincipi': 1955, 'spqr': 1956, 'kenklippenstein': 1957, 'block': 1958, 'insult': 1959, 'starofelysium': 1960, '“emerald': 1961, 'mine”': 1962, 'inheritance': 1963, 'ashlee': 1964, 'interviewed': 1965, 'hundreds': 1966, 'chef': 1967, 'boyarbeatz': 1968, 'readcoal': 1969, 'supernautical': 1970, 'montreal': 1971, 'age': 1972, '2000': 1973, 'backpack': 1974, 'clothes': 1975, 'suitcase': 1976, 'books': 1977, 'father': 1978, 'inherited': 1979, 'everydayelon': 1980, 'teslatested': 1981, 'hcl': 1982, 'effective': 1983, 'repost': 1984, 'humanly': 1985, 'materials': 1986, 'ethically': 1987, 'geekwire': 1988, 'signal': 1989, 'midbay': 1990, 'quaint': 1991, 'michaelaokla': 1992, 'holy': 1993, 'schnitt': 1994, 'cisoml': 1995, 'russ': 1996, 'parrish': 1997, 'incat': 1998, '400': 1999, 'foretold': 2000, 'realanishpai': 2001, 'renewable': 2002, 'workplace': 2003, 'average': 2004, 'recycled': 2005, 'lasting': 2006, '200k': 2007, '320k': 2008, 'produced': 2009, 'deployments': 2010, 'factories': 2011, 'emission': 2012, 'acount': 2013, 'posting': 2014, 'charts': 2015, 'tweets': 2016, 'wort': 2017, 'formerly': 2018, 'mainstream': 2019, 'systemic': 2020, 'bias': 2021, 'newspapers': 2022, 'angry': 2023, 'crushed': 2024, 'retweets': 2025, 'ironic': 2026, 'stankonia': 2027, 'realclearnews': 2028, 'question': 2029, 'medium': 2030, 'message': 2031, 'rises': 2032, 'dayquil': 2033, 'nyquil': 2034, 'lack': 2035, 'patients': 2036, 'region': 2037, 'marx': 2038, 'crusade4change': 2039, 'realdonaldtrump': 2040, 'personally': 2041, 'alamedacounty': 2042, 'mei': 2043, 'once': 2044, 'farrier': 2045, 'nyker': 2046, 'geetpurohit3': 2047, 'yoavoffek': 2048, 'converts': 2049, 'h2o': 2050, 'archangel': 2051, '12': 2052, 'flabellina212': 2053, 'bouncygulag': 2054, 'tmornini': 2055, 'param86330798': 2056, 'songs': 2057, 'anime': 2058, 'forced': 2059, 'isolation': 2060, 'hhs': 2061, 'server': 2062, 'crashed': 2063, 'chhs': 2064, 'empty': 2065, 'bravo': 2066, 'freedom': 2067, 'proof': 2068, '😅': 2069, 'claims': 2070, 'ansgarjohn': 2071, 'alandail': 2072, 'current': 2073, 'unusual': 2074, 'snowing': 2075, 'docs': 2076, 'romance': 2077, 'supernova': 2078, 'results': 2079, 'wuhan': 2080, 'paragraph': 2081, 'platform': 2082, 'mounting': 2083, 'evidence': 2084, 'suboptimal': 2085, 'boris': 2086, 'johnson': 2087, 'ventilator': 2088, 'tells': 2089, 'incorrectly': 2090, 'conflates': 2091, '“ventilator”': 2092, 'they’d': 2093, 'informed': 2094, 'clearly': 2095, 'articulates': 2096, '“real': 2097, 'ventilators”': 2098, '18': 2099, 'planet': 2100, 'lifetime': 2101, 'partial': 2102, 'affirming': 2103, 'dschless': 2104, 'bob': 2105, 'wachter': 2106, '“ventilators”': 2107, 'jamming': 2108, 'pipe': 2109, 'patient’s': 2110, 'throat': 2111, 'evolved': 2112, 'choice': 2113, 'moderate': 2114, 'resmed': 2115, 'philips': 2116, 'latter': 2117, 'fully': 2118, 'opinion': 2119, 'icus': 2120, 'jumping': 2121, 'intubation': 2122, 'peep': 2123, 'increases': 2124, 'others': 2125, 'toilet': 2126, 'darkellysio': 2127, 'zvezdichko': 2128, 'sciguyspace': 2129, 'swivel': 2130, 'arvnp': 2131, 'jamie': 2132, 'woodward': 2133, 'predictions': 2134, 'truly': 2135, 'sketch': 2136, 'appear': 2137, 'immediate': 2138, 'pucker': 2139, 'r2d2': 2140, 'spooling': 2141, 'manufacture': 2142, 'proportional': 2143, 'solenoid': 2144, 'valves': 2145, 'chair': 2146, 'situations': 2147, 'brilliant': 2148, 'scenes': 2149, 'syndicalism': 2150, 'drdavidreich': 2151, 'care': 2152, 'logarithm': 2153, 'graphs': 2154, 'vitalvegas': 2155, 'sn3': 2156, 'enscand': 2157, 'changed': 2158, 'include': 2159, '“estimated': 2160, 'illness': 2161, 'date”': 2162, 'rigorous': 2163, 'proves': 2164, 'sdunbabin': 2165, 'jonkay': 2166, 'quillette': 2167, 'reduction': 2168, 'riccitellidylan': 2169, 'coldbuschlights': 2170, 'different': 2171, 'wide': 2172, 'fidelity': 2173, 'known': 2174, '“presumed': 2175, 'friedberg': 2176, 'feels': 2177, 'plot': 2178, 'domestic': 2179, 'professor': 2180, 'dropping': 2181, 'tues': 2182, '43': 2183, 'italy': 2184, 'monitor': 2185, 'website': 2186, '“confirmed”': 2187, 'oft': 2188, 'reported': 2189, '“presumptive': 2190, 'trending': 2191, 'negligible': 2192, 'pattern': 2193, 'compare': 2194, 'favipiravir': 2195, 'whether': 2196, 'z': 2197, 'pak': 2198, 'situation': 2199, 'kickass': 2200, 'med': 2201, 'maladies': 2202, 'hydroxychloroquine': 2203, 'panic': 2204, 'allocate': 2205, 'expense': 2206, 'treating': 2207, 'matches': 2208, 'doxycycline': 2209, 'considering': 2210, 'chloroquine': 2211, 'thingswork': 2212, 'triassic': 2213, '000th': 2214, 'mrebuzz': 2215, 'bernie’s': 2216, 'sleeving': 2217, 'sn2': 2218, 'dogs': 2219, '✌️': 2220, 'attachment': 2221, 'static': 2222, 'cones': 2223, 'invented': 2224, 'angel': 2225, 'wall': 2226, 'austin': 2227, '350': 2228, '310': 2229, 'sticker': 2230, '🔭': 2231, 'stacking': 2232, 'fka': 2233, 'sections': 2234, 'asimov’s': 2235, 'ramping': 2236, 'installation': 2237, 'training': 2238, 'apply': 2239, 'estimated': 2240, '390': 2241, '630': 2242, 'beating': 2243, 'emerald': 2244, '🤹🏻\\u200d♂️': 2245, 'midsection': 2246, 'feeling': 2247, 'cute': 2248, 'delete': 2249, 'emoji': 2250, 'hack': 2251, 'nutcracker”': 2252, 'tho': 2253, 'realiti': 2254, 'handed': 2255, '8th': 2256, 'hottest': 2257, 'soundcloud': 2258, 'concerto': 2259, '“at': 2260, 'solve': 2261, 'icing': 2262, 'cake”': 2263, 'directly': 2264, 'meet': 2265, 'text': 2266, 'actions': 2267, 'critically': 2268, 'benign': 2269, 'citation': 2270, 'relevance': 2271, 'principle': 2272, 'pagerank': 2273, 'among': 2274, 'spotify': 2275, 'iamkarenbobaran': 2276, 'ladies': 2277, 'forms': 2278, 'cold”': 2279, 'influenza': 2280, 'vibbbe': 2281, 'enjoying': 2282, 'excerpt': 2283, 'nitrogen': 2284, 'cryogenic': 2285, 'strength': 2286, '☃️': 2287, 'weld': 2288, 'doubler': 2289, 'repaired': 2290, 'retested': 2291, 'necromancy': 2292, 'improved': 2293, 'accommodations': 2294, 'picklepunchd': 2295, 'trunk': 2296, 'surprisingly': 2297, 'shape': 2298, 'meteor': 2299, 'excitement': 2300, 'hehehe': 2301, 'bulletproof': 2302, 'buff': 2303, 'teslas': 2304, 'phony': 2305, 'shanghai': 2306, 'nsfw': 2307, 'wikigenius': 2308, 'suspected': 2309, 'disguise': 2310, 'barrel': 2311, 'crushing': 2312, 'crewed': 2313, '2020': 2314, '😮': 2315, '🐼': 2316, 'gift': 2317, 'ideas': 2318, 'naturemuseum': 2319, 'smiths': 2320, 'thugsandmiracle': 2321, 'tfspeakcies': 2322, 'dearhistorians': 2323, 'deepintohistory': 2324, 'hellenisticpod': 2325, 'trueconspod': 2326, 'iwbpodcast': 2327, 'coffincast': 2328, 'cachehistory': 2329, 'ageofvictoria': 2330, 'foryourrefpod': 2331, 'wwiipodcast': 2332, 'namelessdeadpod': 2333, 'zombiefishbowl': 2334, 'ageofnapoleon': 2335, 'mcgregor': 2336, '🎄😀': 2337, '💕': 2338, 'render': 2339, 'compute': 2340, 'impossibly': 2341, 'quantum': 2342, 'mechanics': 2343, 'smol': 2344, 'puppy': 2345, 'math': 2346, 'respect': 2347, 'solves': 2348, 'joewbowles': 2349, 'billgates': 2350, 'gigawatt': 2351, 'square': 2352, 'patch': 2353, 'deserted': 2354, 'corner': 2355, 'arizona': 2356, 'utah': 2357, 'calcs': 2358, 'normal': 2359, 'owl': 2360, 'intengineering': 2361, 'effort': 2362, 'coefficient': 2363, 'requires': 2364, 'tweaking': 2365, 'uphill': 2366, 'franz': 2367, 'throws': 2368, 'ball': 2369, 'window': 2370, 'syd': 2371, 'mead': 2372, '911': 2373, 'nobody': 2374, 'influenced': 2375, 'partly': 2376, 'gravitas': 2377, 'overrated': 2378, 'thursday': 2379, 'winning': 2380, 'midsize': 2381, '🇩🇪🇩🇪🇩🇪': 2382, 'zerohedge': 2383, '😘': 2384, 'extremism': 2385, 'strangely': 2386, 'familiar': 2387, '🎃': 2388, 'halloween': 2389, 'snacks': 2390, 'regions': 2391, 'tons': 2392, 'ads': 2393, 'seo': 2394, 'security': 2395, 'increasingly': 2396, 'sandwich': 2397, 'facts': 2398, 'at61': 2399, 'aue': 2400, 'cobalt310': 2401, 'stilettos': 2402, 'cardoso': 2403, 'transparent': 2404, 'aluminum': 2405, 'financial': 2406, 'roofs': 2407, 'retrofit': 2408, 'pg': 2409, 'rolling': 2410, 'wins': 2411, 'headlights': 2412, 'award': 2413, '🥇': 2414, 'lead': 2415, 'oberth': 2416, 'captured': 2417, 'delta': 2418, 'reasons': 2419, 'h2': 2420, '∆v': 2421, 'residuals': 2422, 'incredibly': 2423, 'overwhelming': 2424, 'j': 2425, 'ump': 2426, 'er': 2427, 'neiltyson': 2428, 'precise': 2429, 'masses': 2430, '6400km': 2431, '6800km': 2432, 'jam': 2433, 'should’ve': 2434, 'oscar': 2435, 'fries': 2436, '🍟': 2437, 'devil': 2438, '😈': 2439, 'sooo': 2440, 'annoying': 2441, '“human': 2442, 'compatible”': 2443, 'stuart': 2444, 'russell': 2445, 'solutions': 2446, 'trouble': 2447, 'rosetta': 2448, 'mounted': 2449, 'offset': 2450, 'weight': 2451, 'rapidly': 2452, 'moyo5150': 2453, 'transporter': 2454, 'lifting': 2455, 'secrets': 2456, 'dangerous': 2457, 'teslamiles': 2458, '826m': 2459, 'stacks': 2460, 'wednesday': 2461, 'moving': 2462, 'mk1': 2463, 'warned': 2464, 'memesofmars': 2465, 'fermatslibrary': 2466, 'jameshatfield': 2467, 'laurenrow5': 2468, 'junkyard': 2469, 'tatooine': 2470, 'apple': 2471, 'butt': 2472, 'bellows': 2473, 'blowing': 2474, 'smoke': 2475, 'along': 2476, 'thames': 2477, 'london': 2478, 'qz': 2479, 'newyorker': 2480, 'business': 2481, 'cigars': 2482, '👍': 2483, 'ahem': 2484, 'dmt': 2485, 'ftw': 2486, 'sing': 2487, 'thee': 2488, 'thy': 2489, 'rest': 2490, 'aren’t': 2491, 'talking': 2492, 'hadouken': 2493, 'sweaty': 2494, 'sharpest': 2495, 'shed': 2496, 'expanding': 2497, 'rusty': 2498, 'sands': 2499, 'arm': 2500, 'gantry': 2501, 'enter': 2502, 'depart': 2503, 'dronship': 2504, 'wings': 2505, 'folded': 2506, 'traveling': 2507, 'panama': 2508, 'canal': 2509, 'world’s': 2510, 'large': 2511, 'commission': 2512, 'consider': 2513, 'usually': 2514, 'peaker': 2515, 'plants': 2516, 'cookie': 2517, 'decorating': 2518, 'contest': 2519, 'relaunched': 2520, 'nuking': 2521, 'strangers': 2522, 'knows': 2523, 'caught': 2524, 'pics': 2525, 'rotation': 2526, 'airframe': 2527, 'windbreak': 2528, 'lyft': 2529, 'uber': 2530, 'taxi': 2531, 'drivers': 2532, 'advocates': 2533, 'teletub': 2534, 'iamevilvictor': 2535, 'branding': 2536, '🎩': 2537, 'fates': 2538, 'booms': 2539, 'piercing': 2540, 'barrier': 2541, 'encounter': 2542, 'livingstone': 2543, 'presume': 2544, 'goathobbit': 2545, '🐏': 2546, '🥳': 2547, '™️': 2548, 'bliss': 2549, 'hughes': 2550, 'twist': 2551, '♥️👽': 2552, '59': 2553, '👽♥️': 2554, 'graham’s': 2555, 'infinity': 2556, 'spaceballs': 2557, 'awards': 2558, '70': 2559, 'escobar': 2560, 'revolutions': 2561, 'duncan': 2562, 'bag': 2563, '🧙\\u200d♂️': 2564, 'austinbarnard45': 2565, 'tonight’s': 2566, '600': 2567, 'hz': 2568, 'vibration': 2569, 'fixed': 2570, 'ants': 2571, 'active': 2572, 'braking': 2573, 'features': 2574, 'turned': 2575, 'recursive': 2576, 'yep': 2577, 'merkin': 2578, 'haggle': 2579, 'properly': 2580, 'spirit': 2581, 'st': 2582, 'louis': 2583, 'ethyr44': 2584, 'steelsully': 2585, 'kickber': 2586, 'explorespaceksc': 2587, 'botanical': 2588, 'gardens': 2589, 'drink': 2590, 'mug': 2591, '♥️🚀': 2592, '🚀♥️': 2593, 'lc': 2594, 'yet': 2595, 'minamyoussef': 2596, '新世紀エヴァンゲリオン': 2597, 's8n': 2598, 'aging': 2599, 'declining': 2600, 'population': 2601, '2050': 2602, 'overpopulation': 2603, 'randers': 2604, 'un': 2605, 'stonk': 2606, 'buggy': 2607, 'store': 2608, '1875': 2609, 'june': 2610, 'ktla': 2611, 'hprobocop': 2612, 'sole': 2613, 'meunière': 2614, 'touched': 2615, '😇': 2616, 'rising': 2617, 'rstar346': 2618, 'elonmusknt': 2619, 'phil343thomas': 2620, 'tonywugz': 2621, 'unlike': 2622, 'bees': 2623, 'millinery': 2624, 'metaphorical': 2625, 'concept': 2626, 'footwear': 2627, 'clothing': 2628, 'fool': 2629, '1669': 2630, 'discernible': 2631, 'various': 2632, 'formed': 2633, 'precision': 2634, 'reproach”': 2635, '500': 2636, 'incentive': 2637, 'toof': 2638, 'trials': 2639, 'pewdiepie': 2640, 'muffled': 2641, 'titter': 2642, 'bee': 2643, 'eric': 2644, 'copy': 2645, 'signalapp': 2646, 'tweak': 2647, 'orientation': 2648, 'minimize': 2649, 'reflection': 2650, 'astronomical': 2651, 'experiments': 2652, 'easily': 2653, 'density': 2654, '4900': 2655, 'notice': 2656, 'carefully': 2657, 'advancements': 2658, 'astronomy': 2659, 'telelscopes': 2660, 'anyway': 2661, 'atmospheric': 2662, 'attenuation': 2663, '🌌': 2664, 'tommleach': 2665, 'trigomemetry': 2666, 'royalacademy': 2667, 'telegraph': 2668, 'maggiejuang1': 2669, 'highways': 2670, 'forever': 2671, 'grateful': 2672, 'season': 2673, 'finale': 2674, 'mayapolarbear': 2675, 'loaded': 2676, 'fit': 2677, 'spiderwee': 2678, 'artstation': 2679, 'cgpgrey': 2680, 'loneliest': 2681, 'teasing': 2682, '399': 2683, 'wanting': 2684, 'finnish': 2685, 'kidding': 2686, 'fermi': 2687, 'paradox': 2688, 'bizarre': 2689, 'marshmellomusic': 2690, 'goat': 2691, 'fate': 2692, 'deepfake': 2693, 'malcolm': 2694, 'gladwell’s': 2695, '👌': 2696, 'martinengwicht': 2697, 'mowo91': 2698, 'theory': 2699, 'mess': 2700, 'summarizes': 2701, 'print': 2702, 'mentioned': 2703, 'francisco': 2704, 'recharging': 2705, 'iluvamp': 2706, 'ray4yu': 2707, 'tsport100': 2708, 'quarter': 2709, 'fires': 2710, 'uwu': 2711, 'ewe': 2712, 'absolute': 2713, 'unit': 2714, 'upgrade': 2715, 'horse': 2716, '1919': 2717, 'dannylashep': 2718, 'handy': 2719, 'leasing': 2720, 'flown': 2721, 'falcons': 2722, '😲': 2723, 'lifted': 2724, 'tether': 2725, 'stay': 2726, '🧁': 2727, 'ci': 2728, 'b0rg': 2729, 'axel': 2730, '🐿': 2731, '🦊': 2732, 'reporting': 2733, 'vary': 2734, 'rulz': 2735, 'onion': 2736, 'dailyrapfacts': 2737, 'jung': 2738, 'emo': 2739, 'records': 2740, 'referral': 2741, 'program': 2742, 'jimcramer': 2743, 'cramer': 2744, 'explains': 2745, 'seller': 2746, 'manipulation': 2747, 'heatshield': 2748, 'hex': 2749, 'rise': 2750, 'flashed': 2751, 'teaser': 2752, 'cyberpunk': 2753, 'titles': 2754, 'played': 2755, 'dimas': 2756, 'revenge': 2757, 'covers': 2758, 'rebirth': 2759, 'thrusters': 2760, 'switched': 2761, 'chutes': 2762, 'difficulty': 2763, 'proving': 2764, 'merch': 2765, 'russia': 2766, 'angara': 2767, 'lift': 2768, 'astroannimal': 2769, '💕💕💕': 2770, 'mariano': 2771, 'oscos': 2772, 'proximity': 2773, 'docking': 2774, 'sequence': 2775, 'shadow': 2776, 'arrays': 2777, 'ourselves': 2778, 'ieoma123': 2779, 'floats': 2780, 'gently': 2781, 'recap': 2782, 'indicator': 2783, 'ripley': 2784, 'exact': 2785, 'censoring': 2786, 'meetings': 2787, 'valuable': 2788, 'jaybahel': 2789, 'respawn': 2790, '2010': 2791, 'massive': 2792, 'lockeed': 2793, 'fair': 2794, 'engineer': 2795, 'designer': 2796, 'succeeded': 2797, 'mistakes': 2798, 'loading': 2799, 'sf': 2800, 'foundry': 2801, 'casting': 2802, 'manifold': 2803, 'inconel': 2804, '“tesla': 2805, 'ranked': 2806, 'satisfying': 2807, 'car”': 2808, '268': 2809, 'exceeding': 2810, 'held': 2811, 'russian': 2812, 'rd': 2813, '180': 2814, 'rocketisfine': 2815, 'leo190102': 2816, 'simply': 2817, 'sexy': 2818, 'zeebrugge': 2819, 'tilburg': 2820, 'hq': 2821, 'amsterdam': 2822, 'oslo': 2823, 'thousands': 2824, '3’s': 2825, 'joe': 2826, 'rogan': 2827, 'describes': 2828, 'performs': 2829, 'patent': 2830, 'belong': 2831, 'created': 2832, 'accelerate': 2833, 'entropy': 2834, 'instance': 2835, 'multiverse': 2836, 'gm': 2837, 'volt': 2838, 'nissan': 2839, 'leaf': 2840, 'gadget': 2841, 'host': 2842, 'occasionally': 2843, 'sentry': 2844, 'bach’s': 2845, 'toccata': 2846, 'fugue': 2847, 'robbery': 2848, 'summer': 2849, 'caseykins421': 2850, 'justinandgreg': 2851, 'cousin’s': 2852, 'six': 2853, '18th': 2854, 'kewl': 2855, 'moose': 2856, 'sculpture': 2857, '♥️🇳🇴': 2858, 'metallic': 2859, '1100c': 2860, '2000f': 2861, 'tylertrench31': 2862, 'kzooastro': 2863, 'viewport': 2864, 'rendering': 2865, '75': 2866, 'kwh': 2867, 'dofaquarius': 2868, 'newprofilepic': 2869, 'walkway': 2870, 'matt': 2871, 'debord': 2872, 'reviews': 2873, 'models': 2874, 'illustration': 2875, 'windows': 2876, 'keukenfiets': 2877, 'korey': 2878, 'irl': 2879, 'vioblet': 2880, 'coincidences': 2881, '264': 2882, '260': 2883, 'though': 2884, 'larry': 2885, 'kathleen': 2886, 'wilson': 2887, 'thompson': 2888, 'easy': 2889, 'importantly': 2890, 'chooses': 2891, 'brighter': 2892, 'state': 2893, 'local': 2894, 'offers': 2895, 'carpool': 2896, 'lane': 2897, 'colorado': 2898, 'cuts': 2899, 'stainless': 2900, 'sale': 2901, 'bajirao': 2902, 'mastani': 2903, 'lost': 2904, 'debate': 2905, '6000': 2906, '10m': 2907, 'prufrock': 2908, 'aspirationally': 2909, 'retractable': 2910, 'wheel': 2911, 'guided': 2912, 'train': 2913, 'streamed': 2914, '8pm': 2915, 'techcrunch': 2916, 'clayton': 2917, 'expensive': 2918, 'occurs': 2919, 'eg': 2920, 'cell': 2921, 'phones': 2922, 'iterations': 2923, 'economies': 2924, 'achieve': 2925, 'affordability': 2926, 'businessinsider': 2927, 'explain': 2928, '“tinny”': 2929, 'cancellation': 2930, 'waitlist': 2931, 'tzero': 2932, '1997': 2933, '2003': 2934, 'inspired': 2935, 'wouldn’t': 2936, 'exist': 2937, 'stabilized': 2938, 'enabling': 2939, 'intact': 2940, 'en': 2941, 'route': 2942, '♥️♥️♥️♥️🛸🛸🛸🛸♥️♥️♥️♥️': 2943, 'rainnwilson': 2944, 'brief': 2945, 'periods': 2946, 'breakthrough': 2947, 'earth’s': 2948, 'crust': 2949, 'lava': 2950, 'completing': 2951, 'cutting': 2952, 'edge': 2953, 'ours': 2954, 'building': 2955, 'watchtower': 2956, 'dirt': 2957, 'bricks': 2958, 'knight': 2959, 'yell': 2960, 'insults': 2961, 'accent': 2962, 'acquired': 2963, 'trucking': 2964, 'capacity': 2965, 'dec': 2966, '31': 2967, 'wars': 2968, '11m': 2969, 'budget': 2970, 'ridiculously': 2971, 'budgets': 2972, 'bring': 2973, 'horizon': 2974, 'glamandgore': 2975, 'tylerthecreator': 2976, 'jameslandino': 2977, 'girl': 2978, 'selfie': 2979, 'fresh': 2980, 'puro': 2981, 'dealer': 2982, 'how’d': 2983, 'vicentes': 2984, 'wanna': 2985, '😉😉': 2986, 'kirinodere': 2987, 'boredelonmusk': 2988, 'saves': 2989, 'puppies': 2990, 'brings': 2991, 'lemur': 2992, 'circumstances': 2993, 'visual': 2994, 'approximation': 2995, 'commander': 2996, 'usairforce': 2997, 'studebaker': 2998, 'bend': 2999, 'tomcross': 3000, 'ultrawhite': 3001, 'subtle': 3002, 'esper': 3003, 'mebfaber': 3004, 'incents': 3005, 'gdp': 3006, 'private': 3007, 'preventing': 3008, 'retirement': 3009, 'funds': 3010, 'investors': 3011, 'increasing': 3012, 'wealth': 3013, 'divide': 3014, 'revenue': 3015, 'publicly': 3016, 'outsold': 3017, 'camry': 3018, 'dailystem': 3019, 'lflemingedu': 3020, 'atkauffman': 3021, 'justinaglio': 3022, 'thetechrabbi': 3023, 'smgaillard': 3024, 'jsnhubbard': 3025, 'mrnavas': 3026, 'wickeddecent': 3027, 'gregkulowiec': 3028, 'nature': 3029, 'remember': 3030, 'polar': 3031, 'moment': 3032, 'inertia': 3033, 'hanging': 3034, 'yousuck2020': 3035, 'announcement': 3036, 'grant': 3037, 'supercharging': 3038, 'mcwm': 3039, 'wut': 3040, 'eliot’s': 3041, 'notes': 3042, 'waste': 3043, 'unbox': 3044, 'ap': 3045, 'handmaiden': 3046, 'director': 3047, 'korean': 3048, 'oldboy': 3049, 'mattdebord': 3050, 'dang': 3051, 'force': 3052, '♥️🔬💫': 3053, 'i’ll': 3054, 'raise': 3055, 'mckay': 3056, '🌏🚀👨\\u200d🔬': 3057, 'retweet': 3058, 'returns': 3059, 'relentless': 3060, 'constantly': 3061, 'peddle': 3062, 'fear': 3063, 'uncertainty': 3064, 'pulitzer': 3065, 'considered': 3066, 'critic': 3067, 'wagnerian': 3068, 'mötor': 3069, 'trēnd': 3070, 'ryan': 3071, 'caldbeck': 3072, 'automatically': 3073, 'temperature': 3074, '🦄💨✌️': 3075, 'fighting': 3076, 'affects': 3077, 'living': 3078, 'creature': 3079, 'grimoire': 3080, 'fellowship': 3081, 'm3chwarri0r935': 3082, 'itsmikeski': 3083, 'deadpoolmovie': 3084, 'url': 3085, 'profoundly': 3086, 'philosophy': 3087, 'luck': 3088, 'vice': 3089, 'wang': 3090, '中南海紫光阁': 3091, 'teleportation': 3092, 'stargate': 3093, 'andromeda': 3094, 'fairings': 3095, 'proven': 3096, 'tricky': 3097, 'bbcworld': 3098, 'former': 3099, 'thai': 3100, 'provincial': 3101, 'governor': 3102, 'inaccurately': 3103, '“rescue': 3104, 'chief”': 3105, 'subject': 3106, 'dick': 3107, 'stanton': 3108, 'led': 3109, 'correspondence': 3110, 'returned': 3111, 'cave': 3112, 'mini': 3113, 'sub': 3114, 'boar': 3115, 'kids’': 3116, 'soccer': 3117, 'thailand': 3118, 'simulating': 3119, 'maneuvering': 3120, 'narrow': 3121, 'dcliem': 3122, 'talented': 3123, 'monsoon': 3124, 'godspeed': 3125, 'thesheetztweetz': 3126, 'lopez': 3127, 'melissa': 3128, 'lee': 3129, '“dancing': 3130, 'off”': 3131, 'puff': 3132, 'chanos’s': 3133, 'cuff': 3134, 'social': 3135, 'partying': 3136, 'tepper': 3137, 'caption': 3138, '“love': 3139, 'dudes”': 3140, 'controlling': 3141, 'remotely': 3142, 'flows': 3143, 'excession': 3144, 'stui999': 3145, 'spacebow': 3146, 'knaack': 3147, 'hal': 3148, 'shop': 3149, 'pulletsforever': 3150, 'overheat': 3151, 'protection': 3152, 'cubamark': 3153, 'penenberg': 3154, 'justwidle2': 3155, 'scored': 3156, 'row': 3157, 'lgbtq': 3158, 'equality': 3159, 'rehearsallot': 3160, 'guiscaesar': 3161, 'surfersnout': 3162, 'aedmondsauthor': 3163, 'barbiesway': 3164, 'twittermoments': 3165, 'repmaxinewaters': 3166, 'politifact': 3167, 'washington': 3168, 'consciousness': 3169, 'becoming': 3170, 'spacefaring': 3171, 'extending': 3172, 'planets': 3173, 'widespreadpanic': 3174, 'purpose': 3175, 'sentient': 3176, 'sleeps': 3177, 'seldom': 3178, 'awakens': 3179, 'sleeper': 3180, 'awaken': 3181, 'dune': 3182, 'scottlynch78': 3183, 'jenphalian': 3184, 'writer': 3185, '78': 3186, 'amendlocke': 3187, 'union': 3188, 'brothers': 3189, 'uaw': 3190, '“corruption”': 3191, 'organization': 3192, 'shaynooooo': 3193, 'kausthav': 3194, 'ray': 3195, 'erotics': 3196, 'evil': 3197, 'myself': 3198, 'abedurrani': 3199, 'nelstamp': 3200, 'rrescenko': 3201, 'peterthiel': 3202, 'disagree': 3203, 'gave': 3204, 'minimal': 3205, 'lea': 3206, 'bitterwolf': 3207, 'jlgolson': 3208, 'ran': 3209, '“pay”': 3210, 'multiplanetary': 3211, 'education': 3212, 'necessary': 3213, 'reorg': 3214, 'unfiltered': 3215, 'fredericlambert': 3216, 'blast': 3217, 'zip2': 3218, 'felt': 3219, 'inhibited': 3220, 'innovation': 3221, 'fostering': 3222, 'aspired': 3223, 'file': 3224, 'sourced': 3225, 'flamethrower”': 3226, 'directed': 3227, 'unintentionally': 3228, 'burning': 3229, 'concise': 3230, 'drew': 3231, 'upon': 3232, 'seuss': 3233, '“green': 3234, 'ham”': 3235, 'throwflamesresponsibly': 3236, 'zen': 3237, 'gentle': 3238, 'puffs': 3239, 'tbc': 3240, 'flamethrowers': 3241, 'picked': 3242, 'bf': 3243, 'illusion': 3244, 'illiteracy': 3245, 'hedgehog': 3246, 'break': 3247, 'stcom': 3248, 'worry': 3249, 'emissions': 3250, 'everything’s': 3251, 'filtration': 3252, 'viruses': 3253, 'spores': 3254, 'pollen': 3255, 'particulate': 3256, 'bwd': 3257, 'activated': 3258, 'protect': 3259, 'weaponized': 3260, 'virus': 3261, 'german': 3262, 'finders': 3263, 'keepers': 3264, '🚀🚀🚀': 3265, 'pravduh': 3266, 'edwardpumps': 3267, 'items': 3268, '3s': 3269, 'v8': 3270, 'bug': 3271, 'voice': 3272, 'button': 3273, '“bug': 3274, 'report”': 3275, 'description': 3276, 'appreciate': 3277, 'ride': 3278, 'comfort': 3279, 'addressed': 3280, 'ui': 3281, 'remote': 3282, 'update': 3283, '🚘': 3284, 'noahshachtman': 3285, 'thedailybeast': 3286, 'erinbiba': 3287, 'journalist': 3288, 'incl': 3289, 'genitalia': 3290, 'language': 3291, 'sexist': 3292, 'hypocrite': 3293, 'joshuatopolsky': 3294, 'oneunderscore': 3295, 'parkermolloy': 3296, '2sunsky': 3297, 'ashleyfeinberg': 3298, 'glitch': 3299, 'tweet': 3300, 'replied': 3301, 'showing': 3302, 'removing': 3303, 'context': 3304, 'meaningless': 3305, 'controlled': 3306, '“powerful': 3307, 'people”': 3308, '😃': 3309, 'calebharmon5': 3310, 'pickup': 3311, 'parties': 3312, 'begin': 3313, 'feelings': 3314, 'femtotech': 3315, 'suggesting': 3316, 'stunned': 3317, 'contempt': 3318, 'readers': 3319, 'outraged': 3320, '“dumb”': 3321, 'sensitive': 3322, 'criticism': 3323, 'uhh': 3324, 'hypermile': 3325, 'tedhu': 3326, 'omcintyre': 3327, 'crampedeyes': 3328, 'gwynne': 3329, 'prez': 3330, 'deserved': 3331, 'schematic': 3332, 'superchargers': 3333, 'tried': 3334, 'medickinson': 3335, 'thephysicsgirl': 3336, 'nano': 3337, 'applies': 3338, 'therefore': 3339, 'indicates': 3340, 'dx': 3341, 'careful': 3342, 'wish': 3343, 'credibility': 3344, '“you’re': 3345, '”': 3346, 'holier': 3347, 'thou': 3348, 'hypocrisy': 3349, 'lay': 3350, 'sugarcoat': 3351, 'lie': 3352, 'anechoic': 3353, 'emi': 3354, 'plum': 3355, 'brook': 3356, 'gothkazu': 3357, 'skip': 3358, 'partnership': 3359, 'ocean': 3360, 'spaceport': 3361, 'messed': 3362, 'resulting': 3363, 'ankle': 3364, 'front': 3365, 'auto': 3366, 'accidents': 3367, 'coverage': 3368, 'ars': 3369, 'existentialcoms': 3370, 'fuels': 3371, 'pending': 3372, 'final…': 3373, 'alyankovic': 3374, 'capella': 3375, 'amish': 3376, 'irresistible': 3377, 'quarterly': 3378, 'hands': 3379, 'winter': 3380, 'skillzsz': 3381, 'payout': 3382, 'labels': 3383, 'artists': 3384, 'fraction': 3385, 'prob': 3386, 'itunes': 3387, 'whatever': 3388, '4u': 3389, 'artist': 3390, 'earnings': 3391, 'tiny': 3392, 'touring': 3393, 'flesh': 3394, 'kill': 3395, 'maim': 3396, 'album': 3397, 'warren': 3398, 'buffett': 3399, 'candy': 3400, 'sooner': 3401, 'sheer': 3402, 'carnage': 3403, 'unreal': 3404, 'suggest': 3405, 'tiptoeing': 3406, 'quietly': 3407, 'exit': 3408, 'shorted': 3409, 'meaning': 3410, 'bet': 3411, 'drgitlin': 3412, 'incorrect': 3413, 'fremont': 3414, '3rd': 3415, '🇳🇱🌸': 3416, '🇦🇪': 3417, 'mall': 3418, 'woke': 3419, 'frisbee': 3420, 'opens': 3421, 'parafoil': 3422, 'reentering': 3423, 'atmosphere': 3424, '662': 3425, 'locations': 3426, 'puerto': 3427, 'rico': 3428, 'tour': 3429, 'gayle': 3430, 'king': 3431, 'la3': 3432, 'id': 3433, 'main': 3434, 'viewing': 3435, 'affect': 3436, 'paine’s': 3437, 'paine': 3438, 'premiering': 3439, 'w00ki33': 3440, 'tommythornton': 3441, 'elon': 3442, 'surrounded': 3443, 'teslaquilla': 3444, 'bottles': 3445, 'tracks': 3446, 'dried': 3447, 'tears': 3448, 'cheeks': 3449, 'statement': 3450, \"what's\": 3451, 'scars': 3452, 'autonomous': 3453, 'syndicalist': 3454, 'commune': 3455, '——': 3456, 'peasant': 3457, 'woman': 3458, \"how'd\": 3459, 'you…': 3460, 'sanes': 3461, '250': 3462, 'lbs': 3463, 'muck': 3464, '95': 3465, 'lb': 3466, 'legal': 3467, 'swiss': 3468, 'diesel': 3469, 'maintenance': 3470, 'purchase': 3471, 'escape': 3472, 'providers': 3473, 'transit': 3474, 'monopolies': 3475, 'petra': 3476, 'masada': 3477, 'die': 3478, 'pour': 3479, 'flaming': 3480, 'absinthe': 3481, 'tower': 3482, 'glasses': 3483, 'jerusalem': 3484, 'speakeasy': 3485, 'brother': 3486, 'jonah': 3487, 'buttercup': 3488, 'amigos': 3489, 'plethora': 3490, 'westworld': 3491, 'cannot': 3492, 'solving': 3493, 'wake': 3494, 'duty': 3495, 'carrying': 3496, 'packs': 3497, 'the…': 3498, 'futurecars360': 3499, 'marilyn': 3500, 'monroe': 3501, 'honesty’s': 3502, 'china’s': 3503, 'infrastructure': 3504, 'tintin': 3505, 'b': 3506, 'deployed': 3507, 'communicating': 3508, 'stations': 3509, 'catcher’s': 3510, 'mitt': 3511, 'apparent': 3512, 'damage…': 3513, 'catch': 3514, 'toaster': 3515, 'doug': 3516, 'davidedf': 3517, 'dsfpspacefl1ght': 3518, 'plumes': 3519, 'beams': 3520, 'rocketphotography': 3521, 'exceeded': 3522, 'printed': 3523, 'circuit': 3524, '🇦🇺': 3525, 'apparently': 3526, 'camera': 3527, 'views': 3528, 'highlight': 3529, 'reel': 3530, 'happens': 3531, '200m': 3532, 'sends': 3533, 'regular': 3534, 'departures': 3535, 'awaits': 3536, 'pale': 3537, 'dot': 3538, 'customs': 3539, 'detail': 3540, 'each': 3541, 'serial': 3542, 'retrothrust': 3543, 'didn’t': 3544, 'survived': 3545, 'shore': 3546, 'foreground': 3547, 'roasting': 3548, 'nuts': 3549, '🥜': 3550, 'liven': 3551, 'generated': 3552, 'thunderhead': 3553, 'sallyshin': 3554, 'exposure': 3555, 'neural': 3556, 'detect': 3557, 'cameras': 3558, 'dedicated': 3559, 'sensors': 3560, 'patient': 3561, 'located': 3562, 'sierra': 3563, 'nevada': 3564, 'roaming': 3565, 'neerajka': 3566, 'ufo': 3567, 'improve': 3568, 'further': 3569, 'nzben': 3570, 'swiftonsecurity': 3571, 'mushroom': 3572, 'refly': 3573, 'first…': 3574, 'merchandising': 3575, 'buyer': 3576, 'boringly': 3577, 'signed': 3578, 'guy': 3579, 'transcendent': 3580, 'majesty': 3581, 'specialness': 3582, 'capping': 3583, 'caps': 3584, 'races': 3585, 'compete': 3586, 'fund': 3587, 'operate': 3588, 'loop': 3589, 'connecting': 3590, 'o’hare': 3591, 'airport': 3592, 'downtown': 3593, 'sunrise': 3594, 'regulate': 3595, 'robotics': 3596, 'food': 3597, 'drugs': 3598, 'aircraft': 3599, 'require': 3600, 'oversight': 3601, 'rid': 3602, 'faa': 3603, 'wdn’t': 3604, 'safer': 3605, 'bot': 3606, 'you’ll': 3607, 'strobe': 3608, 'sweet': 3609, 'dreams…': 3610, 'rockies': 3611, 'radishing': 3612, 'courtesy': 3613, 'australian': 3614, 'authorities': 3615, 'manufactured': 3616, 'h': 3617, 'transform': 3618, 'fight': 3619, 'latte': 3620, 'placed': 3621, 'flowers': 3622, 'ribs': 3623, 'pierced': 3624, 'fought': 3625, 'peace': 3626, 'atatürk': 3627, 'anıtkabir': 3628, 'whiskey': 3629, 's’mores': 3630, 'jc': 3631, 'campfire': 3632, 'godfather': 3633, 'movies': 3634, 'what’s': 3635, 'happen': 3636, 'absolutely': 3637, 'allowed': 3638, 'superintelligence': 3639, 'circle': 3640, 'poem': 3641, 'frost': 3642, 'hats': 3643, 'whoever': 3644, 'neutron': 3645, 'stars': 3646, 'colliding': 3647, 'nk': 3648, 'stamping': 3649, 'ten': 3650, 'communication': 3651, 'miles…': 3652, 'slowed': 3653, '10th': 3654, 'producthunt': 3655, 'crown': 3656, 'chakra': 3657, 'let': 3658, 'magic': 3659, 'add': 3660, 'places': 3661, 'seat': 3662, 'dusk': 3663, 'reusabity': 3664, 'stage…when': 3665, 'drop': 3666, 'pusher': 3667, 'tegmark': 3668, 'let’s': 3669, 'warr': 3670, 'dug': 3671, 'returning': 3672, 'space…': 3673, 'amendment': 3674, 'vigorously': 3675, 'opposed': 3676, 'subpoena': 3677, '500k': 3678, 'lamborghini': 3679, 'works…': 3680, \"friend's\": 3681, 'drank': 3682, 'wine': 3683, 'mason': 3684, 'jar': 3685, 'powerwalls': 3686, '12th': 3687, 'robotic': 3688, 'freighter': 3689, 'dota': 3690, 'concerned': 3691, 'vastly': 3692, 'changemyview': 3693, 'subreddit': 3694, 'clicked': 3695, 'arguments': 3696, 'complaints': 3697, 'complaining': 3698, 'remained': 3699, 'constant': 3700, 'officially': 3701, 'verified': 3702, '1000km': 3703, 'italia': 3704, 'student': 3705, 'poured': 3706, 'insightful': 3707, 'journalists': 3708, 'umm': 3709, 'handover': 3710, 'maiden': 3711, 'november': 3712, \"tim's\": 3713, 'discussing': 3714, 'vargas': 3715, 'electrekco': 3716, 'bets': 3717, 'accordingly': 3718, 'senate': 3719, 'advancing': 3720, 'exploration': 3721, 'settlement': 3722, 'orgs': 3723, 'billion': 3724, 'dollar': 3725, 'subsidy': 3726, 'nuances': 3727, 'n': 3728, 'alaska': 3729, 'japan': 3730, 'paypal': 3731, 'allowing': 3732, 'biting': 3733, 'finger': 3734, 'dammit': 3735, 'reviewed': 3736, 'hear': 3737, 'failure': 3738, 'painful': 3739, 'skeleton': 3740, 'satalino15': 3741, \"didn't\": 3742, 'survive': 3743, 'sped': 3744, 'repositioned': 3745, 'closeup': 3746, 'painted': 3747, 'glow': 3748, 'upgraded': 3749, 'hypersonic': 3750, 'cast': 3751, 'shielding': 3752, '100d': 3753, 'tires': 3754, 'rely': 3755, 'warming': 3756, 'thermometer': 3757, 'dj': 3758, 'htc': 3759, 'schedule': 3760, 'holds': 3761, 'postponing': 3762, 'replace': 3763, 'pneumatic': 3764, 'valve': 3765, 'redundant': 3766, 'chance': 3767, 'promising': 3768, 'conversations': 3769, 'mayorofla': 3770, 'carry': 3771, 'bikes': 3772, 'pedestrians': 3773, 'permits': 3774, 'harder': 3775, 'knew': 3776, 'rescues': 3777, 'bumper': 3778, 'colonizing': 3779, 'hubbard': 3780, 'changes': 3781, 'addresses': 3782, 'fundamental': 3783, 'development': 3784, '300m': 3785, 'margin': 3786, 'robb': 3787, 'chrispaine': 3788, 'indeed': 3789, 'stranger': 3790, 'biseshgrg': 3791, \"they're\": 3792, 'related': 3793, 'closer': 3794, '2040': 3795, '2060': 3796, 'linear': 3797, 'extrapolation': 3798, 'dmv': 3799, 'dude': 3800, 'sloth': 3801, 'zootopia': 3802, 'desk': 3803, 'india': 3804, 'commits': 3805, 'deal': 3806, 'committed': 3807, 'sources': 3808, 'piggyback': 3809, 'rides': 3810, 'opera': 3811, 'sydney': 3812, 'comparing': 3813, 'school': 3814, 'fidget': 3815, 'spinner': 3816, 'squirrels': 3817, 'cloud': 3818, 'o': 3819, 'scott': 3820, 'answers': 3821, 'holes': 3822, 'boned': 3823, 'moonlight': 3824, 'sonata': 3825, \"cousin's\": 3826, 'family': 3827, 'born': 3828, 'africa': 3829, 'grandfather': 3830, 'cause': 3831, 'sickness': 3832, 'seizures': 3833, 'sled…': 3834, 'race': 3835, 'gary': 3836, 'snail': 3837, 'lives': 3838, 'pineapple': 3839, 'boring…': 3840, 'segments': 3841, 'lowered': 3842, 'starter': 3843, 'cutterhead': 3844, 'planning': 3845, 'jack': 3846, 'ten…': 3847, 'length': 3848, 'lax': 3849, 'to…': 3850, 'staging': 3851, 'slo': 3852, 'mo': 3853, 'hail': 3854, 'cannonball': 3855, 'impacting': 3856, 'destination': 3857, 'rereading': 3858, 'favorites': 3859, 'separation': 3860, 'flip': 3861, 'boostback': 3862, 'then…': 3863, 'nro': 3864, 'tough': 3865, 'call': 3866, '98': 3867, 'theoretical': 3868, 'winds': 3869, 'aloft': 3870, 'structural': 3871, 'bounds': 3872, 'worrying': 3873, 'showstopper': 3874, 'ted': 3875, 'gold': 3876, 'coast': 3877, 'amberheard': 3878, 'creepypuppet': 3879, 'cowanfilms': 3880, 'values': 3881, 'fastest': 3882, 'discovered': 3883, 'easter': 3884, 'spared': 3885, 'edits': 3886, 'release': 3887, 'candidate': 3888, 'savings': 3889, 'williamwinters': 3890, 'voltage': 3891, 'transmit': 3892, 'distances': 3893, 'discuss': 3894, 'renewables': 3895, 'arguably': 3896, \"we'll\": 3897, 'express': 3898, 'counting': 3899, 'webcast…': 3900, \"spacex's\": 3901, 'confident': 3902, 'investigating': 3903, 'providing': 3904, 'repair': 3905, 'expedited': 3906, '39': 3907, 'launch…': 3908, 'george': 3909, 'schultz': 3910, 'baker': 3911, 'wsj': 3912, 'p100dl': 3913, 'sets': 3914, '27': 3915, 'walking': 3916, 'street': 3917, 'saw': 3918, '26': 3919, 'd': 3920, \"mit's\": 3921, 'entrant': 3922, 'removed': 3923, 'tube': 3924, 'minecraft': 3925, 'researchers': 3926, 'agree': 3927, 'principles': 3928, 'developing': 3929, 'benefical': 3930, \"people's\": 3931, 'opinions': 3932, 'immigration': 3933, 'specific': 3934, 'amendments': 3935, 'seek': 3936, 'advisory': 3937, 'council': 3938, 'consensus': 3939, 'start': 3940, 'digging': 3941, 'rex': 3942, 'tillerson': 3943, 'supports': 3944, 'needle': 3945, \"x's\": 3946, 'issued': 3947, 'ghost': 3948, 'shell': 3949, 'colossus': 3950, 'forbin': 3951, 'project': 3952, 'liftoff': 3953, 'pensasoda': 3954, 'churchill': 3955, 'quotes': 3956, 'modelxmas': 3957, 'pressing': 3958, 'logo': 3959, 'receives': 3960, 'satisfaction': 3961, 'score': 3962, 'carmaker': 3963, 'forming': 3964, 'nozzle': 3965, 'lived': 3966, 'smashes': 3967, 'trailer': 3968, 'lifts': 3969, 'driver': 3970, 'walks': 3971, 'uncover': 3972, 'writing': 3973, 'skankhunt42': 3974, 'soundtrack': 3975, 'benny': 3976, 'hill': 3977, 'package': 3978, 'shares': 3979, 'glass': 3980, 'baron': 3981, 'hour': 3982, 'institutional': 3983, 'independent': 3984, 'evaluator': 3985, 'recommends': 3986, 'internet': 3987, 'susceptible': 3988, 'gradient': 3989, 'descent': 3990, 'algo': 3991, 'event': 3992, 'dear': 3993, 'cult': 3994, 'members': 3995, 'coincidence': 3996, 'automated': 3997, 'solid': 3998, 'human': 3999, 'thru': 4000, 'urban': 4001, 'highway': 4002, 'parking': 4003, 'spot': 4004, 'demonstrate': 4005, 'driven': 4006, 'cross': 4007, 'obvious': 4008, 'pick': 4009, 'calculated': 4010, 'deceive': 4011, 'florida': 4012, 'voters': 4013, 'uncovered': 4014, 'miami': 4015, 'herald': 4016, 'seconds': 4017, 'mining': 4018, \"'tesla\": 4019, \"fraud'\": 4020, 'translating': 4021, 'debates': 4022, 'rose': 4023, '775': 4024, 'approx': 4025, 'sabotage': 4026, 'unlikely': 4027, 'theories': 4028, 'kerbal': 4029, 'stevebatzer': 4030, 'gooddaym': 4031, 'corrective': 4032, 'letting': 4033, '2060s': 4034, 'gizmodo': 4035, 'tranport': 4036, 'mach': 4037, 'diamonds': 4038, 'forbes': 4039, 'criticized': 4040, 'government': 4041, 'loans': 4042, 'iac2016': 4043, 'exxonmobil': 4044, 'forthcoming': 4045, 'comprehensive': 4046, 'retains': 4047, 'sedans': 4048, 'endangered': 4049, 'strain': 4050, 'fact': 4051, 'resistant': 4052, 'comic': 4053, 'xkcd': 4054, 'op': 4055, 'ed': 4056, 'longstanding': 4057, 'faith': 4058, 'milestone': 4059, 'account': 4060, 'severely': 4061, 'impacted': 4062, 'yukon': 4063, 'correlation': 4064, 'causality': 4065, 'entrance': 4066, 'nomanssky': 4067, 'nested': 4068, 'simulations': 4069, 'cupola': 4070, 'patenting': 4071, 'hamster': 4072, 'libertarian': 4073, 'jb': 4074, 'yamada': 4075, 'premiums': 4076, 'decline': 4077, 'driverless': 4078, 'scientific': 4079, 'org': 4080, 'united': 4081, 'states': 4082, 'congress': 4083, 'npr': 4084, 'completes': 4085, 'historic': 4086, 'prevents': 4087, 'pedestrian': 4088, 'anecdote': 4089, 'logs': 4090, 'master': 4091, 'deux': 4092, 'cores': 4093, 'simultaneous': 4094, 'completed': 4095, 'inspection': 4096, 'rebuttal': 4097, 'calling': 4098, 'disabled': 4099, 'written': 4100, 'eu': 4101, 'regulators': 4102, 'concerns': 4103, 'defcon': 4104, 'roadandtrack': 4105, 'finishes': 4106, 'salesy': 4107, 'pied': 4108, 'piper': 4109, 'seamlessly': 4110, 'peterdiamandis': 4111, 'misunderstanding': 4112, 'beta': 4113, '1b': 4114, 'gandel': 4115, 'shredded': 4116, 'upvoted': 4117, 'funny': 4118, 'koch': 4119, 'lowest': 4120, 'nhtsa': 4121, 'fortune': 4122, 'sponsored': 4123, 'flamingos': 4124, 'eating': 4125, 'fewer': 4126, 'flamingo': 4127, 'salad': 4128, 'samabuelsamid': 4129, 'exclude': 4130, 'occupant': 4131, 'prevented': 4132, 'cyclist': 4133, 'condolences': 4134, 'tragic': 4135, 'loss': 4136, 'son': 4137, 'recently': 4138, 'animal': 4139, 'deluded': 4140, 'deranged': 4141, 'journalistic': 4142, 'thesaurus': 4143, 'flooded': 4144, 'depletion': 4145, 'caused': 4146, 'shutdown': 4147, 'deck': 4148, 'sean': 4149, 'carroll': 4150, 'predicts': 4151, 'civilizations': 4152, 'either': 4153, 'comment': 4154, 'cvk': 4155, 'bbca': 4156, 'fourth': 4157, 'sept': 4158, 'playoverwatch': 4159, 'blizzard': 4160, 'ent': 4161, 'ultrafast': 4162, 'fps': 4163, 'trippy': 4164, 'themotleyfool': 4165, 'explaining': 4166, 'contributed': 4167, 'funding': 4168, 'ban': 4169, '2025': 4170, 'yay': 4171, 'recode': 4172, 'karaswisher': 4173, 'waltmossberg': 4174, 'latimes': 4175, 'katiefehren': 4176, 'replay': 4177, 'motortrend': 4178, 'image': 4179, 'merc': 4180, 'labor': 4181, 'missing': 4182, 'digit': 4183, '55': 4184, 'mercury': 4185, 'premises': 4186, \"three's\": 4187, 'snuggle': 4188, 'thread': 4189, 'trajectory': 4190, 'japanese': 4191, 'jcsat': 4192, 'enroute': 4193, '36': 4194, 'capabilities': 4195, 'resale': 4196, 'sea': 4197, 'meantime': 4198, 'bots': 4199, \"microsoft's\": 4200, 'tay': 4201, 'collision': 4202, 'kinematic': 4203, 'screen': 4204, 'stern': 4205, 'fleet': 4206, 'sketches': 4207, '30pm': 4208, 'cruise': 4209, 'tickets': 4210, 'arctic': 4211, 'believing': 4212, 'badastronomer': 4213, 'plans': 4214, 'deepmind': 4215, 'field': 4216, 'rated': 4217, 'meaningful': 4218, 'stressful': 4219, 'territory': 4220, 'evolution': 4221, \"hasn't\": 4222, 'pushing': 4223, 'friday': 4224, 'hits': 4225, 'sledgehammer': 4226, 'supersonic': 4227, 'reposting': 4228, 'beginning': 4229, 'gen': 4230, 'atlas': 4231, 'wanted': 4232, 'stu': 4233, 'nathanfielder': 4234, 'heavily': 4235, 'credits': 4236, 'unpaid': 4237, 'tastes': 4238, 'job': 4239, 'moonlighting': 4240, 'officer': 4241, 'brazil': 4242, 'lands': 4243, 'lockout': 4244, 'collet': 4245, \"doesn't\": 4246, 'latch': 4247, 'legs': 4248, 'causing': 4249, 'bigger': 4250, 'rud': 4251, 'optimistic': 4252, 'upcoming': 4253, 'vafb': 4254, 'hopefully': 4255, 'velocity': 4256, 'm': 4257, 'forster': 4258, 'helo': 4259, 'standing': 4260, 'inaccurate': 4261, 'formation': 4262, 'sorbonne': 4263, 'unaware': 4264, 'vtol': 4265, 'began': 4266, '2013': 4267, 'jeffbezos': 4268, 'rarest': 4269, 'grasshopper': 4270, 'doors': 4271, 'empowering': 4272, 'rural': 4273, 'communities': 4274, 'affordable': 4275, 'snakebot': 4276, 'autocharger': 4277, 'prototype': 4278, 'hexacopter': 4279, 'atlantic': 4280, 'port': 4281, 'tmrw': 4282, 'save': 4283, 'stray': 4284, 'refuge': 4285, \"night's\": 4286, 'unveiling': 4287, 'rather': 4288, 'tall': 4289, 'tippy': 4290, 'stable': 4291, 'proper': 4292, 'throttle': 4293, 'resolution': 4294, 'color': 4295, 'corrected': 4296, 'slow': 4297, 'shots': 4298, 'construction': 4299, 'civilian': 4300, 'applications': 4301, 'passing': 4302, 'bunch': 4303, 'suvs': 4304, 'dragtimes': 4305, 'experiencing': 4306, 'acceleration': 4307, 'betw': 4308, 'suggested': 4309, 'markusvonroder': 4310, 'whitehouse': 4311, 'petition': 4312, 'allow': 4313, '“': 4314, 'ernex': 4315, 'hah': 4316, 'extinguisher': 4317, 'signature': 4318, 'wsbchairman': 4319, '–': 4320, 'miro': 4321, 'andyweedman': 4322, 'dirtytesla': 4323}\n",
            "total words: 4324\n"
          ]
        }
      ],
      "source": [
        "tokenizer = Tokenizer()\n",
        "\n",
        "tokenizer.fit_on_texts(corpus)\n",
        "\n",
        "total_words = len(tokenizer.word_index) + 1\n",
        "\n",
        "print(f'word index dictionary: {tokenizer.word_index}')\n",
        "print(f'total words: {total_words}')"
      ]
    },
    {
      "cell_type": "code",
      "execution_count": 32,
      "metadata": {
        "id": "hb30LIWe2cBv"
      },
      "outputs": [],
      "source": [
        "input_sequences = []\n",
        "\n",
        "for line in samples:\n",
        "\n",
        "\ttoken_list = tokenizer.texts_to_sequences([line])[0]\n",
        "\n",
        "\tfor i in range(1, len(token_list)):\n",
        "\t\tn_gram_sequence = token_list[:i+1]\n",
        "\t\tinput_sequences.append(n_gram_sequence)\n",
        "\n",
        "max_sequence_len = max([len(x) for x in input_sequences])\n",
        "\n",
        "input_sequences = np.array(pad_sequences(input_sequences, maxlen=max_sequence_len, padding='pre'))\n",
        "\n",
        "xs, labels = input_sequences[:,:-1],input_sequences[:,-1]\n",
        "\n",
        "ys = tf.keras.utils.to_categorical(labels, num_classes=total_words)"
      ]
    },
    {
      "cell_type": "code",
      "execution_count": 33,
      "metadata": {
        "colab": {
          "base_uri": "https://localhost:8080/"
        },
        "id": "GBZ5LSKD2mcR",
        "outputId": "089639f6-3063-42a7-fb04-a6b47c084018"
      },
      "outputs": [
        {
          "output_type": "stream",
          "name": "stdout",
          "text": [
            "blimps rock  \n",
            "[1651, 696]\n"
          ]
        }
      ],
      "source": [
        "print(corpus[0])\n",
        "token_list = []\n",
        "for word in corpus[0].split(): \n",
        "  token_list.append(tokenizer.word_index[word])\n",
        "print(token_list)"
      ]
    },
    {
      "cell_type": "code",
      "execution_count": 34,
      "metadata": {
        "colab": {
          "base_uri": "https://localhost:8080/"
        },
        "id": "IL_erKU62tPq",
        "outputId": "9a9612fe-c843-432a-b11a-8eca820fd22d"
      },
      "outputs": [
        {
          "output_type": "stream",
          "name": "stdout",
          "text": [
            "Model: \"sequential\"\n",
            "_________________________________________________________________\n",
            " Layer (type)                Output Shape              Param #   \n",
            "=================================================================\n",
            " embedding (Embedding)       (None, 53, 100)           432400    \n",
            "                                                                 \n",
            " bidirectional (Bidirectiona  (None, 600)              962400    \n",
            " l)                                                              \n",
            "                                                                 \n",
            " dense_2 (Dense)             (None, 4324)              2598724   \n",
            "                                                                 \n",
            "=================================================================\n",
            "Total params: 3,993,524\n",
            "Trainable params: 3,993,524\n",
            "Non-trainable params: 0\n",
            "_________________________________________________________________\n"
          ]
        }
      ],
      "source": [
        "embedding_dim = 100\n",
        "lstm_units = 300\n",
        "learning_rate = 0.01\n",
        "\n",
        "model = Sequential([\n",
        "          Embedding(total_words, embedding_dim, input_length=max_sequence_len-1),\n",
        "          Bidirectional(LSTM(lstm_units)),\n",
        "          Dense(total_words, activation='softmax')\n",
        "])\n",
        "\n",
        "model.compile(\n",
        "    loss='categorical_crossentropy', \n",
        "    optimizer=tf.keras.optimizers.Adam(learning_rate=learning_rate), \n",
        "    metrics=['accuracy']\n",
        "    )\n",
        "\n",
        "model.summary()"
      ]
    },
    {
      "cell_type": "code",
      "source": [
        "# EaelyStoppingの設定\n",
        "early_stopping =  EarlyStopping(\n",
        "                            monitor='val_loss',\n",
        "                            min_delta=0.0,\n",
        "                            patience=2,\n",
        ")"
      ],
      "metadata": {
        "id": "IcULIcYwfMsp"
      },
      "execution_count": 38,
      "outputs": []
    },
    {
      "cell_type": "code",
      "execution_count": null,
      "metadata": {
        "id": "KISweBxd7aPs"
      },
      "outputs": [],
      "source": [
        "epochs = 1000\n",
        "history = model.fit(xs, ys, epochs=epochs, callbacks=[early_stopping])"
      ]
    },
    {
      "cell_type": "code",
      "execution_count": null,
      "metadata": {
        "id": "Bv8WTamXfaDr"
      },
      "outputs": [],
      "source": [
        "#model.save_weights('./checkpoints2/trained_weights')"
      ]
    },
    {
      "cell_type": "code",
      "execution_count": null,
      "metadata": {
        "id": "lw-zXeocA7B8",
        "colab": {
          "base_uri": "https://localhost:8080/",
          "height": 56
        },
        "outputId": "49633cf1-6bbd-4a38-e62a-43530153cbe1"
      },
      "outputs": [
        {
          "output_type": "stream",
          "name": "stdout",
          "text": [
            "Mounted at /content/drive\n"
          ]
        },
        {
          "output_type": "execute_result",
          "data": {
            "text/plain": [
              "'./checkpoints2'"
            ],
            "application/vnd.google.colaboratory.intrinsic+json": {
              "type": "string"
            }
          },
          "metadata": {},
          "execution_count": 15
        }
      ],
      "source": [
        "from google.colab import drive\n",
        "import shutil\n",
        "drive.mount('/content/drive')\n",
        "shutil.copytree(\"/content/drive/MyDrive/twitter_weights\", \"./checkpoints2\")"
      ]
    },
    {
      "cell_type": "code",
      "execution_count": null,
      "metadata": {
        "id": "cRygxebMf_hG",
        "colab": {
          "base_uri": "https://localhost:8080/"
        },
        "outputId": "dd6f1003-87fc-470a-e3b1-1cbed91b8fc8"
      },
      "outputs": [
        {
          "output_type": "execute_result",
          "data": {
            "text/plain": [
              "<tensorflow.python.training.tracking.util.CheckpointLoadStatus at 0x7efeeb419a50>"
            ]
          },
          "metadata": {},
          "execution_count": 16
        }
      ],
      "source": [
        "model.load_weights('./checkpoints2/trained_weights')"
      ]
    },
    {
      "cell_type": "code",
      "execution_count": 40,
      "metadata": {
        "id": "GA9lr8yH7cf9",
        "colab": {
          "base_uri": "https://localhost:8080/",
          "height": 449
        },
        "outputId": "fa98d310-275c-452b-a9fc-e394eb2f3d05"
      },
      "outputs": [
        {
          "output_type": "display_data",
          "data": {
            "text/plain": [
              "<Figure size 640x480 with 1 Axes>"
            ],
            "image/png": "[encoded data removed]"
          },
          "metadata": {}
        }
      ],
      "source": [
        "import matplotlib.pyplot as plt\n",
        "\n",
        "def plot_graphs(history, string):\n",
        "  plt.plot(history.history[string])\n",
        "  plt.xlabel(\"Epochs\")\n",
        "  plt.ylabel(string)\n",
        "  plt.show()\n",
        "\n",
        "plot_graphs(history, 'accuracy')"
      ]
    },
    {
      "cell_type": "code",
      "execution_count": 41,
      "metadata": {
        "id": "IK8zm3i57mQY",
        "colab": {
          "base_uri": "https://localhost:8080/"
        },
        "outputId": "10392bd5-5cf5-41d5-bdb8-f947b0ff65c5"
      },
      "outputs": [
        {
          "output_type": "stream",
          "name": "stdout",
          "text": [
            "1/1 [==============================] - 1s 629ms/step\n",
            "1/1 [==============================] - 0s 19ms/step\n",
            "1/1 [==============================] - 0s 20ms/step\n",
            "tesla is the semi the future\n"
          ]
        }
      ],
      "source": [
        "seed_text = \"tesla is the\"\n",
        "\n",
        "next_words = 3\n",
        "\n",
        "for _ in range(next_words):\n",
        "\n",
        "  token_list = tokenizer.texts_to_sequences([seed_text])[0]\n",
        "\n",
        "  token_list = pad_sequences([token_list], maxlen=max_sequence_len-1, padding='pre')\n",
        "\t\n",
        "  probabilities = model.predict(token_list)\n",
        "\n",
        "  choice = np.random.choice([1,2,3,4])\n",
        "\t\n",
        "  predicted = np.argsort(probabilities)[0][-choice]\n",
        "\n",
        "  if predicted != 0:\n",
        "\t  output_word = tokenizer.index_word[predicted]\n",
        "\t  seed_text += \" \" + output_word\n",
        "\n",
        "print(seed_text)"
      ]
    },
    {
      "cell_type": "markdown",
      "source": [
        "## Section2. MalConvの利用\n",
        "MalConv アーキテクチャは、シンプルですが計算速度が速いです。  \n",
        "サンプルデータとそのラベルをリスト化して、ファイルのバイトを読み取る関数を定義します。  \n",
        "ファイルをバイト シーケンスとして読み取るために、r の代わりに rb 設定に注意してください。\n",
        "tqdm を使用してループの進行状況を可視化します。ファイルごとに、バイト シーケンスを読み取り、各バイトを 8 次元空間に埋め込みます。\n",
        "これらすべてのサンプルデータを変数 X に格納します。  \n",
        "バイト数が maxSize=15000 を超える場合は、停止します。  \n",
        "バイト数が maxSize より小さい場合、バイトは 0 であるとみなされます。  \n",
        "ファイルごとに読み取るバイト数を制御する maxSize パラメーターは、メモリ容量、利用可能な計算量、サンプルのサイズに応じて調整できます。  \n",
        "標準的なオプティマイザ、つまりパラメータを選択した確率的勾配降下法を定義し、MalConv のアーキテクチャと厳密に一致するニューラル ネットワークのアーキテクチャを定義します。"
      ],
      "metadata": {
        "id": "2Z7MwG3g-V_q"
      }
    },
    {
      "cell_type": "code",
      "source": [
        "!wget https://github.com/PacktPublishing/Machine-Learning-for-Cybersecurity-Cookbook/raw/master/PE%20Samples%20Dataset/Benign%20PE%20Samples%201.7z\n",
        "!wget https://github.com/PacktPublishing/Machine-Learning-for-Cybersecurity-Cookbook/raw/master/PE%20Samples%20Dataset/Benign%20PE%20Samples%202.7z\n",
        "!wget https://github.com/PacktPublishing/Machine-Learning-for-Cybersecurity-Cookbook/raw/master/PE%20Samples%20Dataset/Benign%20PE%20Samples%203.7z\n",
        "!wget https://github.com/PacktPublishing/Machine-Learning-for-Cybersecurity-Cookbook/raw/master/PE%20Samples%20Dataset/Benign%20PE%20Samples%204.7z\n",
        "!wget https://github.com/PacktPublishing/Machine-Learning-for-Cybersecurity-Cookbook/raw/master/PE%20Samples%20Dataset/Benign%20PE%20Samples%205.7z\n",
        "!wget https://github.com/PacktPublishing/Machine-Learning-for-Cybersecurity-Cookbook/raw/master/PE%20Samples%20Dataset/Benign%20PE%20Samples%206.7z\n",
        "!wget https://github.com/PacktPublishing/Machine-Learning-for-Cybersecurity-Cookbook/raw/master/PE%20Samples%20Dataset/Malicious%20PE%20Samples%201.7z\n",
        "!wget https://github.com/PacktPublishing/Machine-Learning-for-Cybersecurity-Cookbook/raw/master/PE%20Samples%20Dataset/Malicious%20PE%20Samples%202.7z"
      ],
      "metadata": {
        "colab": {
          "base_uri": "https://localhost:8080/"
        },
        "id": "4ucXkWyJYHpB",
        "outputId": "fbeeeb2a-20e0-40bd-c3fd-18652ae30b37"
      },
      "execution_count": 1,
      "outputs": [
        {
          "output_type": "stream",
          "name": "stdout",
          "text": [
            "--2023-05-26 23:39:55--  https://github.com/PacktPublishing/Machine-Learning-for-Cybersecurity-Cookbook/raw/master/PE%20Samples%20Dataset/Benign%20PE%20Samples%201.7z\n",
            "Resolving github.com (github.com)... 20.205.243.166\n",
            "Connecting to github.com (github.com)|20.205.243.166|:443... connected.\n",
            "HTTP request sent, awaiting response... 302 Found\n",
            "Location: https://raw.githubusercontent.com/PacktPublishing/Machine-Learning-for-Cybersecurity-Cookbook/master/PE%20Samples%20Dataset/Benign%20PE%20Samples%201.7z [following]\n",
            "--2023-05-26 23:39:55--  https://raw.githubusercontent.com/PacktPublishing/Machine-Learning-for-Cybersecurity-Cookbook/master/PE%20Samples%20Dataset/Benign%20PE%20Samples%201.7z\n",
            "Resolving raw.githubusercontent.com (raw.githubusercontent.com)... 185.199.108.133, 185.199.109.133, 185.199.110.133, ...\n",
            "Connecting to raw.githubusercontent.com (raw.githubusercontent.com)|185.199.108.133|:443... connected.\n",
            "HTTP request sent, awaiting response... 200 OK\n",
            "Length: 7042718 (6.7M) [application/octet-stream]\n",
            "Saving to: ‘Benign PE Samples 1.7z’\n",
            "\n",
            "Benign PE Samples 1 100%[===================>]   6.72M  --.-KB/s    in 0.02s   \n",
            "\n",
            "2023-05-26 23:39:56 (308 MB/s) - ‘Benign PE Samples 1.7z’ saved [7042718/7042718]\n",
            "\n",
            "--2023-05-26 23:39:56--  https://github.com/PacktPublishing/Machine-Learning-for-Cybersecurity-Cookbook/raw/master/PE%20Samples%20Dataset/Benign%20PE%20Samples%202.7z\n",
            "Resolving github.com (github.com)... 20.205.243.166\n",
            "Connecting to github.com (github.com)|20.205.243.166|:443... connected.\n",
            "HTTP request sent, awaiting response... 302 Found\n",
            "Location: https://raw.githubusercontent.com/PacktPublishing/Machine-Learning-for-Cybersecurity-Cookbook/master/PE%20Samples%20Dataset/Benign%20PE%20Samples%202.7z [following]\n",
            "--2023-05-26 23:39:56--  https://raw.githubusercontent.com/PacktPublishing/Machine-Learning-for-Cybersecurity-Cookbook/master/PE%20Samples%20Dataset/Benign%20PE%20Samples%202.7z\n",
            "Resolving raw.githubusercontent.com (raw.githubusercontent.com)... 185.199.108.133, 185.199.109.133, 185.199.110.133, ...\n",
            "Connecting to raw.githubusercontent.com (raw.githubusercontent.com)|185.199.108.133|:443... connected.\n",
            "HTTP request sent, awaiting response... 200 OK\n",
            "Length: 5759122 (5.5M) [application/octet-stream]\n",
            "Saving to: ‘Benign PE Samples 2.7z’\n",
            "\n",
            "Benign PE Samples 2 100%[===================>]   5.49M  --.-KB/s    in 0.02s   \n",
            "\n",
            "2023-05-26 23:39:57 (279 MB/s) - ‘Benign PE Samples 2.7z’ saved [5759122/5759122]\n",
            "\n",
            "--2023-05-26 23:39:57--  https://github.com/PacktPublishing/Machine-Learning-for-Cybersecurity-Cookbook/raw/master/PE%20Samples%20Dataset/Benign%20PE%20Samples%203.7z\n",
            "Resolving github.com (github.com)... 20.205.243.166\n",
            "Connecting to github.com (github.com)|20.205.243.166|:443... connected.\n",
            "HTTP request sent, awaiting response... 302 Found\n",
            "Location: https://raw.githubusercontent.com/PacktPublishing/Machine-Learning-for-Cybersecurity-Cookbook/master/PE%20Samples%20Dataset/Benign%20PE%20Samples%203.7z [following]\n",
            "--2023-05-26 23:39:57--  https://raw.githubusercontent.com/PacktPublishing/Machine-Learning-for-Cybersecurity-Cookbook/master/PE%20Samples%20Dataset/Benign%20PE%20Samples%203.7z\n",
            "Resolving raw.githubusercontent.com (raw.githubusercontent.com)... 185.199.108.133, 185.199.109.133, 185.199.110.133, ...\n",
            "Connecting to raw.githubusercontent.com (raw.githubusercontent.com)|185.199.108.133|:443... connected.\n",
            "HTTP request sent, awaiting response... 200 OK\n",
            "Length: 6295109 (6.0M) [application/octet-stream]\n",
            "Saving to: ‘Benign PE Samples 3.7z’\n",
            "\n",
            "Benign PE Samples 3 100%[===================>]   6.00M  --.-KB/s    in 0.02s   \n",
            "\n",
            "2023-05-26 23:39:58 (385 MB/s) - ‘Benign PE Samples 3.7z’ saved [6295109/6295109]\n",
            "\n",
            "--2023-05-26 23:39:58--  https://github.com/PacktPublishing/Machine-Learning-for-Cybersecurity-Cookbook/raw/master/PE%20Samples%20Dataset/Benign%20PE%20Samples%204.7z\n",
            "Resolving github.com (github.com)... 20.205.243.166\n",
            "Connecting to github.com (github.com)|20.205.243.166|:443... connected.\n",
            "HTTP request sent, awaiting response... 302 Found\n",
            "Location: https://raw.githubusercontent.com/PacktPublishing/Machine-Learning-for-Cybersecurity-Cookbook/master/PE%20Samples%20Dataset/Benign%20PE%20Samples%204.7z [following]\n",
            "--2023-05-26 23:39:59--  https://raw.githubusercontent.com/PacktPublishing/Machine-Learning-for-Cybersecurity-Cookbook/master/PE%20Samples%20Dataset/Benign%20PE%20Samples%204.7z\n",
            "Resolving raw.githubusercontent.com (raw.githubusercontent.com)... 185.199.108.133, 185.199.109.133, 185.199.110.133, ...\n",
            "Connecting to raw.githubusercontent.com (raw.githubusercontent.com)|185.199.108.133|:443... connected.\n",
            "HTTP request sent, awaiting response... 200 OK\n",
            "Length: 3782229 (3.6M) [application/octet-stream]\n",
            "Saving to: ‘Benign PE Samples 4.7z’\n",
            "\n",
            "Benign PE Samples 4 100%[===================>]   3.61M  --.-KB/s    in 0.02s   \n",
            "\n",
            "2023-05-26 23:39:59 (213 MB/s) - ‘Benign PE Samples 4.7z’ saved [3782229/3782229]\n",
            "\n",
            "--2023-05-26 23:39:59--  https://github.com/PacktPublishing/Machine-Learning-for-Cybersecurity-Cookbook/raw/master/PE%20Samples%20Dataset/Benign%20PE%20Samples%205.7z\n",
            "Resolving github.com (github.com)... 20.205.243.166\n",
            "Connecting to github.com (github.com)|20.205.243.166|:443... connected.\n",
            "HTTP request sent, awaiting response... 302 Found\n",
            "Location: https://raw.githubusercontent.com/PacktPublishing/Machine-Learning-for-Cybersecurity-Cookbook/master/PE%20Samples%20Dataset/Benign%20PE%20Samples%205.7z [following]\n",
            "--2023-05-26 23:40:00--  https://raw.githubusercontent.com/PacktPublishing/Machine-Learning-for-Cybersecurity-Cookbook/master/PE%20Samples%20Dataset/Benign%20PE%20Samples%205.7z\n",
            "Resolving raw.githubusercontent.com (raw.githubusercontent.com)... 185.199.108.133, 185.199.109.133, 185.199.110.133, ...\n",
            "Connecting to raw.githubusercontent.com (raw.githubusercontent.com)|185.199.108.133|:443... connected.\n",
            "HTTP request sent, awaiting response... 200 OK\n",
            "Length: 3144984 (3.0M) [application/octet-stream]\n",
            "Saving to: ‘Benign PE Samples 5.7z’\n",
            "\n",
            "Benign PE Samples 5 100%[===================>]   3.00M  --.-KB/s    in 0.01s   \n",
            "\n",
            "2023-05-26 23:40:00 (204 MB/s) - ‘Benign PE Samples 5.7z’ saved [3144984/3144984]\n",
            "\n",
            "--2023-05-26 23:40:00--  https://github.com/PacktPublishing/Machine-Learning-for-Cybersecurity-Cookbook/raw/master/PE%20Samples%20Dataset/Benign%20PE%20Samples%206.7z\n",
            "Resolving github.com (github.com)... 20.205.243.166\n",
            "Connecting to github.com (github.com)|20.205.243.166|:443... connected.\n",
            "HTTP request sent, awaiting response... 302 Found\n",
            "Location: https://raw.githubusercontent.com/PacktPublishing/Machine-Learning-for-Cybersecurity-Cookbook/master/PE%20Samples%20Dataset/Benign%20PE%20Samples%206.7z [following]\n",
            "--2023-05-26 23:40:01--  https://raw.githubusercontent.com/PacktPublishing/Machine-Learning-for-Cybersecurity-Cookbook/master/PE%20Samples%20Dataset/Benign%20PE%20Samples%206.7z\n",
            "Resolving raw.githubusercontent.com (raw.githubusercontent.com)... 185.199.108.133, 185.199.109.133, 185.199.110.133, ...\n",
            "Connecting to raw.githubusercontent.com (raw.githubusercontent.com)|185.199.108.133|:443... connected.\n",
            "HTTP request sent, awaiting response... 200 OK\n",
            "Length: 4802968 (4.6M) [application/octet-stream]\n",
            "Saving to: ‘Benign PE Samples 6.7z’\n",
            "\n",
            "Benign PE Samples 6 100%[===================>]   4.58M  --.-KB/s    in 0.05s   \n",
            "\n",
            "2023-05-26 23:40:02 (92.1 MB/s) - ‘Benign PE Samples 6.7z’ saved [4802968/4802968]\n",
            "\n",
            "--2023-05-26 23:40:02--  https://github.com/PacktPublishing/Machine-Learning-for-Cybersecurity-Cookbook/raw/master/PE%20Samples%20Dataset/Malicious%20PE%20Samples%201.7z\n",
            "Resolving github.com (github.com)... 20.205.243.166\n",
            "Connecting to github.com (github.com)|20.205.243.166|:443... connected.\n",
            "HTTP request sent, awaiting response... 302 Found\n",
            "Location: https://raw.githubusercontent.com/PacktPublishing/Machine-Learning-for-Cybersecurity-Cookbook/master/PE%20Samples%20Dataset/Malicious%20PE%20Samples%201.7z [following]\n",
            "--2023-05-26 23:40:02--  https://raw.githubusercontent.com/PacktPublishing/Machine-Learning-for-Cybersecurity-Cookbook/master/PE%20Samples%20Dataset/Malicious%20PE%20Samples%201.7z\n",
            "Resolving raw.githubusercontent.com (raw.githubusercontent.com)... 185.199.110.133, 185.199.109.133, 185.199.111.133, ...\n",
            "Connecting to raw.githubusercontent.com (raw.githubusercontent.com)|185.199.110.133|:443... connected.\n",
            "HTTP request sent, awaiting response... 200 OK\n",
            "Length: 23934383 (23M) [application/octet-stream]\n",
            "Saving to: ‘Malicious PE Samples 1.7z’\n",
            "\n",
            "Malicious PE Sample 100%[===================>]  22.83M  --.-KB/s    in 0.1s    \n",
            "\n",
            "2023-05-26 23:40:04 (195 MB/s) - ‘Malicious PE Samples 1.7z’ saved [23934383/23934383]\n",
            "\n",
            "--2023-05-26 23:40:04--  https://github.com/PacktPublishing/Machine-Learning-for-Cybersecurity-Cookbook/raw/master/PE%20Samples%20Dataset/Malicious%20PE%20Samples%202.7z\n",
            "Resolving github.com (github.com)... 20.205.243.166\n",
            "Connecting to github.com (github.com)|20.205.243.166|:443... connected.\n",
            "HTTP request sent, awaiting response... 302 Found\n",
            "Location: https://raw.githubusercontent.com/PacktPublishing/Machine-Learning-for-Cybersecurity-Cookbook/master/PE%20Samples%20Dataset/Malicious%20PE%20Samples%202.7z [following]\n",
            "--2023-05-26 23:40:04--  https://raw.githubusercontent.com/PacktPublishing/Machine-Learning-for-Cybersecurity-Cookbook/master/PE%20Samples%20Dataset/Malicious%20PE%20Samples%202.7z\n",
            "Resolving raw.githubusercontent.com (raw.githubusercontent.com)... 185.199.110.133, 185.199.109.133, 185.199.111.133, ...\n",
            "Connecting to raw.githubusercontent.com (raw.githubusercontent.com)|185.199.110.133|:443... connected.\n",
            "HTTP request sent, awaiting response... 200 OK\n",
            "Length: 11392107 (11M) [application/octet-stream]\n",
            "Saving to: ‘Malicious PE Samples 2.7z’\n",
            "\n",
            "Malicious PE Sample 100%[===================>]  10.86M  --.-KB/s    in 0.04s   \n",
            "\n",
            "2023-05-26 23:40:05 (282 MB/s) - ‘Malicious PE Samples 2.7z’ saved [11392107/11392107]\n",
            "\n"
          ]
        }
      ]
    },
    {
      "cell_type": "code",
      "source": [
        "!dir"
      ],
      "metadata": {
        "colab": {
          "base_uri": "https://localhost:8080/"
        },
        "id": "SpGZkHhsburA",
        "outputId": "ecac0f58-69a1-4d46-a67b-7506effcf9b8"
      },
      "execution_count": 2,
      "outputs": [
        {
          "output_type": "stream",
          "name": "stdout",
          "text": [
            "Benign\\ PE\\ Samples\\ 1.7z  Benign\\ PE\\ Samples\\ 6.7z\n",
            "Benign\\ PE\\ Samples\\ 2.7z  Malicious\\ PE\\ Samples\\ 1.7z\n",
            "Benign\\ PE\\ Samples\\ 3.7z  Malicious\\ PE\\ Samples\\ 2.7z\n",
            "Benign\\ PE\\ Samples\\ 4.7z  sample_data\n",
            "Benign\\ PE\\ Samples\\ 5.7z\n"
          ]
        }
      ]
    },
    {
      "cell_type": "code",
      "source": [
        "!apt install p7zip-full p7zip-rar -y "
      ],
      "metadata": {
        "colab": {
          "base_uri": "https://localhost:8080/"
        },
        "id": "WlRkSDGsb1OD",
        "outputId": "aa60811b-38a3-4ac0-8747-f873176f0f66"
      },
      "execution_count": 3,
      "outputs": [
        {
          "output_type": "stream",
          "name": "stdout",
          "text": [
            "Reading package lists... Done\n",
            "Building dependency tree       \n",
            "Reading state information... Done\n",
            "p7zip-full is already the newest version (16.02+dfsg-7build1).\n",
            "The following NEW packages will be installed:\n",
            "  p7zip-rar\n",
            "0 upgraded, 1 newly installed, 0 to remove and 34 not upgraded.\n",
            "Need to get 44.8 kB of archives.\n",
            "After this operation, 118 kB of additional disk space will be used.\n",
            "Get:1 http://archive.ubuntu.com/ubuntu focal/multiverse amd64 p7zip-rar amd64 16.02-3build1 [44.8 kB]\n",
            "Fetched 44.8 kB in 1s (47.1 kB/s)\n",
            "Selecting previously unselected package p7zip-rar.\n",
            "(Reading database ... 122545 files and directories currently installed.)\n",
            "Preparing to unpack .../p7zip-rar_16.02-3build1_amd64.deb ...\n",
            "Unpacking p7zip-rar (16.02-3build1) ...\n",
            "Setting up p7zip-rar (16.02-3build1) ...\n"
          ]
        }
      ]
    },
    {
      "cell_type": "code",
      "source": [
        "!mkdir Benign_PE_samples\n",
        "!mkdir Malicious_PE_samples"
      ],
      "metadata": {
        "id": "1htTHRNyb5lo"
      },
      "execution_count": 4,
      "outputs": []
    },
    {
      "cell_type": "code",
      "source": [
        "%cd Benign_PE_samples/"
      ],
      "metadata": {
        "colab": {
          "base_uri": "https://localhost:8080/"
        },
        "id": "0e-EA-w0b8-r",
        "outputId": "df1033ff-55ab-446d-fd3e-6690bcaec9c0"
      },
      "execution_count": 5,
      "outputs": [
        {
          "output_type": "stream",
          "name": "stdout",
          "text": [
            "/content/Benign_PE_samples\n"
          ]
        }
      ]
    },
    {
      "cell_type": "code",
      "source": [
        "for i in range(1,7):\n",
        "  !7z e -y ../Benign\\ PE\\ Samples\\ {i}.7z "
      ],
      "metadata": {
        "colab": {
          "base_uri": "https://localhost:8080/"
        },
        "id": "K7_vFin-b_W8",
        "outputId": "8c5db0b1-842f-433a-f0f5-f58f391fe637"
      },
      "execution_count": 6,
      "outputs": [
        {
          "output_type": "stream",
          "name": "stdout",
          "text": [
            "\n",
            "7-Zip [64] 16.02 : Copyright (c) 1999-2016 Igor Pavlov : 2016-05-21\n",
            "p7zip Version 16.02 (locale=en_US.UTF-8,Utf16=on,HugeFiles=on,64 bits,2 CPUs Intel(R) Xeon(R) CPU @ 2.00GHz (50653),ASM,AES-NI)\n",
            "\n",
            "Scanning the drive for archives:\n",
            "  0M Scan ../\b\b\b\b\b\b\b\b\b\b\b\b\b             \b\b\b\b\b\b\b\b\b\b\b\b\b1 file, 7042718 bytes (6878 KiB)\n",
            "\n",
            "Extracting archive: ../Benign PE Samples 1.7z\n",
            "--\n",
            "Path = ../Benign PE Samples 1.7z\n",
            "Type = 7z\n",
            "Physical Size = 7042718\n",
            "Headers Size = 1938\n",
            "Method = LZMA2:24 BCJ\n",
            "Solid = +\n",
            "Blocks = 1\n",
            "\n",
            "  0%\b\b\b\b    \b\b\b\b 44% 7 - Benign PE Samples 1/HxTsr.exe\b\b\b\b\b\b\b\b\b\b\b\b\b\b\b\b\b\b\b\b\b\b\b\b\b\b\b\b\b\b\b\b\b\b\b\b\b\b                                      \b\b\b\b\b\b\b\b\b\b\b\b\b\b\b\b\b\b\b\b\b\b\b\b\b\b\b\b\b\b\b\b\b\b\b\b\b\b 76% 60 - Benign PE Samples 1/LaunchTM.exe\b\b\b\b\b\b\b\b\b\b\b\b\b\b\b\b\b\b\b\b\b\b\b\b\b\b\b\b\b\b\b\b\b\b\b\b\b\b\b\b\b\b                                          \b\b\b\b\b\b\b\b\b\b\b\b\b\b\b\b\b\b\b\b\b\b\b\b\b\b\b\b\b\b\b\b\b\b\b\b\b\b\b\b\b\bEverything is Ok\n",
            "\n",
            "Folders: 1\n",
            "Files: 89\n",
            "Size:       29243102\n",
            "Compressed: 7042718\n",
            "\n",
            "7-Zip [64] 16.02 : Copyright (c) 1999-2016 Igor Pavlov : 2016-05-21\n",
            "p7zip Version 16.02 (locale=en_US.UTF-8,Utf16=on,HugeFiles=on,64 bits,2 CPUs Intel(R) Xeon(R) CPU @ 2.00GHz (50653),ASM,AES-NI)\n",
            "\n",
            "Scanning the drive for archives:\n",
            "  0M Scan ../\b\b\b\b\b\b\b\b\b\b\b\b\b             \b\b\b\b\b\b\b\b\b\b\b\b\b1 file, 5759122 bytes (5625 KiB)\n",
            "\n",
            "Extracting archive: ../Benign PE Samples 2.7z\n",
            "--\n",
            "Path = ../Benign PE Samples 2.7z\n",
            "Type = 7z\n",
            "Physical Size = 5759122\n",
            "Headers Size = 2005\n",
            "Method = LZMA2:24 BCJ\n",
            "Solid = +\n",
            "Blocks = 1\n",
            "\n",
            "  0%\b\b\b\b    \b\b\b\b 45% 45 - Benign PE Samples 2/csc.exe\b\b\b\b\b\b\b\b\b\b\b\b\b\b\b\b\b\b\b\b\b\b\b\b\b\b\b\b\b\b\b\b\b\b\b\b\b                                     \b\b\b\b\b\b\b\b\b\b\b\b\b\b\b\b\b\b\b\b\b\b\b\b\b\b\b\b\b\b\b\b\b\b\b\b\b 94% 85 - Benign PE Samples 2/djoin.exe\b\b\b\b\b\b\b\b\b\b\b\b\b\b\b\b\b\b\b\b\b\b\b\b\b\b\b\b\b\b\b\b\b\b\b\b\b\b\b                                       \b\b\b\b\b\b\b\b\b\b\b\b\b\b\b\b\b\b\b\b\b\b\b\b\b\b\b\b\b\b\b\b\b\b\b\b\b\b\bEverything is Ok\n",
            "\n",
            "Folders: 1\n",
            "Files: 97\n",
            "Size:       17177931\n",
            "Compressed: 5759122\n",
            "\n",
            "7-Zip [64] 16.02 : Copyright (c) 1999-2016 Igor Pavlov : 2016-05-21\n",
            "p7zip Version 16.02 (locale=en_US.UTF-8,Utf16=on,HugeFiles=on,64 bits,2 CPUs Intel(R) Xeon(R) CPU @ 2.00GHz (50653),ASM,AES-NI)\n",
            "\n",
            "Scanning the drive for archives:\n",
            "  0M Scan ../\b\b\b\b\b\b\b\b\b\b\b\b\b             \b\b\b\b\b\b\b\b\b\b\b\b\b1 file, 6295109 bytes (6148 KiB)\n",
            "\n",
            "Extracting archive: ../Benign PE Samples 3.7z\n",
            "--\n",
            "Path = ../Benign PE Samples 3.7z\n",
            "Type = 7z\n",
            "Physical Size = 6295109\n",
            "Headers Size = 1224\n",
            "Method = LZMA2:24 BCJ\n",
            "Solid = +\n",
            "Blocks = 1\n",
            "\n",
            "  0%\b\b\b\b    \b\b\b\b 34% 13 - Benign PE Samples 3/FlashUtil_ActiveX.exe\b\b\b\b\b\b\b\b\b\b\b\b\b\b\b\b\b\b\b\b\b\b\b\b\b\b\b\b\b\b\b\b\b\b\b\b\b\b\b\b\b\b\b\b\b\b\b\b\b\b\b                                                   \b\b\b\b\b\b\b\b\b\b\b\b\b\b\b\b\b\b\b\b\b\b\b\b\b\b\b\b\b\b\b\b\b\b\b\b\b\b\b\b\b\b\b\b\b\b\b\b\b\b\b 67% 31 - Benign PE Samples 3/GameBar.exe\b\b\b\b\b\b\b\b\b\b\b\b\b\b\b\b\b\b\b\b\b\b\b\b\b\b\b\b\b\b\b\b\b\b\b\b\b\b\b\b\b                                         \b\b\b\b\b\b\b\b\b\b\b\b\b\b\b\b\b\b\b\b\b\b\b\b\b\b\b\b\b\b\b\b\b\b\b\b\b\b\b\b\b 97% 49 - Benign PE Samples 3/hvix64.exe\b\b\b\b\b\b\b\b\b\b\b\b\b\b\b\b\b\b\b\b\b\b\b\b\b\b\b\b\b\b\b\b\b\b\b\b\b\b\b\b                                        \b\b\b\b\b\b\b\b\b\b\b\b\b\b\b\b\b\b\b\b\b\b\b\b\b\b\b\b\b\b\b\b\b\b\b\b\b\b\b\bEverything is Ok\n",
            "\n",
            "Folders: 1\n",
            "Files: 51\n",
            "Size:       21010393\n",
            "Compressed: 6295109\n",
            "\n",
            "7-Zip [64] 16.02 : Copyright (c) 1999-2016 Igor Pavlov : 2016-05-21\n",
            "p7zip Version 16.02 (locale=en_US.UTF-8,Utf16=on,HugeFiles=on,64 bits,2 CPUs Intel(R) Xeon(R) CPU @ 2.00GHz (50653),ASM,AES-NI)\n",
            "\n",
            "Scanning the drive for archives:\n",
            "  0M Scan ../\b\b\b\b\b\b\b\b\b\b\b\b\b             \b\b\b\b\b\b\b\b\b\b\b\b\b1 file, 3782229 bytes (3694 KiB)\n",
            "\n",
            "Extracting archive: ../Benign PE Samples 4.7z\n",
            "--\n",
            "Path = ../Benign PE Samples 4.7z\n",
            "Type = 7z\n",
            "Physical Size = 3782229\n",
            "Headers Size = 1182\n",
            "Method = LZMA2:12m BCJ\n",
            "Solid = +\n",
            "Blocks = 1\n",
            "\n",
            "  0%\b\b\b\b    \b\b\b\b 47% 27 - Benign PE Samples 4/EASPolicyManagerBrokerHost.exe\b\b\b\b\b\b\b\b\b\b\b\b\b\b\b\b\b\b\b\b\b\b\b\b\b\b\b\b\b\b\b\b\b\b\b\b\b\b\b\b\b\b\b\b\b\b\b\b\b\b\b\b\b\b\b\b\b\b\b\b                                                            \b\b\b\b\b\b\b\b\b\b\b\b\b\b\b\b\b\b\b\b\b\b\b\b\b\b\b\b\b\b\b\b\b\b\b\b\b\b\b\b\b\b\b\b\b\b\b\b\b\b\b\b\b\b\b\b\b\b\b\bEverything is Ok\n",
            "\n",
            "Folders: 1\n",
            "Files: 46\n",
            "Size:       10973411\n",
            "Compressed: 3782229\n",
            "\n",
            "7-Zip [64] 16.02 : Copyright (c) 1999-2016 Igor Pavlov : 2016-05-21\n",
            "p7zip Version 16.02 (locale=en_US.UTF-8,Utf16=on,HugeFiles=on,64 bits,2 CPUs Intel(R) Xeon(R) CPU @ 2.00GHz (50653),ASM,AES-NI)\n",
            "\n",
            "Scanning the drive for archives:\n",
            "  0M Scan ../\b\b\b\b\b\b\b\b\b\b\b\b\b             \b\b\b\b\b\b\b\b\b\b\b\b\b1 file, 3144984 bytes (3072 KiB)\n",
            "\n",
            "Extracting archive: ../Benign PE Samples 5.7z\n",
            "--\n",
            "Path = ../Benign PE Samples 5.7z\n",
            "Type = 7z\n",
            "Physical Size = 3144984\n",
            "Headers Size = 1165\n",
            "Method = LZMA2:24 BCJ\n",
            "Solid = +\n",
            "Blocks = 1\n",
            "\n",
            "  0%\b\b\b\b    \b\b\b\b 56% 29 - Benign PE Samples 5/Calculator.exe\b\b\b\b\b\b\b\b\b\b\b\b\b\b\b\b\b\b\b\b\b\b\b\b\b\b\b\b\b\b\b\b\b\b\b\b\b\b\b\b\b\b\b\b                                            \b\b\b\b\b\b\b\b\b\b\b\b\b\b\b\b\b\b\b\b\b\b\b\b\b\b\b\b\b\b\b\b\b\b\b\b\b\b\b\b\b\b\b\bEverything is Ok\n",
            "\n",
            "Folders: 1\n",
            "Files: 45\n",
            "Size:       12933478\n",
            "Compressed: 3144984\n",
            "\n",
            "7-Zip [64] 16.02 : Copyright (c) 1999-2016 Igor Pavlov : 2016-05-21\n",
            "p7zip Version 16.02 (locale=en_US.UTF-8,Utf16=on,HugeFiles=on,64 bits,2 CPUs Intel(R) Xeon(R) CPU @ 2.00GHz (50653),ASM,AES-NI)\n",
            "\n",
            "Scanning the drive for archives:\n",
            "  0M Scan ../\b\b\b\b\b\b\b\b\b\b\b\b\b             \b\b\b\b\b\b\b\b\b\b\b\b\b1 file, 4802968 bytes (4691 KiB)\n",
            "\n",
            "Extracting archive: ../Benign PE Samples 6.7z\n",
            "--\n",
            "Path = ../Benign PE Samples 6.7z\n",
            "Type = 7z\n",
            "Physical Size = 4802968\n",
            "Headers Size = 1312\n",
            "Method = LZMA2:24 BCJ\n",
            "Solid = +\n",
            "Blocks = 1\n",
            "\n",
            "  0%\b\b\b\b    \b\b\b\b 28% 8 - Benign PE Samples 6/aitstatic.exe\b\b\b\b\b\b\b\b\b\b\b\b\b\b\b\b\b\b\b\b\b\b\b\b\b\b\b\b\b\b\b\b\b\b\b\b\b\b\b\b\b\b                                          \b\b\b\b\b\b\b\b\b\b\b\b\b\b\b\b\b\b\b\b\b\b\b\b\b\b\b\b\b\b\b\b\b\b\b\b\b\b\b\b\b\b 72% 26 - Benign PE Samples 6/AppVStreamingUX.exe\b\b\b\b\b\b\b\b\b\b\b\b\b\b\b\b\b\b\b\b\b\b\b\b\b\b\b\b\b\b\b\b\b\b\b\b\b\b\b\b\b\b\b\b\b\b\b\b\b                                                 \b\b\b\b\b\b\b\b\b\b\b\b\b\b\b\b\b\b\b\b\b\b\b\b\b\b\b\b\b\b\b\b\b\b\b\b\b\b\b\b\b\b\b\b\b\b\b\b\bEverything is Ok\n",
            "\n",
            "Folders: 1\n",
            "Files: 50\n",
            "Size:       17383594\n",
            "Compressed: 4802968\n"
          ]
        }
      ]
    },
    {
      "cell_type": "code",
      "source": [
        "%cd ../Malicious_PE_samples/"
      ],
      "metadata": {
        "colab": {
          "base_uri": "https://localhost:8080/"
        },
        "id": "bzSzmVlwb_4C",
        "outputId": "52fc4f0c-5670-4ba9-8b94-eb87a31a9288"
      },
      "execution_count": 7,
      "outputs": [
        {
          "output_type": "stream",
          "name": "stdout",
          "text": [
            "/content/Malicious_PE_samples\n"
          ]
        }
      ]
    },
    {
      "cell_type": "code",
      "source": [
        "for i in range(1,3):\n",
        "  !7z e -y ../Malicious\\ PE\\ Samples\\ {i}.7z -pinfected"
      ],
      "metadata": {
        "colab": {
          "base_uri": "https://localhost:8080/"
        },
        "id": "uvn0Iy_rb_6e",
        "outputId": "26cb4ed7-686f-4d91-fce0-669f77c99eb8"
      },
      "execution_count": 8,
      "outputs": [
        {
          "output_type": "stream",
          "name": "stdout",
          "text": [
            "\n",
            "7-Zip [64] 16.02 : Copyright (c) 1999-2016 Igor Pavlov : 2016-05-21\n",
            "p7zip Version 16.02 (locale=en_US.UTF-8,Utf16=on,HugeFiles=on,64 bits,2 CPUs Intel(R) Xeon(R) CPU @ 2.00GHz (50653),ASM,AES-NI)\n",
            "\n",
            "Scanning the drive for archives:\n",
            "  0M Scan ../\b\b\b\b\b\b\b\b\b\b\b\b\b             \b\b\b\b\b\b\b\b\b\b\b\b\b1 file, 23934383 bytes (23 MiB)\n",
            "\n",
            "Extracting archive: ../Malicious PE Samples 1.7z\n",
            "--\n",
            "Path = ../Malicious PE Samples 1.7z\n",
            "Type = 7z\n",
            "Physical Size = 23934383\n",
            "Headers Size = 959\n",
            "Method = LZMA2:24 BCJ 7zAES\n",
            "Solid = +\n",
            "Blocks = 1\n",
            "\n",
            "  0%\b\b\b\b    \b\b\b\b  0% 1 - Malicious PE Samples 1/Fake Intel (1).exe\b\b\b\b\b\b\b\b\b\b\b\b\b\b\b\b\b\b\b\b\b\b\b\b\b\b\b\b\b\b\b\b\b\b\b\b\b\b\b\b\b\b\b\b\b\b\b\b\b\b                                                  \b\b\b\b\b\b\b\b\b\b\b\b\b\b\b\b\b\b\b\b\b\b\b\b\b\b\b\b\b\b\b\b\b\b\b\b\b\b\b\b\b\b\b\b\b\b\b\b\b\b  4% 1 - Malicious PE Samples 1/Fake Intel (1).exe\b\b\b\b\b\b\b\b\b\b\b\b\b\b\b\b\b\b\b\b\b\b\b\b\b\b\b\b\b\b\b\b\b\b\b\b\b\b\b\b\b\b\b\b\b\b\b\b\b\b                                                  \b\b\b\b\b\b\b\b\b\b\b\b\b\b\b\b\b\b\b\b\b\b\b\b\b\b\b\b\b\b\b\b\b\b\b\b\b\b\b\b\b\b\b\b\b\b\b\b\b\b 51% 7 - Malicious PE Samples 1/malware.exe\b\b\b\b\b\b\b\b\b\b\b\b\b\b\b\b\b\b\b\b\b\b\b\b\b\b\b\b\b\b\b\b\b\b\b\b\b\b\b\b\b\b\b                                           \b\b\b\b\b\b\b\b\b\b\b\b\b\b\b\b\b\b\b\b\b\b\b\b\b\b\b\b\b\b\b\b\b\b\b\b\b\b\b\b\b\b\b 68% 13 - Malicious PE Samples 1/sample.exe\b\b\b\b\b\b\b\b\b\b\b\b\b\b\b\b\b\b\b\b\b\b\b\b\b\b\b\b\b\b\b\b\b\b\b\b\b\b\b\b\b\b\b                                           \b\b\b\b\b\b\b\b\b\b\b\b\b\b\b\b\b\b\b\b\b\b\b\b\b\b\b\b\b\b\b\b\b\b\b\b\b\b\b\b\b\b\b 89% 22 - Malicious PE Samples 1/Win32.Wannacry.exe\b\b\b\b\b\b\b\b\b\b\b\b\b\b\b\b\b\b\b\b\b\b\b\b\b\b\b\b\b\b\b\b\b\b\b\b\b\b\b\b\b\b\b\b\b\b\b\b\b\b\b                                                   \b\b\b\b\b\b\b\b\b\b\b\b\b\b\b\b\b\b\b\b\b\b\b\b\b\b\b\b\b\b\b\b\b\b\b\b\b\b\b\b\b\b\b\b\b\b\b\b\b\b\bEverything is Ok\n",
            "\n",
            "Folders: 1\n",
            "Files: 26\n",
            "Size:       30470108\n",
            "Compressed: 23934383\n",
            "\n",
            "7-Zip [64] 16.02 : Copyright (c) 1999-2016 Igor Pavlov : 2016-05-21\n",
            "p7zip Version 16.02 (locale=en_US.UTF-8,Utf16=on,HugeFiles=on,64 bits,2 CPUs Intel(R) Xeon(R) CPU @ 2.00GHz (50653),ASM,AES-NI)\n",
            "\n",
            "Scanning the drive for archives:\n",
            "  0M Scan ../\b\b\b\b\b\b\b\b\b\b\b\b\b             \b\b\b\b\b\b\b\b\b\b\b\b\b1 file, 11392107 bytes (11 MiB)\n",
            "\n",
            "Extracting archive: ../Malicious PE Samples 2.7z\n",
            "--\n",
            "Path = ../Malicious PE Samples 2.7z\n",
            "Type = 7z\n",
            "Physical Size = 11392107\n",
            "Headers Size = 875\n",
            "Method = LZMA2:24 BCJ 7zAES\n",
            "Solid = +\n",
            "Blocks = 1\n",
            "\n",
            "  0%\b\b\b\b    \b\b\b\b  0% 1 - Malicious PE Samples 2/027cc450ef5f8c5f653329641ec1fed9.exe\b\b\b\b\b\b\b\b\b\b\b\b\b\b\b\b\b\b\b\b\b\b\b\b\b\b\b\b\b\b\b\b\b\b\b\b\b\b\b\b\b\b\b\b\b\b\b\b\b\b\b\b\b\b\b\b\b\b\b\b\b\b\b\b\b\b\b\b                                                                    \b\b\b\b\b\b\b\b\b\b\b\b\b\b\b\b\b\b\b\b\b\b\b\b\b\b\b\b\b\b\b\b\b\b\b\b\b\b\b\b\b\b\b\b\b\b\b\b\b\b\b\b\b\b\b\b\b\b\b\b\b\b\b\b\b\b\b\b 44% 14 - Malicious PE Samples 2/Build.exe\b\b\b\b\b\b\b\b\b\b\b\b\b\b\b\b\b\b\b\b\b\b\b\b\b\b\b\b\b\b\b\b\b\b\b\b\b\b\b\b\b\b                                          \b\b\b\b\b\b\b\b\b\b\b\b\b\b\b\b\b\b\b\b\b\b\b\b\b\b\b\b\b\b\b\b\b\b\b\b\b\b\b\b\b\b 93% 20 - Malicious PE Samples 2/gchrome.exe\b\b\b\b\b\b\b\b\b\b\b\b\b\b\b\b\b\b\b\b\b\b\b\b\b\b\b\b\b\b\b\b\b\b\b\b\b\b\b\b\b\b\b\b                                            \b\b\b\b\b\b\b\b\b\b\b\b\b\b\b\b\b\b\b\b\b\b\b\b\b\b\b\b\b\b\b\b\b\b\b\b\b\b\b\b\b\b\b\bEverything is Ok\n",
            "\n",
            "Folders: 1\n",
            "Files: 21\n",
            "Size:       17385088\n",
            "Compressed: 11392107\n"
          ]
        }
      ]
    },
    {
      "cell_type": "code",
      "source": [
        "%cd .."
      ],
      "metadata": {
        "colab": {
          "base_uri": "https://localhost:8080/"
        },
        "id": "Jb6en-fYb_82",
        "outputId": "23023d2d-7671-45c5-83fd-309b7bceb388"
      },
      "execution_count": 9,
      "outputs": [
        {
          "output_type": "stream",
          "name": "stdout",
          "text": [
            "/content\n"
          ]
        }
      ]
    },
    {
      "cell_type": "code",
      "source": [
        "for i in range(1,3):\n",
        "    !rm -rf \"/content/Malicious_PE_samples/Malicious PE Samples {i}\"\n",
        "\n",
        "for i in range(1,7):\n",
        "     !rm -rf \"/content/Benign_PE_samples/Benign PE Samples {i}\""
      ],
      "metadata": {
        "id": "n8BOQ-mBb_-4"
      },
      "execution_count": 10,
      "outputs": []
    },
    {
      "cell_type": "code",
      "source": [
        "!dir"
      ],
      "metadata": {
        "colab": {
          "base_uri": "https://localhost:8080/"
        },
        "id": "LfWBUfRrcABO",
        "outputId": "66f31477-2520-461a-ff8f-42b3383c5d15"
      },
      "execution_count": 11,
      "outputs": [
        {
          "output_type": "stream",
          "name": "stdout",
          "text": [
            "Benign_PE_samples\t   Benign\\ PE\\ Samples\\ 6.7z\n",
            "Benign\\ PE\\ Samples\\ 1.7z  Malicious_PE_samples\n",
            "Benign\\ PE\\ Samples\\ 2.7z  Malicious\\ PE\\ Samples\\ 1.7z\n",
            "Benign\\ PE\\ Samples\\ 3.7z  Malicious\\ PE\\ Samples\\ 2.7z\n",
            "Benign\\ PE\\ Samples\\ 4.7z  sample_data\n",
            "Benign\\ PE\\ Samples\\ 5.7z\n"
          ]
        }
      ]
    },
    {
      "cell_type": "code",
      "source": [
        "import numpy as np\n",
        "from tqdm import tqdm"
      ],
      "metadata": {
        "id": "Y-g45Srwchdb"
      },
      "execution_count": 12,
      "outputs": []
    },
    {
      "cell_type": "code",
      "source": [
        "def embed_bytes(byte):\n",
        "    binary_string = \"{0:08b}\".format(byte)\n",
        "    vec = np.zeros(8)\n",
        "    for i in range(8):\n",
        "        if binary_string[i] == \"1\":\n",
        "            vec[i] = float(1) / 16\n",
        "        else:\n",
        "            vec[i] = -float(1) / 16\n",
        "    return vec"
      ],
      "metadata": {
        "id": "s8aMN-tDco17"
      },
      "execution_count": 13,
      "outputs": []
    },
    {
      "cell_type": "code",
      "source": [
        "import os\n",
        "from os import listdir\n",
        "\n",
        "directories_with_labels = [(\"Benign_PE_samples\",0), (\"Malicious_PE_samples\",1)]\n",
        "\n",
        "list_of_samples = []\n",
        "\n",
        "labels = []\n",
        "\n",
        "for dataset_path, label in directories_with_labels:\n",
        "    samples = [f for f in listdir(dataset_path)]\n",
        "    for file in samples:\n",
        "        file_path = os.path.join(dataset_path, file)\n",
        "        list_of_samples.append(file_path)\n",
        "        labels.append(label)"
      ],
      "metadata": {
        "id": "1Whz-QLXco41"
      },
      "execution_count": 14,
      "outputs": []
    },
    {
      "cell_type": "code",
      "source": [
        "list_of_samples[0:5]"
      ],
      "metadata": {
        "colab": {
          "base_uri": "https://localhost:8080/"
        },
        "id": "QDfGA_LT_VJC",
        "outputId": "3572d26e-7328-42ad-e149-aa6fe4ceb34b"
      },
      "execution_count": 45,
      "outputs": [
        {
          "output_type": "execute_result",
          "data": {
            "text/plain": [
              "['Benign_PE_samples/DFDWiz.exe',\n",
              " 'Benign_PE_samples/compact.exe',\n",
              " 'Benign_PE_samples/dfrgui.exe',\n",
              " 'Benign_PE_samples/dtdump.exe',\n",
              " 'Benign_PE_samples/dllhost.exe']"
            ]
          },
          "metadata": {},
          "execution_count": 45
        }
      ]
    },
    {
      "cell_type": "code",
      "source": [
        "labels[0:5]"
      ],
      "metadata": {
        "colab": {
          "base_uri": "https://localhost:8080/"
        },
        "id": "WvssfRHp_aT8",
        "outputId": "af0b6c73-07a0-4a25-f64d-4104009b8227"
      },
      "execution_count": 46,
      "outputs": [
        {
          "output_type": "execute_result",
          "data": {
            "text/plain": [
              "array([ 696,  365,  580,    5, 1652], dtype=int32)"
            ]
          },
          "metadata": {},
          "execution_count": 46
        }
      ]
    },
    {
      "cell_type": "code",
      "source": [
        "def read_file(file_path):\n",
        "    with open(file_path, \"rb\") as binary_file:\n",
        "        return binary_file.read()\n"
      ],
      "metadata": {
        "id": "hH7iW-e1co7J"
      },
      "execution_count": 15,
      "outputs": []
    },
    {
      "cell_type": "code",
      "source": [
        "read_file(list_of_samples[0])[:100]"
      ],
      "metadata": {
        "colab": {
          "base_uri": "https://localhost:8080/"
        },
        "id": "mMA3CPsd_k5q",
        "outputId": "db00082f-f109-4b57-9863-a8141ad0dfba"
      },
      "execution_count": 48,
      "outputs": [
        {
          "output_type": "execute_result",
          "data": {
            "text/plain": [
              "b'MZ\\x90\\x00\\x03\\x00\\x00\\x00\\x04\\x00\\x00\\x00\\xff\\xff\\x00\\x00\\xb8\\x00\\x00\\x00\\x00\\x00\\x00\\x00@\\x00\\x00\\x00\\x00\\x00\\x00\\x00\\x00\\x00\\x00\\x00\\x00\\x00\\x00\\x00\\x00\\x00\\x00\\x00\\x00\\x00\\x00\\x00\\x00\\x00\\x00\\x00\\x00\\x00\\x00\\x00\\x00\\x00\\x00\\x00\\xf0\\x00\\x00\\x00\\x0e\\x1f\\xba\\x0e\\x00\\xb4\\t\\xcd!\\xb8\\x01L\\xcd!This program cannot be'"
            ]
          },
          "metadata": {},
          "execution_count": 48
        }
      ]
    },
    {
      "cell_type": "code",
      "source": [
        "max_size = 15000\n",
        "num_samples = len(list_of_samples)\n",
        "X = np.zeros((num_samples, 8, max_size))\n",
        "Y = np.asarray(labels)\n",
        "file_num = 0\n",
        "for file in tqdm(list_of_samples):\n",
        "    try:\n",
        "        sample_byte_sequence = read_file(file)\n",
        "        for i in range(min((max_size), len(sample_byte_sequence))):\n",
        "            X[file_num, :, i] = embed_bytes(sample_byte_sequence[i])\n",
        "        file_num += 1\n",
        "    except Exception as e:\n",
        "        print(e)"
      ],
      "metadata": {
        "colab": {
          "base_uri": "https://localhost:8080/"
        },
        "id": "3TprJYz_cpAB",
        "outputId": "d970fb41-7afa-452d-f651-f201dbbcb1f6"
      },
      "execution_count": 16,
      "outputs": [
        {
          "output_type": "stream",
          "name": "stderr",
          "text": [
            "100%|██████████| 425/425 [00:29<00:00, 14.43it/s]\n"
          ]
        }
      ]
    },
    {
      "cell_type": "code",
      "source": [
        "X.shape, Y.shape"
      ],
      "metadata": {
        "colab": {
          "base_uri": "https://localhost:8080/"
        },
        "id": "JMzLAW5m_-fa",
        "outputId": "b94fadea-a429-412b-cc35-8a2a675b2f6c"
      },
      "execution_count": 50,
      "outputs": [
        {
          "output_type": "execute_result",
          "data": {
            "text/plain": [
              "((425, 8, 15000), (425,))"
            ]
          },
          "metadata": {},
          "execution_count": 50
        }
      ]
    },
    {
      "cell_type": "code",
      "source": [
        "X[0]"
      ],
      "metadata": {
        "colab": {
          "base_uri": "https://localhost:8080/"
        },
        "id": "ZhkXKC7n_36s",
        "outputId": "426230f9-3922-440a-a2f9-bf2790f78716"
      },
      "execution_count": 49,
      "outputs": [
        {
          "output_type": "execute_result",
          "data": {
            "text/plain": [
              "array([[-0.0625, -0.0625,  0.0625, ...,  0.0625,  0.0625, -0.0625],\n",
              "       [ 0.0625,  0.0625, -0.0625, ..., -0.0625,  0.0625,  0.0625],\n",
              "       [-0.0625, -0.0625, -0.0625, ..., -0.0625, -0.0625,  0.0625],\n",
              "       ...,\n",
              "       [ 0.0625, -0.0625, -0.0625, ...,  0.0625, -0.0625,  0.0625],\n",
              "       [-0.0625,  0.0625, -0.0625, ..., -0.0625, -0.0625, -0.0625],\n",
              "       [ 0.0625, -0.0625, -0.0625, ...,  0.0625, -0.0625,  0.0625]])"
            ]
          },
          "metadata": {},
          "execution_count": 49
        }
      ]
    },
    {
      "cell_type": "code",
      "source": [
        "Y[0]"
      ],
      "metadata": {
        "colab": {
          "base_uri": "https://localhost:8080/"
        },
        "id": "njHFpm8L_7p-",
        "outputId": "3d30baac-f0f3-4e9c-bdf6-2311c9c7060f"
      },
      "execution_count": 51,
      "outputs": [
        {
          "output_type": "execute_result",
          "data": {
            "text/plain": [
              "0"
            ]
          },
          "metadata": {},
          "execution_count": 51
        }
      ]
    },
    {
      "cell_type": "code",
      "source": [
        "X[1]"
      ],
      "metadata": {
        "colab": {
          "base_uri": "https://localhost:8080/"
        },
        "id": "6fq_3DtNAKm4",
        "outputId": "a9dcb2bb-671d-457d-f288-e8a61de7b22e"
      },
      "execution_count": 52,
      "outputs": [
        {
          "output_type": "execute_result",
          "data": {
            "text/plain": [
              "array([[-0.0625, -0.0625,  0.0625, ..., -0.0625,  0.0625, -0.0625],\n",
              "       [ 0.0625,  0.0625, -0.0625, ...,  0.0625, -0.0625,  0.0625],\n",
              "       [-0.0625, -0.0625, -0.0625, ...,  0.0625, -0.0625, -0.0625],\n",
              "       ...,\n",
              "       [ 0.0625, -0.0625, -0.0625, ...,  0.0625, -0.0625,  0.0625],\n",
              "       [-0.0625,  0.0625, -0.0625, ...,  0.0625, -0.0625, -0.0625],\n",
              "       [ 0.0625, -0.0625, -0.0625, ..., -0.0625,  0.0625, -0.0625]])"
            ]
          },
          "metadata": {},
          "execution_count": 52
        }
      ]
    },
    {
      "cell_type": "code",
      "source": [
        "X[-1]"
      ],
      "metadata": {
        "colab": {
          "base_uri": "https://localhost:8080/"
        },
        "id": "3oqxDSVkAXjD",
        "outputId": "326e8b60-a692-442c-e7e5-4253cfa418c0"
      },
      "execution_count": 61,
      "outputs": [
        {
          "output_type": "execute_result",
          "data": {
            "text/plain": [
              "array([[-0.0625, -0.0625,  0.0625, ..., -0.0625, -0.0625,  0.0625],\n",
              "       [ 0.0625,  0.0625, -0.0625, ...,  0.0625, -0.0625, -0.0625],\n",
              "       [-0.0625, -0.0625, -0.0625, ..., -0.0625, -0.0625,  0.0625],\n",
              "       ...,\n",
              "       [ 0.0625, -0.0625, -0.0625, ...,  0.0625, -0.0625, -0.0625],\n",
              "       [-0.0625,  0.0625, -0.0625, ..., -0.0625, -0.0625, -0.0625],\n",
              "       [ 0.0625, -0.0625, -0.0625, ..., -0.0625, -0.0625,  0.0625]])"
            ]
          },
          "metadata": {},
          "execution_count": 61
        }
      ]
    },
    {
      "cell_type": "code",
      "source": [
        "Y[-1]"
      ],
      "metadata": {
        "colab": {
          "base_uri": "https://localhost:8080/"
        },
        "id": "i0k5UKFmAKpk",
        "outputId": "ceef3b31-d47d-47a9-af0b-4355aef2828a"
      },
      "execution_count": 60,
      "outputs": [
        {
          "output_type": "execute_result",
          "data": {
            "text/plain": [
              "1"
            ]
          },
          "metadata": {},
          "execution_count": 60
        }
      ]
    },
    {
      "cell_type": "code",
      "source": [
        "from keras import optimizers\n",
        "\n",
        "my_opt = optimizers.SGD(lr=0.01, decay=1e-5, nesterov=True)"
      ],
      "metadata": {
        "colab": {
          "base_uri": "https://localhost:8080/"
        },
        "id": "SDAhHZSUcy2Y",
        "outputId": "d2908312-0c22-46c8-d4c7-6e51dbabbc7e"
      },
      "execution_count": 17,
      "outputs": [
        {
          "output_type": "stream",
          "name": "stderr",
          "text": [
            "/usr/local/lib/python3.10/dist-packages/keras/optimizers/legacy/gradient_descent.py:114: UserWarning: The `lr` argument is deprecated, use `learning_rate` instead.\n",
            "  super().__init__(name, **kwargs)\n"
          ]
        }
      ]
    },
    {
      "cell_type": "code",
      "source": [
        "from keras import Input\n",
        "from keras.layers import Conv1D, Activation, multiply, GlobalMaxPool1D, Dense\n",
        "from keras import Model\n",
        "\n",
        "inputs = Input(shape=(8, max_size))\n",
        "conv1 = Conv1D(kernel_size=(128), filters=32, strides=(128), padding='same')(inputs)\n",
        "conv2 = Conv1D(kernel_size=(128), filters=32, strides=(128), padding='same')(inputs)\n",
        "a = Activation('sigmoid', name='sigmoid')(conv2)\n",
        "mul = multiply([conv1, a])\n",
        "b = Activation('relu', name='relu')(mul)\n",
        "p = GlobalMaxPool1D()(b)\n",
        "d = Dense(16)(p)\n",
        "predictions = Dense(1, activation='sigmoid')(d)\n",
        "model = Model(inputs=inputs, outputs=predictions)"
      ],
      "metadata": {
        "id": "yIF_XxBmcy5R"
      },
      "execution_count": 18,
      "outputs": []
    },
    {
      "cell_type": "code",
      "source": [
        "model.compile(optimizer=my_opt, loss=\"binary_crossentropy\", metrics=[\"acc\"])\n",
        "batch_size = 16\n",
        "num_batches = int(num_samples/ batch_size)"
      ],
      "metadata": {
        "id": "IS6YAD_Hcy7r"
      },
      "execution_count": 19,
      "outputs": []
    },
    {
      "cell_type": "code",
      "source": [
        "for batch_num in tqdm(range(num_batches)):\n",
        "    batch = X[batch_num * batch_size : (batch_num + 1) * batch_size]\n",
        "    model.train_on_batch(batch, Y[batch_num * batch_size: (batch_num + 1) * batch_size])"
      ],
      "metadata": {
        "colab": {
          "base_uri": "https://localhost:8080/"
        },
        "id": "sDV0nnv4cy-L",
        "outputId": "78e2cd61-7cf0-4956-ab2a-a3a725073882"
      },
      "execution_count": 20,
      "outputs": [
        {
          "output_type": "stream",
          "name": "stderr",
          "text": [
            "100%|██████████| 26/26 [00:20<00:00,  1.25it/s]\n"
          ]
        }
      ]
    },
    {
      "cell_type": "code",
      "source": [],
      "metadata": {
        "id": "eMzI3QlLcpGS"
      },
      "execution_count": null,
      "outputs": []
    },
    {
      "cell_type": "markdown",
      "metadata": {
        "collapsed": true,
        "id": "tWXYEyERYwSR"
      },
      "source": [
        "## Section3. Androidマルウェア検知\n",
        "\n",
        "機械学習 (ML) システムは現在、マルウェア検出器 を含む多くのシステムのコア コンポーネントとして広く使用されています。このようなシステムは、ベンチマークデータセットで優れたパフォーマンスを報告しているにもかかわらず、実際の検出の問題はまだ解決されていません。実際、これらのアルゴリズムの多くは、*敵対的な例*に対処するように設計されていませんでした。\n",
        "ここでは、SecML を使用して、Android アプリケーション用のマルウェア検出器のセキュリティを構築、説明、攻撃、評価する方法を説明します。用いるアルゴリズムは、ごく一般的な線形サポートベクターマシン (SVM) となります。"
      ]
    },
    {
      "cell_type": "code",
      "execution_count": 63,
      "metadata": {
        "id": "n2Tl0npOYwST"
      },
      "outputs": [],
      "source": [
        "%%capture --no-stderr --no-display\n",
        "# NBVAL_IGNORE_OUTPUT\n",
        "# Drebin データセットから抽出された 12,000 の良性サンプルと 550 の悪意のあるサンプルが格納されたデータセット\n",
        "\n",
        "try:\n",
        "  import secml\n",
        "except ImportError:\n",
        "  %pip install git+https://github.com/pralab/secml"
      ]
    },
    {
      "cell_type": "markdown",
      "metadata": {
        "id": "AqRjEw_2YwSU"
      },
      "source": [
        "  > [[arp2014drebin]](https://www.sec.cs.tu-bs.de/pubs/2014-ndss.pdf)\n",
        "  > Arp, Daniel, et al. \"Drebin: Effective and explainable detection of\n",
        "  > android malware in your pocket.\" NDSS. Vol. 14. 2014.\n",
        "\n",
        "https://www.sec.cs.tu-bs.de/~danarp/drebin/"
      ]
    },
    {
      "cell_type": "code",
      "execution_count": 64,
      "metadata": {
        "id": "tWUsghvZYwSV",
        "colab": {
          "base_uri": "https://localhost:8080/"
        },
        "outputId": "c6180a7c-1801-4e50-f6cf-5bcad59905d8"
      },
      "outputs": [
        {
          "output_type": "stream",
          "name": "stdout",
          "text": [
            "2023-05-27 02:39:34,331 - secml.settings - INFO - New `SECML_HOME_DIR` created: /root/secml-data\n",
            "2023-05-27 02:39:34,331 - secml.settings - INFO - New `SECML_HOME_DIR` created: /root/secml-data\n"
          ]
        },
        {
          "output_type": "stream",
          "name": "stderr",
          "text": [
            "INFO:secml.settings:New `SECML_HOME_DIR` created: /root/secml-data\n"
          ]
        },
        {
          "output_type": "stream",
          "name": "stdout",
          "text": [
            "2023-05-27 02:39:34,336 - secml.settings - INFO - Default configuration file copied to: /root/secml-data/secml.conf\n",
            "2023-05-27 02:39:34,336 - secml.settings - INFO - Default configuration file copied to: /root/secml-data/secml.conf\n"
          ]
        },
        {
          "output_type": "stream",
          "name": "stderr",
          "text": [
            "INFO:secml.settings:Default configuration file copied to: /root/secml-data/secml.conf\n"
          ]
        },
        {
          "output_type": "stream",
          "name": "stdout",
          "text": [
            "2023-05-27 02:39:34,339 - secml.settings - INFO - New `SECML_DS_DIR` created: /root/secml-data/datasets\n",
            "2023-05-27 02:39:34,339 - secml.settings - INFO - New `SECML_DS_DIR` created: /root/secml-data/datasets\n"
          ]
        },
        {
          "output_type": "stream",
          "name": "stderr",
          "text": [
            "INFO:secml.settings:New `SECML_DS_DIR` created: /root/secml-data/datasets\n"
          ]
        },
        {
          "output_type": "stream",
          "name": "stdout",
          "text": [
            "2023-05-27 02:39:34,343 - secml.settings - INFO - New `SECML_MODELS_DIR` created: /root/secml-data/models\n",
            "2023-05-27 02:39:34,343 - secml.settings - INFO - New `SECML_MODELS_DIR` created: /root/secml-data/models\n"
          ]
        },
        {
          "output_type": "stream",
          "name": "stderr",
          "text": [
            "INFO:secml.settings:New `SECML_MODELS_DIR` created: /root/secml-data/models\n"
          ]
        },
        {
          "output_type": "stream",
          "name": "stdout",
          "text": [
            "2023-05-27 02:39:34,346 - secml.settings - INFO - New `SECML_EXP_DIR` created: /root/secml-data/experiments\n",
            "2023-05-27 02:39:34,346 - secml.settings - INFO - New `SECML_EXP_DIR` created: /root/secml-data/experiments\n"
          ]
        },
        {
          "output_type": "stream",
          "name": "stderr",
          "text": [
            "INFO:secml.settings:New `SECML_EXP_DIR` created: /root/secml-data/experiments\n"
          ]
        },
        {
          "output_type": "stream",
          "name": "stdout",
          "text": [
            "2023-05-27 02:39:34,350 - secml.settings - INFO - New `SECML_LOGS_DIR` created: /root/secml-data/logs\n",
            "2023-05-27 02:39:34,350 - secml.settings - INFO - New `SECML_LOGS_DIR` created: /root/secml-data/logs\n"
          ]
        },
        {
          "output_type": "stream",
          "name": "stderr",
          "text": [
            "INFO:secml.settings:New `SECML_LOGS_DIR` created: /root/secml-data/logs\n"
          ]
        },
        {
          "output_type": "stream",
          "name": "stdout",
          "text": [
            "2023-05-27 02:39:34,353 - secml.settings - INFO - New `SECML_PYTORCH_DIR` created: /root/secml-data/pytorch-data\n",
            "2023-05-27 02:39:34,353 - secml.settings - INFO - New `SECML_PYTORCH_DIR` created: /root/secml-data/pytorch-data\n"
          ]
        },
        {
          "output_type": "stream",
          "name": "stderr",
          "text": [
            "INFO:secml.settings:New `SECML_PYTORCH_DIR` created: /root/secml-data/pytorch-data\n"
          ]
        },
        {
          "output_type": "stream",
          "name": "stdout",
          "text": [
            "Downloading from `https://gitlab.com/api/v4/projects/secml%2Fsecml-zoo/repository/files/datasets%2FDrebinRed%2Fdrebin-reduced.tar.gz/raw?ref=master` (27696543 bytes)\n",
            "\n",
            "File stored in `/root/secml-data/datasets/drebin-red/drebin-reduced.tar.gz`\n"
          ]
        }
      ],
      "source": [
        "# NBVAL_IGNORE_OUTPUT\n",
        "import re\n",
        "import secml\n",
        "from secml import settings\n",
        "from secml.utils import fm\n",
        "from secml.utils.download_utils import dl_file_gitlab\n",
        "\n",
        "repo_url = 'https://gitlab.com/secml/secml-zoo'\n",
        "file_name = 'drebin-reduced.tar.gz'\n",
        "file_path = 'datasets/DrebinRed/' + file_name\n",
        "output_dir = fm.join(settings.SECML_DS_DIR, 'drebin-red')\n",
        "md5_digest = 'ecf87ddedf614dd53b89285c29cf1caf'\n",
        "\n",
        "ds_path = fm.join(output_dir, file_name)\n",
        "\n",
        "# 以下は、現在のライブラリ バージョンの正しいデータセットの取得\n",
        "if not fm.file_exist(ds_path):\n",
        "    try:\n",
        "        # 現在のバージョンに対応するブランチからダウンロードしてみてください\n",
        "        min_version = re.search(r'^\\d+.\\d+', secml.__version__).group(0)\n",
        "        dl_file_gitlab(repo_url, file_path, output_dir,\n",
        "                       branch='v' + min_version, md5_digest=md5_digest)\n",
        "\n",
        "    except Exception as e:  # 「master」ブランチを調べてみてください...\n",
        "        dl_file_gitlab(repo_url, file_path, output_dir, md5_digest=md5_digest)"
      ]
    },
    {
      "cell_type": "code",
      "execution_count": 65,
      "metadata": {
        "id": "ZyA4k5wdYwSV",
        "outputId": "2d71aee9-4a27-463a-a29c-cf9bb3902641",
        "colab": {
          "base_uri": "https://localhost:8080/"
        }
      },
      "outputs": [
        {
          "output_type": "stream",
          "name": "stdout",
          "text": [
            "サンプルの数:  12550\n",
            "正常なサンプル:  12000\n",
            "悪意のあるサンプル:  550\n",
            "特徴量の数:  1227080\n"
          ]
        }
      ],
      "source": [
        "from secml.utils import pickle_utils\n",
        "\n",
        "ds = pickle_utils.load(ds_path)\n",
        "\n",
        "print(\"サンプルの数: \", ds.num_samples)\n",
        "\n",
        "n_neg = sum(ds.Y == 0)\n",
        "n_pos = sum(ds.Y == 1)\n",
        "\n",
        "print(\"正常なサンプル: \", n_neg)\n",
        "print(\"悪意のあるサンプル: \", n_pos)\n",
        "\n",
        "print(\"特徴量の数: \", ds.num_features)"
      ]
    },
    {
      "cell_type": "markdown",
      "metadata": {
        "id": "ijcehsKzYwSW"
      },
      "source": [
        "### Section3-1. 検出器のトレーニングとテスト\n",
        "\n",
        "データセットの半分でサポートベクターマシン分類器をトレーニングし、残りをテストに使用します。良性アプリケーションと悪意のあるアプリケーションを認識するタスクのパフォーマンスは、**検出率 @ 2% 誤検知率**、**F1 スコア**、および **受信者動作特性 (ROC) 曲線**から評価します"
      ]
    },
    {
      "cell_type": "code",
      "execution_count": 66,
      "metadata": {
        "id": "UpEAhuvmYwSW",
        "outputId": "a9fca372-4a00-4495-d4f4-b561e6ae8715",
        "colab": {
          "base_uri": "https://localhost:8080/"
        }
      },
      "outputs": [
        {
          "output_type": "stream",
          "name": "stdout",
          "text": [
            "Training started...\n",
            "Training completed!\n"
          ]
        }
      ],
      "source": [
        "from secml.data.splitter import CTrainTestSplit\n",
        "\n",
        "tr, ts = CTrainTestSplit(6000, random_state=0).split(ds)\n",
        "\n",
        "from secml.ml.classifiers import CClassifierSVM\n",
        "\n",
        "clf = CClassifierSVM(C=0.1)\n",
        "\n",
        "print(\"Training started...\")\n",
        "clf.fit(tr.X, tr.Y)\n",
        "print(\"Training completed!\")"
      ]
    },
    {
      "cell_type": "code",
      "execution_count": 76,
      "metadata": {
        "id": "8ZoGgq1AYwSW",
        "outputId": "f080c917-2825-4f67-d2e1-88f8be234cad",
        "colab": {
          "base_uri": "https://localhost:8080/"
        }
      },
      "outputs": [
        {
          "output_type": "stream",
          "name": "stdout",
          "text": [
            "Detection rate @ 2% FPR: 95.04%\n",
            "F1 score: 89.09%\n"
          ]
        }
      ],
      "source": [
        "# テストセットの分類とパフォーマンス指標の計算\n",
        "y_pred, score_pred = clf.predict(ts.X, return_decision_function=True)\n",
        "\n",
        "from secml.ml.peval.metrics import CMetricTPRatFPR, CMetricF1, CRoc\n",
        "\n",
        "fpr_th = 0.02  # 誤検知率 2% 偽陽性\n",
        "\n",
        "dr = CMetricTPRatFPR(fpr=fpr_th).performance_score(y_true=ts.Y, score=score_pred[:, 1].ravel())\n",
        "print(\"Detection rate @ 2% FPR: {:.2%}\".format(dr))\n",
        "\n",
        "f1 = CMetricF1().performance_score(y_true=ts.Y, y_pred=y_pred)\n",
        "print(\"F1 score: {:.2%}\".format(f1))"
      ]
    },
    {
      "cell_type": "code",
      "execution_count": null,
      "metadata": {
        "id": "x8hXakZzYwSX",
        "outputId": "e0cb8d40-10e7-4ef5-81ab-3e4ab6ea24fe"
      },
      "outputs": [
        {
          "data": {
            "image/png": "[encoded data removed]",
            "text/plain": [
              "<Figure size 432x288 with 1 Axes>"
            ]
          },
          "metadata": {
            "needs_background": "light"
          },
          "output_type": "display_data"
        }
      ],
      "source": [
        "fpr, tpr, _ = CRoc().compute(y_true=ts.Y, score=score_pred[:, 1].ravel())\n",
        "\n",
        "from secml.figure import CFigure\n",
        "# ノートブックでの視覚化\n",
        "%matplotlib inline\n",
        "\n",
        "fig = CFigure(height=4, width=6)\n",
        "fig.sp.plot_roc(fpr, tpr)\n",
        "fig.sp._sp.axvline(x=2,  c='k', linestyle='--', zorder=-1)\n",
        "fig.sp.xlim(0.5, 20)\n",
        "fig.sp.ylim(90, 98)\n",
        "fig.sp.yticks([90, 92, 94, 96, 98])\n",
        "fig.sp.yticklabels([90, 92, 94, 96, 98])\n",
        "fig.sp.ylabel(r'Detection Rate $(\\%)$')"
      ]
    },
    {
      "cell_type": "markdown",
      "metadata": {
        "id": "9VMhCjkFYwSX"
      },
      "source": [
        "### Section3-2. modelの説明\n",
        "\n",
        "トレーニングされたモデルを分析して、アプリケーションのどのコンポーネントが決定 (分類) フェーズでより関連性があるかを理解することにより、トレーニングされた Android マルウェア検出器の **モデル説明** を計算します。\n",
        "\n",
        "**Gradient * Input** グラデーションベースの説明メソッドを使用します。これは、`CExplainerGradientInput` クラスによって実装されます。このアルゴリズムは、スパースデータ上で実行するように最適化されているため、このアプリケーション例での使用に適しています。各サンプル (1 つは良性、もう 1 つは悪意のあるもの) について、肯定的な (悪意のある) クラスに関する説明を計算し、影響力のある上位 10 個の特徴を対応する関連性 (%) とともにリスト化します。\n",
        "\n",
        "  > [[melis2018explaining]](https://arxiv.org/abs/1803.03544)\n",
        "  > M. Melis, D. Maiorca, B. Biggio, G. Giacinto and F. Roli,\n",
        "  > \"Explaining Black-box Android Malware Detection,\" 2018 26th European\n",
        "  > Signal Processing Conference (EUSIPCO), Rome, 2018, pp. 524-528."
      ]
    },
    {
      "cell_type": "code",
      "execution_count": 69,
      "metadata": {
        "id": "oT5a9ksdYwSX",
        "outputId": "3eb9e199-0201-4d51-db1c-2073c2ecf59f",
        "colab": {
          "base_uri": "https://localhost:8080/"
        }
      },
      "outputs": [
        {
          "output_type": "stream",
          "name": "stdout",
          "text": [
            "Computing explanations using 'CExplainerGradientInput'\n"
          ]
        }
      ],
      "source": [
        "from secml.explanation import CExplainerGradientInput\n",
        "\n",
        "expl = CExplainerGradientInput(clf)\n",
        "\n",
        "print(\"Computing explanations using '{:}'\".format(expl.__class__.__name__))"
      ]
    },
    {
      "cell_type": "code",
      "execution_count": 70,
      "metadata": {
        "id": "if-uu3edYwSX",
        "outputId": "54fb7412-60ed-4d7e-a73f-2405fa2aa18f",
        "colab": {
          "base_uri": "https://localhost:8080/"
        }
      },
      "outputs": [
        {
          "output_type": "stream",
          "name": "stdout",
          "text": [
            "Explanations for sample 137 (true class: 0)\n",
            " -8.30\treq_permissions::android.permission.CALL_PHONE\n",
            " -6.59\tsuspicious_calls::android/net/Uri;->toString\n",
            "  5.60\treq_permissions::android.permission.INTERNET\n",
            " -5.39\tused_permissions::ACCESS_NETWORK_STATE\n",
            " -5.08\tapi_calls::android/media/MediaPlayer;->start\n",
            " -4.24\tused_permissions::VIBRATE\n",
            " -3.65\tintent_filters::android.intent.category.LAUNCHER\n",
            " -3.56\treq_permissions::android.permission.ACCESS_FINE_LOCATION\n",
            " -3.43\tused_permissions::ACCESS_FINE_LOCATION\n",
            " -2.63\tapi_calls::android/location/LocationManager;->getLastKnownLocation\n"
          ]
        }
      ],
      "source": [
        "# 良性サンプルの説明\n",
        "i = 137\n",
        "x, y = ts[i, :].X, ts[i, :].Y\n",
        "\n",
        "print(\"Explanations for sample {:} (true class: {:})\".format(i, y.item()))\n",
        "\n",
        "attr = expl.explain(x, y=1)\n",
        "attr = attr / attr.norm(order=1)  # 値を0～100で表示\n",
        "\n",
        "attr_argsort = abs(attr).argsort().ravel()[::-1]\n",
        "\n",
        "n_plot = 10\n",
        "\n",
        "for i in attr_argsort[:10]:\n",
        "    print(\"{:6.2f}\\t{:}\".format(attr[i].item() * 100, ds.header.feat_desc[i]))"
      ]
    },
    {
      "cell_type": "code",
      "execution_count": 71,
      "metadata": {
        "id": "k3DpQKGbYwSY",
        "outputId": "abc00f12-8446-4397-d597-7a920457cb71",
        "colab": {
          "base_uri": "https://localhost:8080/"
        }
      },
      "outputs": [
        {
          "output_type": "stream",
          "name": "stdout",
          "text": [
            "Explanations for sample 138 (true class: 1)\n",
            " 15.18\tsuspicious_calls::android/telephony/TelephonyManager;->getNetworkOperator\n",
            " 12.55\treq_permissions::android.permission.SEND_SMS\n",
            "  8.69\treq_permissions::android.permission.READ_SMS\n",
            "  5.83\treq_permissions::android.permission.INTERNET\n",
            "  5.58\tintent_filters::android.intent.action.BOOT_COMPLETED\n",
            " -4.41\tused_permissions::VIBRATE\n",
            "  3.96\tintent_filters::android.intent.category.HOME\n",
            " -3.80\tintent_filters::android.intent.category.LAUNCHER\n",
            "  3.66\treceivers::com.google.android.c2dm.C2DMBroadcastReceiver\n",
            "  3.39\treq_permissions::android.permission.READ_PHONE_STATE\n"
          ]
        }
      ],
      "source": [
        "# マルウェアの説明\n",
        "i = 138\n",
        "x, y = ts[i, :].X, ts[i, :].Y\n",
        "\n",
        "print(\"Explanations for sample {:} (true class: {:})\".format(i, y.item()))\n",
        "\n",
        "attr = expl.explain(x, y=1)\n",
        "attr = attr / attr.norm(order=1)  # 値を0～100で表示\n",
        "\n",
        "attr_argsort = abs(attr).argsort().ravel()[::-1]\n",
        "\n",
        "n_plot = 10\n",
        "\n",
        "for i in attr_argsort[:10]:\n",
        "    print(\"{:6.2f}\\t{:}\".format(attr[i].item() * 100, ds.header.feat_desc[i]))"
      ]
    },
    {
      "cell_type": "markdown",
      "metadata": {
        "id": "iFwyS7hnYwSY"
      },
      "source": [
        "正常なアプリケーションの場合、*特徴の大部分が負の関連性*を持っていることがわかります。これら因子は、この分類にとっては、*正常な動作*を示していることを意味します。\n",
        "\n",
        "悪意のあるアプリケーションの場合、*特徴の大部分が正の関連性* を持っているため、正常なアプリケーションとは逆の性質が観察できます。これら因子は、この分類に関しては、*悪意のある動作* を示していることを意味します。\n",
        "\n",
        "また、どちらの場合も、関連性の約 50% 以上がわずか 10 個の特徴に割り当てられていることがわかります。これは、これらの分類の「既知の動作」を浮き彫りにしています。これらの分類は、ほとんどの重みを小さな機能セットに割り当てる傾向があり、敵対的な回避攻撃に対して脆弱になります。\n",
        "\n",
        "  > [[demontis2017-tdsc]](https://arxiv.org/abs/1704.08996)\n",
        "  > Demontis, Ambra, et al. \"Yes, machine learning can be more secure!\n",
        "  > a case study on android malware detection.\" IEEE Transactions on\n",
        "  > Dependable and Secure Computing (2017).\n"
      ]
    },
    {
      "cell_type": "markdown",
      "metadata": {
        "id": "-Ant081yYwSY"
      },
      "source": [
        "### Section3-3. Crafting Adversarial Examples\n",
        "\n",
        "次に、**勾配ベースの最大信頼性回避攻撃**を設定して、Android マルウェア検出器のベースとなる SVM分類器に対する敵対的な例を作成します。\n",
        "\n",
        "まず、ソルバーパラメーターを選択します。 **ブール特徴量** (それぞれ 0 または 1 の値を取ることができます) を使用しているため、ライン検索グリッドステップ `eta` の 1 を使用します。次に、距離として `l1` を選択して、以下を実行します。 **L1 次のスパース攻撃**は、各反復で *1 つの特徴のみ*が変更されます (0 から 1、またはその逆)。最後に、悪意のあるサンプルのみを良性として分類したいため、標的型攻撃を実行するために「y_target = 0」を設定します。\n",
        "\n",
        "このアプリケーションでは、下限と上限の制約が重要です。理論上、攻撃者は分類器をだますことができるマルウェアを作成するために、元のアプリケーションに *機能を追加したり、元のアプリケーションから機能を削除したりする可能性があります。ただし、実際には、**機能の削除** はアプリケーションの悪意のある機能を簡単に侵害する可能性がある重要な操作であり、一般的に言えば、「構文」ではないコンポーネントに対してのみ実行されます。 **機能の追加** は、特に挿入された機能が「構文」に属している場合、より安全な操作です。たとえば、権限を追加しても、既存のアプリケーションの機能には影響しません。\n",
        "\n",
        "したがって、この例では、機能の追加のみを許可するために、`lb = 'x0'` および `ub = 1` を設定します。機能の削除も許可するには、「lb = 0」を設定します。\n"
      ]
    },
    {
      "cell_type": "code",
      "execution_count": 72,
      "metadata": {
        "id": "KfnT--V8YwSY"
      },
      "outputs": [],
      "source": [
        "# 攻撃パラメータ\n",
        "params = {\n",
        "    \"classifier\": clf,\n",
        "    \"distance\": 'l1',\n",
        "    \"double_init\": False,\n",
        "    \"lb\": 'x0',\n",
        "    \"ub\": 1,\n",
        "    \"attack_classes\": 'all',\n",
        "    \"y_target\": 0,\n",
        "    \"solver_params\": {'eta': 1, 'eta_min': 1, 'eta_max': None, 'eps': 1e-4}\n",
        "}\n",
        "\n",
        "from secml.adv.attacks.evasion import CAttackEvasionPGDLS\n",
        "\n",
        "evasion = CAttackEvasionPGDLS(**params)"
      ]
    },
    {
      "cell_type": "markdown",
      "metadata": {
        "id": "OBPG8UJmYwSZ"
      },
      "source": [
        "### Section3-4. セキュリティ評価\n",
        "\n",
        "増加する変更 (追加) 機能に対する Android マルウェア検出器の堅牢性を評価するために、SecML は、`CSecEval` クラスを使用して **セキュリティ評価曲線** を簡単に作成する方法を提供してくれます。\n",
        "\n",
        "`CSecEval` インスタンスは、L1 次摂動 `eps` の値を増加させて分類に対して回避攻撃を実行します。\n",
        "\n",
        "このプロセスは、スパース データで実行するように最適化されているため、`C AttackEvasionPGDLS` 攻撃を使用して *100 万以上の機能* を処理しているにもかかわらず、約 60 秒程度で処理が完了します。"
      ]
    },
    {
      "cell_type": "code",
      "execution_count": 73,
      "metadata": {
        "pycharm": {
          "is_executing": true
        },
        "id": "aUHwlTvmYwSZ",
        "outputId": "f881f18c-010d-4192-af87-42fc34e994a3",
        "colab": {
          "base_uri": "https://localhost:8080/"
        }
      },
      "outputs": [
        {
          "output_type": "stream",
          "name": "stdout",
          "text": [
            "Running security evaluation...\n",
            "Security evaluation completed!\n"
          ]
        }
      ],
      "source": [
        "n_mal = 10\n",
        "\n",
        "# Attack DS\n",
        "mal_idx = ts.Y.find(ts.Y == 1)[:n_mal]\n",
        "adv_ds = ts[mal_idx, :]\n",
        "\n",
        "# セキュリティ評価のための設定\n",
        "param_name = 'dmax'  # This is the `eps` parameter\n",
        "dmax_start = 0\n",
        "dmax = 28\n",
        "dmax_step = 4\n",
        "\n",
        "from secml.array import CArray\n",
        "\n",
        "param_values = CArray.arange(\n",
        "    start=dmax_start, step=dmax_step, stop=dmax + dmax_step)\n",
        "\n",
        "from secml.adv.seceval import CSecEval\n",
        "\n",
        "sec_eval = CSecEval(\n",
        "    attack=evasion,\n",
        "    param_name=param_name,\n",
        "    param_values=param_values)\n",
        "\n",
        "print(\"Running security evaluation...\")\n",
        "sec_eval.run_sec_eval(adv_ds)\n",
        "print(\"Security evaluation completed!\")"
      ]
    },
    {
      "cell_type": "code",
      "execution_count": 80,
      "metadata": {
        "pycharm": {
          "is_executing": true
        },
        "id": "UKNVWqzpYwSZ",
        "outputId": "cbb7ecc1-5ac4-4078-ff5c-13825fa01fc7",
        "colab": {
          "base_uri": "https://localhost:8080/",
          "height": 495
        }
      },
      "outputs": [
        {
          "output_type": "display_data",
          "data": {
            "text/plain": [
              "<Figure size 500x500 with 1 Axes>"
            ],
            "image/png": "[encoded data removed]"
          },
          "metadata": {}
        }
      ],
      "source": [
        "from secml.figure import CFigure\n",
        "fig = CFigure(height=5, width=5)\n",
        "\n",
        "from secml.ml.peval.metrics import CMetricTHatFPR, CMetricTPRatTH\n",
        "# ノートブックでの視覚化\n",
        "#%matplotlib inline\n",
        "\n",
        "# 検出率を計算する必要がある ROC しきい値を取得\n",
        "th = CMetricTHatFPR(fpr=fpr_th).performance_score(y_true=ts.Y, score=score_pred[:, 1].ravel())\n",
        "\n",
        "# セキュリティ評価曲線を描くための機能\n",
        "fig.sp.plot_sec_eval(sec_eval.sec_eval_data, metric=CMetricTPRatTH(th=th),\n",
        "                     percentage=True, label='SVM', color='green', marker='o')\n",
        "fig.sp.ylabel(r'Detection Rate $(\\%)$')\n",
        "fig.sp.xlabel(r\"$\\varepsilon$\")"
      ]
    },
    {
      "cell_type": "markdown",
      "metadata": {
        "id": "PIhzXQhTYwSZ"
      },
      "source": [
        "SVM 分類器に基づくこのマルウェア検出器がどのように敵対的攻撃に対して脆弱であるか、および *10 未満の機能を変更した後*、悪意のあるサンプルの半分が誤って安全なアプリケーションとして分類されてしまっていることがわかりました。この既知の脆弱性は、影響力の高い機能をリストした際にも 強調されており、*関連性のほとんどは非常に限定された機能セットに与えられている*ことがわかりました。"
      ]
    },
    {
      "cell_type": "code",
      "source": [],
      "metadata": {
        "id": "OzVsRKAZchhP"
      },
      "execution_count": null,
      "outputs": []
    },
    {
      "cell_type": "code",
      "source": [],
      "metadata": {
        "id": "fP43tQvPchkQ"
      },
      "execution_count": null,
      "outputs": []
    }
  ]
}